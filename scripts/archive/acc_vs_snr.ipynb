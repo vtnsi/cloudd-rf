{
 "cells": [
  {
   "cell_type": "markdown",
   "id": "065f6c32-fa79-4a40-b413-b12089091c59",
   "metadata": {
    "tags": []
   },
   "source": [
    "## Load Models"
   ]
  },
  {
   "cell_type": "code",
   "execution_count": 7,
   "id": "be27e850-84d9-4d24-8a54-806b8a273dfa",
   "metadata": {
    "collapsed": true,
    "jupyter": {
     "outputs_hidden": true
    },
    "tags": []
   },
   "outputs": [
    {
     "name": "stdout",
     "output_type": "stream",
     "text": [
      "Using device cuda\n"
     ]
    },
    {
     "name": "stderr",
     "output_type": "stream",
     "text": [
      "/tmp/ipykernel_440/1760738631.py:21: FutureWarning: You are using `torch.load` with `weights_only=False` (the current default value), which uses the default pickle module implicitly. It is possible to construct malicious pickle data which will execute arbitrary code during unpickling (See https://github.com/pytorch/pytorch/blob/main/SECURITY.md#untrusted-models for more details). In a future release, the default value for `weights_only` will be flipped to `True`. This limits the functions that could be executed during unpickling. Arbitrary objects will no longer be allowed to be loaded via this mode unless they are explicitly allowlisted by the user via `torch.serialization.add_safe_globals`. We recommend you start setting `weights_only=True` for any use case where you don't have full control of the loaded file. Please open an issue on GitHub for any issues related to this experimental feature.\n",
      "  team1_model.load_state_dict(torch.load('../data/summer_models/team1_model.pt', map_location=torch.device('cpu')))\n"
     ]
    },
    {
     "name": "stdout",
     "output_type": "stream",
     "text": [
      "loaded team1\n",
      "loaded team2\n",
      "loaded team3\n"
     ]
    },
    {
     "name": "stderr",
     "output_type": "stream",
     "text": [
      "/tmp/ipykernel_440/1760738631.py:27: FutureWarning: You are using `torch.load` with `weights_only=False` (the current default value), which uses the default pickle module implicitly. It is possible to construct malicious pickle data which will execute arbitrary code during unpickling (See https://github.com/pytorch/pytorch/blob/main/SECURITY.md#untrusted-models for more details). In a future release, the default value for `weights_only` will be flipped to `True`. This limits the functions that could be executed during unpickling. Arbitrary objects will no longer be allowed to be loaded via this mode unless they are explicitly allowlisted by the user via `torch.serialization.add_safe_globals`. We recommend you start setting `weights_only=True` for any use case where you don't have full control of the loaded file. Please open an issue on GitHub for any issues related to this experimental feature.\n",
      "  team2_model.load_state_dict(torch.load('../data/summer_models/team2_model.pt', map_location=torch.device('cpu')))\n",
      "/tmp/ipykernel_440/1760738631.py:32: FutureWarning: You are using `torch.load` with `weights_only=False` (the current default value), which uses the default pickle module implicitly. It is possible to construct malicious pickle data which will execute arbitrary code during unpickling (See https://github.com/pytorch/pytorch/blob/main/SECURITY.md#untrusted-models for more details). In a future release, the default value for `weights_only` will be flipped to `True`. This limits the functions that could be executed during unpickling. Arbitrary objects will no longer be allowed to be loaded via this mode unless they are explicitly allowlisted by the user via `torch.serialization.add_safe_globals`. We recommend you start setting `weights_only=True` for any use case where you don't have full control of the loaded file. Please open an issue on GitHub for any issues related to this experimental feature.\n",
      "  team3_model.load_state_dict(torch.load('../data/summer_models/team3_model.pt', map_location=torch.device('cpu')))\n",
      "/tmp/ipykernel_440/1760738631.py:37: FutureWarning: You are using `torch.load` with `weights_only=False` (the current default value), which uses the default pickle module implicitly. It is possible to construct malicious pickle data which will execute arbitrary code during unpickling (See https://github.com/pytorch/pytorch/blob/main/SECURITY.md#untrusted-models for more details). In a future release, the default value for `weights_only` will be flipped to `True`. This limits the functions that could be executed during unpickling. Arbitrary objects will no longer be allowed to be loaded via this mode unless they are explicitly allowlisted by the user via `torch.serialization.add_safe_globals`. We recommend you start setting `weights_only=True` for any use case where you don't have full control of the loaded file. Please open an issue on GitHub for any issues related to this experimental feature.\n",
      "  team4_model.load_state_dict(torch.load('../data/summer_models/team4_model.pt', map_location=torch.device('cpu')))\n"
     ]
    },
    {
     "name": "stdout",
     "output_type": "stream",
     "text": [
      "loaded team4\n",
      "loaded baseline fused model\n",
      "loaded RL fused model\n",
      "loaded RFE fused model\n"
     ]
    }
   ],
   "source": [
    "sig_types = [['2-ASK', ['ask', 2], 0],\n",
    "             ['4-ASK', ['ask', 4], 1],\n",
    "             ['8-ASK', ['ask', 8], 2],\n",
    "             ['BPSK', ['psk', 2], 3],\n",
    "             ['QPSK', ['psk', 4], 4],\n",
    "             ['16-QAM', ['qam', 16], 5],\n",
    "             ['Tone', ['constant'], 6],\n",
    "             ['P-FMCW', ['p_fmcw'], 7]]\n",
    "num_classes = len(sig_types)\n",
    "sig_names = [i[0] for i in sig_types]\n",
    "\n",
    "device = \"cuda\" if torch.cuda.is_available() else \"cpu\"\n",
    "print('Using device', device)\n",
    "\n",
    "TEAM1_OBS_INT = 2048\n",
    "TEAM2_OBS_INT = 1024\n",
    "TEAM3_OBS_INT = 512\n",
    "TEAM4_OBS_INT = 256\n",
    "\n",
    "team1_model = Team1Model(num_classes)\n",
    "team1_model.load_state_dict(torch.load('../data/summer_models/team1_model.pt', map_location=torch.device('cpu')))\n",
    "team1_model.eval()\n",
    "team1_model.to(device)\n",
    "print (\"loaded team1\")\n",
    "\n",
    "team2_model = Team2Model(num_classes)\n",
    "team2_model.load_state_dict(torch.load('../data/summer_models/team2_model.pt', map_location=torch.device('cpu')))\n",
    "team2_model.eval()\n",
    "team2_model.to(device)\n",
    "print (\"loaded team2\")\n",
    "team3_model = Team3Model(num_classes)\n",
    "team3_model.load_state_dict(torch.load('../data/summer_models/team3_model.pt', map_location=torch.device('cpu')))\n",
    "team3_model.eval()\n",
    "team3_model.to(device)\n",
    "print (\"loaded team3\")\n",
    "team4_model = Team4Model(num_classes)\n",
    "team4_model.load_state_dict(torch.load('../data/summer_models/team4_model.pt', map_location=torch.device('cpu')))\n",
    "team4_model.eval()\n",
    "team4_model.to(device)\n",
    "print (\"loaded team4\")\n",
    "\n",
    "# Load regular fused model\n",
    "reg_fused_model = xgb.XGBClassifier(tree_method=\"hist\")\n",
    "reg_fused_model.load_model('../data/summer_models/baseline_fused_2tl.json')\n",
    "print('loaded baseline fused model')\n",
    "\n",
    "# Load RL fused model\n",
    "rl_fused_model = xgb.XGBClassifier(tree_method=\"hist\", early_stopping_rounds=2, n_estimators=5)\n",
    "rl_fused_model.load_model('../data/summer_models/rl_fused_2tl.json')\n",
    "with open('../data/summer_models/rl_feature_idxes_2tl.pkl', 'rb') as f:\n",
    "    rl_feature_idxes = pickle.load(f)\n",
    "print('loaded RL fused model')\n",
    "\n",
    "# Load RFE fused model\n",
    "rfe_fused_model = xgb.XGBClassifier(tree_method=\"hist\", early_stopping_rounds=2)\n",
    "rfe_fused_model.load_model('../data/summer_models/rfe_fused_2tl.json')\n",
    "with open('../data/summer_models/rfe_feature_idxes_2tl.pkl', 'rb') as f:\n",
    "    rfe_feature_idxes = pickle.load(f)\n",
    "print('loaded RFE fused model')"
   ]
  },
  {
   "cell_type": "code",
   "execution_count": 8,
   "id": "a4245a28-ea4d-44ba-a961-0a0313651be2",
   "metadata": {
    "tags": []
   },
   "outputs": [],
   "source": [
    "team1_test_dir = os.path.join('../data/dataset', 'team1', 'test')\n",
    "team2_test_dir = os.path.join('../data/dataset', 'team2', 'test')\n",
    "team3_test_dir = os.path.join('../data/dataset', 'team3', 'test')\n",
    "team4_test_dir = os.path.join('../data/dataset', 'team4', 'test')\n",
    "\n",
    "team1_selected_layer = getattr(team1_model, \"fc3\")\n",
    "team2_selected_layer = getattr(team2_model, \"fc1\")\n",
    "team3_selected_layer = getattr(team3_model, \"fc3\")\n",
    "team4_selected_layer = getattr(team4_model, \"fc2\")\n",
    "\n",
    "NUM_FEATS_T1 = 65\n",
    "NUM_FEATS_T2 = 512\n",
    "NUM_FEATS_T3 = 64\n",
    "NUM_FEATS_T4 = 256\n",
    "\n",
    "num_batches = 1\n",
    "CHUNK_SIZE = 5000\n",
    "num_examples = num_batches * CHUNK_SIZE"
   ]
  },
  {
   "cell_type": "markdown",
   "id": "d184d395-9ee1-4751-8809-e98db0f775e9",
   "metadata": {},
   "source": [
    "## Helper functions"
   ]
  },
  {
   "cell_type": "code",
   "execution_count": 9,
   "id": "67520e2d-b297-459e-add5-c0217fc8f7d6",
   "metadata": {
    "tags": []
   },
   "outputs": [],
   "source": [
    "MODELS_OBS_INT = 2048\n",
    "def load_data(channel_path, batch_size, num_batches, num_train_examples, data_obs_int):\n",
    "    training_data = np.zeros((num_train_examples, 1, 2, MODELS_OBS_INT), dtype=np.float32)\n",
    "\n",
    "    last_index = 0\n",
    "    for k in range(num_batches):\n",
    "        # This is used if we have a labeldata folder that stores class labels\n",
    "        label_df = pd.read_csv(f\"{channel_path}/labeldata/example_{k + 1}.csv\")\n",
    "\n",
    "        num_nans = 0\n",
    "        iq_file_name = f\"{channel_path}/iqdata/example_{k + 1}.dat\"\n",
    "        iq_data = np.fromfile(iq_file_name, np.csingle)\n",
    "        iq_data = np.reshape(iq_data, (-1, data_obs_int))  # Turn the IQ data into chunks of (chunk size) x (data_obs_int)\n",
    "        for j in range(iq_data.shape[0]):\n",
    "            # Check if the current row contains NaN values\n",
    "            if np.isnan(np.sum(iq_data[j][:])):    \n",
    "                num_nans += 1\n",
    "            else:\n",
    "                iq_array_norm = iq_data[j][:] / np.max(np.abs(iq_data[j][:]))  # Normalize the observation\n",
    "                iq_array = np.vstack((iq_array_norm.real, iq_array_norm.imag))  # Separate into 2 subarrays - 1 with only real (in-phase), the other only imaginary (quadrature)\n",
    "\n",
    "                # Pad the iq array with zeros to meet the observation length requirement\n",
    "                # This is needed because the CNN models have a fixed input size\n",
    "                iq_array = np.pad(iq_array, ((0, 0), (0, MODELS_OBS_INT - iq_array[0].size)), mode='constant', constant_values=0)\n",
    "\n",
    "                training_data[last_index, 0, :, :] = iq_array\n",
    "            last_index += 1\n",
    "        \n",
    "        if num_nans > 0:\n",
    "            print(f'Found {num_nans} rows containing NaNs in {iq_file_name}')\n",
    "    return torch.utils.data.DataLoader([training_data[i] for i in range(num_train_examples)], batch_size=batch_size, shuffle=False)\n",
    "\n",
    "def load_labels(channel_path, batch_size, num_batches, num_train_examples, data_obs_int):\n",
    "    training_labels = torch.stack([torch.nn.functional.one_hot(torch.tensor(pd.read_csv(os.path.join(channel_path, f'labeldata/example_{i+1}.csv')).iloc[:,0])) for i in range(num_batches)])\n",
    "    return training_labels\n",
    "\n",
    "def get_features(name):\n",
    "    def hook(model, input, output):\n",
    "        features[name] = output.detach()\n",
    "    return hook"
   ]
  },
  {
   "cell_type": "markdown",
   "id": "398e54b8-2bed-490e-a528-97d62d1802ea",
   "metadata": {},
   "source": [
    "## Plot accuracy vs SNR"
   ]
  },
  {
   "cell_type": "code",
   "execution_count": 10,
   "id": "0b4e60e2-75ef-4dca-98bd-c079bf6fcd70",
   "metadata": {
    "collapsed": true,
    "jupyter": {
     "outputs_hidden": true
    },
    "tags": []
   },
   "outputs": [
    {
     "name": "stdout",
     "output_type": "stream",
     "text": [
      "Loaded data for SNR 3\n",
      "Number of missing labels: 0\n",
      "Processing data...\n"
     ]
    },
    {
     "name": "stderr",
     "output_type": "stream",
     "text": [
      "Team 1: 5000it [00:02, 2367.45it/s]\n",
      "Team 2: 5000it [00:02, 2179.86it/s]\n",
      "Team 3: 5000it [00:01, 4433.60it/s]\n",
      "Team 4: 5000it [00:02, 2392.56it/s]\n"
     ]
    },
    {
     "name": "stdout",
     "output_type": "stream",
     "text": [
      "Loaded data for SNR 6\n",
      "Number of missing labels: 0\n",
      "Processing data...\n"
     ]
    },
    {
     "name": "stderr",
     "output_type": "stream",
     "text": [
      "Team 1: 5000it [00:01, 2879.48it/s]\n",
      "Team 2: 5000it [00:02, 2250.30it/s]\n",
      "Team 3: 5000it [00:02, 2228.83it/s]\n",
      "Team 4: 5000it [00:02, 2322.71it/s]\n"
     ]
    },
    {
     "name": "stdout",
     "output_type": "stream",
     "text": [
      "Loaded data for SNR 7\n",
      "Number of missing labels: 0\n",
      "Processing data...\n"
     ]
    },
    {
     "name": "stderr",
     "output_type": "stream",
     "text": [
      "Team 1: 5000it [00:01, 2855.78it/s]\n",
      "Team 2: 5000it [00:02, 2258.98it/s]\n",
      "Team 3: 5000it [00:01, 4373.85it/s]\n",
      "Team 4: 5000it [00:02, 1960.72it/s]\n"
     ]
    },
    {
     "name": "stdout",
     "output_type": "stream",
     "text": [
      "Loaded data for SNR 9\n",
      "Number of missing labels: 0\n",
      "Processing data...\n"
     ]
    },
    {
     "name": "stderr",
     "output_type": "stream",
     "text": [
      "Team 1: 5000it [00:01, 2890.89it/s]\n",
      "Team 2: 5000it [00:02, 2244.46it/s]\n",
      "Team 3: 5000it [00:01, 4240.41it/s]\n",
      "Team 4: 5000it [00:02, 1908.63it/s]\n"
     ]
    },
    {
     "name": "stdout",
     "output_type": "stream",
     "text": [
      "Loaded data for SNR 12\n",
      "Number of missing labels: 0\n",
      "Processing data...\n"
     ]
    },
    {
     "name": "stderr",
     "output_type": "stream",
     "text": [
      "Team 1: 5000it [00:01, 2817.20it/s]\n",
      "Team 2: 5000it [00:02, 1809.77it/s]\n",
      "Team 3: 5000it [00:01, 3823.49it/s]\n",
      "Team 4: 5000it [00:03, 1630.18it/s]\n"
     ]
    },
    {
     "name": "stdout",
     "output_type": "stream",
     "text": [
      "Loaded data for SNR 4\n",
      "Number of missing labels: 0\n",
      "Processing data...\n"
     ]
    },
    {
     "name": "stderr",
     "output_type": "stream",
     "text": [
      "Team 1: 5000it [00:01, 2884.61it/s]\n",
      "Team 2: 5000it [00:02, 2120.88it/s]\n",
      "Team 3: 5000it [00:01, 4149.63it/s]\n",
      "Team 4: 5000it [00:02, 2497.77it/s]\n"
     ]
    },
    {
     "name": "stdout",
     "output_type": "stream",
     "text": [
      "Loaded data for SNR 0\n",
      "Number of missing labels: 0\n",
      "Processing data...\n"
     ]
    },
    {
     "name": "stderr",
     "output_type": "stream",
     "text": [
      "Team 1: 5000it [00:01, 2818.27it/s]\n",
      "Team 2: 5000it [00:02, 1839.95it/s]\n",
      "Team 3: 5000it [00:01, 4343.52it/s]\n",
      "Team 4: 5000it [00:01, 2576.70it/s]\n"
     ]
    },
    {
     "name": "stdout",
     "output_type": "stream",
     "text": [
      "Loaded data for SNR 11\n",
      "Number of missing labels: 0\n",
      "Processing data...\n"
     ]
    },
    {
     "name": "stderr",
     "output_type": "stream",
     "text": [
      "Team 1: 5000it [00:01, 2814.12it/s]\n",
      "Team 2: 5000it [00:02, 2033.24it/s]\n",
      "Team 3: 5000it [00:01, 4002.36it/s]\n",
      "Team 4: 5000it [00:01, 2527.30it/s]\n"
     ]
    },
    {
     "name": "stdout",
     "output_type": "stream",
     "text": [
      "Loaded data for SNR 13\n",
      "Number of missing labels: 0\n",
      "Processing data...\n"
     ]
    },
    {
     "name": "stderr",
     "output_type": "stream",
     "text": [
      "Team 1: 5000it [00:01, 2820.82it/s]\n",
      "Team 2: 5000it [00:02, 2222.58it/s]\n",
      "Team 3: 5000it [00:01, 4299.89it/s]\n",
      "Team 4: 5000it [00:01, 2552.88it/s]\n"
     ]
    },
    {
     "name": "stdout",
     "output_type": "stream",
     "text": [
      "Loaded data for SNR 10\n",
      "Number of missing labels: 0\n",
      "Processing data...\n"
     ]
    },
    {
     "name": "stderr",
     "output_type": "stream",
     "text": [
      "Team 1: 5000it [00:01, 2850.20it/s]\n",
      "Team 2: 5000it [00:03, 1663.73it/s]\n",
      "Team 3: 5000it [00:01, 4263.31it/s]\n",
      "Team 4: 5000it [00:01, 2519.66it/s]\n"
     ]
    },
    {
     "name": "stdout",
     "output_type": "stream",
     "text": [
      "Loaded data for SNR 8\n",
      "Number of missing labels: 0\n",
      "Processing data...\n"
     ]
    },
    {
     "name": "stderr",
     "output_type": "stream",
     "text": [
      "Team 1: 5000it [00:01, 2824.91it/s]\n",
      "Team 2: 5000it [00:03, 1624.58it/s]\n",
      "Team 3: 5000it [00:01, 3021.10it/s]\n",
      "Team 4: 5000it [00:03, 1581.60it/s]\n"
     ]
    },
    {
     "name": "stdout",
     "output_type": "stream",
     "text": [
      "Loaded data for SNR 2\n",
      "Number of missing labels: 0\n",
      "Processing data...\n"
     ]
    },
    {
     "name": "stderr",
     "output_type": "stream",
     "text": [
      "Team 1: 5000it [00:01, 2858.36it/s]\n",
      "Team 2: 5000it [00:02, 2182.35it/s]\n",
      "Team 3: 5000it [00:01, 2500.49it/s]\n",
      "Team 4: 5000it [00:02, 2469.84it/s]\n"
     ]
    },
    {
     "name": "stdout",
     "output_type": "stream",
     "text": [
      "Loaded data for SNR 5\n",
      "Number of missing labels: 0\n",
      "Processing data...\n"
     ]
    },
    {
     "name": "stderr",
     "output_type": "stream",
     "text": [
      "Team 1: 5000it [00:01, 2845.78it/s]\n",
      "Team 2: 5000it [00:02, 2201.19it/s]\n",
      "Team 3: 5000it [00:01, 3262.13it/s]\n",
      "Team 4: 5000it [00:02, 1915.08it/s]\n"
     ]
    },
    {
     "name": "stdout",
     "output_type": "stream",
     "text": [
      "Loaded data for SNR 14\n",
      "Number of missing labels: 0\n",
      "Processing data...\n"
     ]
    },
    {
     "name": "stderr",
     "output_type": "stream",
     "text": [
      "Team 1: 5000it [00:01, 2624.36it/s]\n",
      "Team 2: 5000it [00:03, 1369.39it/s]\n",
      "Team 3: 5000it [00:02, 2231.67it/s]\n",
      "Team 4: 5000it [00:03, 1543.97it/s]\n"
     ]
    },
    {
     "name": "stdout",
     "output_type": "stream",
     "text": [
      "Loaded data for SNR 1\n",
      "Number of missing labels: 0\n",
      "Processing data...\n"
     ]
    },
    {
     "name": "stderr",
     "output_type": "stream",
     "text": [
      "Team 1: 5000it [00:02, 2308.10it/s]\n",
      "Team 2: 5000it [00:02, 2167.65it/s]\n",
      "Team 3: 5000it [00:01, 3844.45it/s]\n",
      "Team 4: 5000it [00:02, 2440.10it/s]\n"
     ]
    },
    {
     "data": {
      "image/png": "[encoded data removed]",
      "text/plain": [
       "<Figure size 640x480 with 1 Axes>"
      ]
     },
     "metadata": {},
     "output_type": "display_data"
    },
    {
     "data": {
      "image/png": "[encoded data removed]",
      "text/plain": [
       "<Figure size 640x480 with 1 Axes>"
      ]
     },
     "metadata": {},
     "output_type": "display_data"
    }
   ],
   "source": [
    "team1_snr_dir = os.path.join(team1_test_dir, 'snr')\n",
    "team2_snr_dir = os.path.join(team2_test_dir, 'snr')\n",
    "team3_snr_dir = os.path.join(team3_test_dir, 'snr')\n",
    "team4_snr_dir = os.path.join(team4_test_dir, 'snr')\n",
    "\n",
    "snr_folder_names = []\n",
    "processed_snrs = []\n",
    "team1_accuracies = []\n",
    "team2_accuracies = []\n",
    "team3_accuracies = []\n",
    "team4_accuracies = []\n",
    "fused_accuracies = []\n",
    "\n",
    "# Iterate over every folder in the SNR directory\n",
    "for path, subdirs, files in os.walk(team1_snr_dir):\n",
    "    # If we're in the top-level SNR directory, get the values from all the folder names\n",
    "    if os.path.basename(path) == 'snr':\n",
    "        snr_folder_names = subdirs\n",
    "    elif os.path.basename(path) in snr_folder_names:\n",
    "        snr = int(os.path.basename(path))\n",
    "        \n",
    "        # Load the IQ and label data for this SNR\n",
    "        labels = load_labels(path, 1, num_batches, num_examples, MODELS_OBS_INT).numpy()\n",
    "        team1_dataloader = load_data(os.path.join(team1_snr_dir, str(snr)), 1, num_batches, num_examples, TEAM1_OBS_INT)\n",
    "        team2_dataloader = load_data(os.path.join(team2_snr_dir, str(snr)), 1, num_batches, num_examples, TEAM2_OBS_INT)\n",
    "        team3_dataloader = load_data(os.path.join(team3_snr_dir, str(snr)), 1, num_batches, num_examples, TEAM3_OBS_INT)\n",
    "        team4_dataloader = load_data(os.path.join(team4_snr_dir, str(snr)), 1, num_batches, num_examples, TEAM4_OBS_INT)\n",
    "        print(f'Loaded data for SNR {snr}')\n",
    "        \n",
    "        count_all_zeros = 0\n",
    "        labels = np.squeeze(labels)\n",
    "        for i in range(len(labels)):\n",
    "            if np.sum(labels[i]) == 0:\n",
    "                count_all_zeros += 1\n",
    "        print(\"Number of missing labels:\", count_all_zeros)\n",
    "        labels = np.argmax(labels, axis=1)\n",
    "        \n",
    "        print('Processing data...')\n",
    "        # Extract features from Team 1's model\n",
    "        team1_selected_layer.register_forward_hook(get_features('feats'))\n",
    "        team1_model.to(device)\n",
    "        team1_feats_list = []\n",
    "        team1_preds_list = []\n",
    "        features = {}\n",
    "        # Feed the IQ data into the model\n",
    "        for idx, inputs in tqdm(enumerate(team1_dataloader), desc='Team 1'):\n",
    "            with torch.inference_mode():\n",
    "                team1_preds_list.append(np.argmax(team1_model(inputs.to(device)).cpu().numpy(), axis=1)[0])\n",
    "            team1_feats_list.append(features['feats'].cpu().numpy())\n",
    "        team1_feats_list = np.concatenate(team1_feats_list)\n",
    "        features1 = np.array(team1_feats_list)\n",
    "        features1 = torch.tensor(features1)\n",
    "        features1 = features1.reshape(-1, features1.shape[-1])\n",
    "        if features1.shape[1] != NUM_FEATS_T1:\n",
    "            print(f'Error: Number of features extracted from team 1 model doesn\\'t match expected value ({NUM_FEATS_T1})')\n",
    "                \n",
    "        # Extract features from Team 2's model\n",
    "        team2_selected_layer.register_forward_hook(get_features('feats'))\n",
    "        team2_model.to(device)\n",
    "        team2_feats_list = []\n",
    "        team2_preds_list = []\n",
    "        features = {}\n",
    "        # Feed the IQ data into the model\n",
    "        for idx, inputs in tqdm(enumerate(team2_dataloader), desc='Team 2'):\n",
    "            with torch.inference_mode():\n",
    "                team2_preds_list.append(np.argmax(team2_model(inputs.to(device)).cpu().numpy(), axis=1)[0])\n",
    "            team2_feats_list.append(features['feats'].cpu().numpy())\n",
    "        team2_feats_list = np.concatenate(team2_feats_list)\n",
    "        features2 = np.array(team2_feats_list)\n",
    "        features2 = torch.tensor(features2)\n",
    "        features2 = features2.reshape(-1, features2.shape[-1])\n",
    "        if features2.shape[1] != NUM_FEATS_T2:\n",
    "            print(f'Error: Number of features extracted from team 2 model doesn\\'t match expected value ({NUM_FEATS_T2})')\n",
    "        \n",
    "        # Extract features from Team 3's model\n",
    "        team3_selected_layer.register_forward_hook(get_features('feats'))\n",
    "        team3_model.to(device)\n",
    "        team3_feats_list = []\n",
    "        team3_preds_list = []\n",
    "        features = {}\n",
    "        # Feed the IQ data into the model\n",
    "        for idx, inputs in tqdm(enumerate(team3_dataloader), desc='Team 3'):\n",
    "            with torch.inference_mode():\n",
    "                team3_preds_list.append(np.argmax(team3_model(inputs.to(device)).cpu().numpy(), axis=1)[0])\n",
    "            team3_feats_list.append(features['feats'].cpu().numpy())\n",
    "        team3_feats_list = np.concatenate(team3_feats_list)\n",
    "        features3 = np.array(team3_feats_list)\n",
    "        features3 = torch.tensor(features3)\n",
    "        features3 = features3.reshape(-1, features3.shape[-1])\n",
    "        if features3.shape[1] != NUM_FEATS_T3:\n",
    "            print(f'Error: Number of features extracted from team 3 model doesn\\'t match expected value ({NUM_FEATS_T3})')\n",
    "        \n",
    "        # Extract features from team 4's model\n",
    "        team4_selected_layer.register_forward_hook(get_features('feats'))\n",
    "        team4_model.to(device)\n",
    "        team4_feats_list = []\n",
    "        team4_preds_list = []\n",
    "        features = {}\n",
    "        # Feed the IQ data into the model\n",
    "        for idx, inputs in tqdm(enumerate(team4_dataloader), desc='Team 4'):\n",
    "            with torch.inference_mode():\n",
    "                team4_preds_list.append(np.argmax(team4_model(inputs.to(device)).cpu().numpy(), axis=1)[0])\n",
    "            team4_feats_list.append(features['feats'].cpu().numpy())\n",
    "        team4_feats_list = np.concatenate(team4_feats_list)\n",
    "        features4 = np.array(team4_feats_list)\n",
    "        features4 = torch.tensor(features4)\n",
    "        features4 = features4.reshape(-1, features4.shape[-1])\n",
    "        if features4.shape[1] != NUM_FEATS_T4:\n",
    "            print(f'Error: Number of features extracted from team 4 model doesn\\'t match expected value ({NUM_FEATS_T4})')\n",
    "        \n",
    "        combined_tensor = torch.cat((features1, features2, features3, features4), dim=1)\n",
    "        \n",
    "        # Create baseline fused model\n",
    "        train_data, validation_data, train_labels, validation_labels = train_test_split(combined_tensor, labels, test_size=0.2)\n",
    "        fused_model = xgb.XGBClassifier(tree_method=\"hist\", early_stopping_rounds=2, n_estimators=5)\n",
    "        fused_model.fit(train_data, train_labels, eval_set=[(validation_data, validation_labels)], verbose=0)\n",
    "\n",
    "        fused_model_out = fused_model.predict(validation_data)\n",
    "        num_correct = np.sum(fused_model_out == validation_labels)\n",
    "        num_validation_labels = validation_labels.shape[0]\n",
    "        fused_model_accuracy = num_correct / num_validation_labels\n",
    "        fused_accuracies.append(fused_model_accuracy)\n",
    "        \n",
    "        # Get accuracy values\n",
    "        team1_accuracies.append(np.sum(np.array(team1_preds_list) == labels) / len(labels))\n",
    "        team2_accuracies.append(np.sum(np.array(team2_preds_list) == labels) / len(labels))\n",
    "        team3_accuracies.append(np.sum(np.array(team3_preds_list) == labels) / len(labels))\n",
    "        team4_accuracies.append(np.sum(np.array(team4_preds_list) == labels) / len(labels))\n",
    "            \n",
    "        processed_snrs.append(snr)\n",
    "\n",
    "# Create the accuracy plots\n",
    "df = pd.DataFrame(\n",
    "    {'snr': processed_snrs,\n",
    "        'Model 1': team1_accuracies,\n",
    "        'Model 2': team2_accuracies,\n",
    "        'Model 3': team3_accuracies,\n",
    "        'Model 4': team4_accuracies,\n",
    "        'Fused Model': fused_accuracies\n",
    "    })\n",
    "df.sort_values(by=['snr'], inplace=True)\n",
    "df.plot.line(x='snr')\n",
    "\n",
    "plt.ylabel('Average Probability of Correct Classification')\n",
    "plt.xlabel('Signal-to-Noise Ratio (dB)')\n",
    "plt.title('Accuracy vs. SNR')\n",
    "plt.savefig('../data/fusion_plots/accuracy_vs_nuisance_params/snr_with_fused.png')\n",
    "plt.show()\n",
    "\n",
    "df = pd.DataFrame(\n",
    "    {'snr': processed_snrs,\n",
    "        'Model 1': team1_accuracies,\n",
    "        'Model 2': team2_accuracies,\n",
    "        'Model 3': team3_accuracies,\n",
    "        'Model 4': team4_accuracies\n",
    "    })\n",
    "df.sort_values(by=['snr'], inplace=True)\n",
    "df.plot.line(x='snr')\n",
    "plt.ylabel('Average Probability of Correct Classification')\n",
    "plt.xlabel('Signal-to-Noise Ratio (dB)')\n",
    "plt.title('Accuracy vs. SNR')\n",
    "plt.savefig('../data/fusion_plots/accuracy_vs_nuisance_params/snr.png')\n",
    "plt.show()\n"
   ]
  },
  {
   "cell_type": "markdown",
   "id": "49276db7-a1e6-4027-86a0-83da7600c27b",
   "metadata": {},
   "source": [
    "## Plot accuracy vs bandwidth"
   ]
  },
  {
   "cell_type": "code",
   "execution_count": 11,
   "id": "f3139e9e-9f7c-433f-80c5-4da5bc5c9eb3",
   "metadata": {
    "collapsed": true,
    "jupyter": {
     "outputs_hidden": true
    },
    "tags": []
   },
   "outputs": [
    {
     "name": "stdout",
     "output_type": "stream",
     "text": [
      "Found 4 rows containing NaNs in ../data/dataset/team3/test/bandwidths/0.095/iqdata/example_1.dat\n",
      "Found 4 rows containing NaNs in ../data/dataset/team4/test/bandwidths/0.095/iqdata/example_1.dat\n",
      "Loaded data for bandwidth 0.095\n",
      "Number of missing labels: 0\n",
      "Processing data...\n"
     ]
    },
    {
     "name": "stderr",
     "output_type": "stream",
     "text": [
      "Team 1: 5000it [00:01, 2522.21it/s]\n",
      "Team 2: 5000it [00:03, 1315.68it/s]\n",
      "Team 3: 5000it [00:01, 4003.77it/s]\n",
      "Team 4: 5000it [00:01, 2503.01it/s]\n"
     ]
    },
    {
     "name": "stdout",
     "output_type": "stream",
     "text": [
      "Loaded data for bandwidth 0.41\n",
      "Number of missing labels: 0\n",
      "Processing data...\n"
     ]
    },
    {
     "name": "stderr",
     "output_type": "stream",
     "text": [
      "Team 1: 5000it [00:01, 2888.49it/s]\n",
      "Team 2: 5000it [00:02, 2248.79it/s]\n",
      "Team 3: 5000it [00:01, 3628.73it/s]\n",
      "Team 4: 5000it [00:01, 2561.56it/s]\n"
     ]
    },
    {
     "name": "stdout",
     "output_type": "stream",
     "text": [
      "Found 1 rows containing NaNs in ../data/dataset/team4/test/bandwidths/0.11750000000000001/iqdata/example_1.dat\n",
      "Loaded data for bandwidth 0.11750000000000001\n",
      "Number of missing labels: 0\n",
      "Processing data...\n"
     ]
    },
    {
     "name": "stderr",
     "output_type": "stream",
     "text": [
      "Team 1: 5000it [00:01, 2853.46it/s]\n",
      "Team 2: 5000it [00:02, 2167.50it/s]\n",
      "Team 3: 5000it [00:01, 4118.94it/s]\n",
      "Team 4: 5000it [00:02, 2473.18it/s]\n"
     ]
    },
    {
     "name": "stdout",
     "output_type": "stream",
     "text": [
      "Found 10 rows containing NaNs in ../data/dataset/team3/test/bandwidths/0.05/iqdata/example_1.dat\n",
      "Found 10 rows containing NaNs in ../data/dataset/team4/test/bandwidths/0.05/iqdata/example_1.dat\n",
      "Loaded data for bandwidth 0.05\n",
      "Number of missing labels: 0\n",
      "Processing data...\n"
     ]
    },
    {
     "name": "stderr",
     "output_type": "stream",
     "text": [
      "Team 1: 5000it [00:01, 2899.07it/s]\n",
      "Team 2: 5000it [00:02, 2235.15it/s]\n",
      "Team 3: 5000it [00:01, 4184.69it/s]\n",
      "Team 4: 5000it [00:01, 2539.89it/s]\n"
     ]
    },
    {
     "name": "stdout",
     "output_type": "stream",
     "text": [
      "Loaded data for bandwidth 0.2975\n",
      "Number of missing labels: 0\n",
      "Processing data...\n"
     ]
    },
    {
     "name": "stderr",
     "output_type": "stream",
     "text": [
      "Team 1: 5000it [00:01, 2866.70it/s]\n",
      "Team 2: 5000it [00:03, 1606.35it/s]\n",
      "Team 3: 5000it [00:01, 4100.67it/s]\n",
      "Team 4: 5000it [00:01, 2527.20it/s]\n"
     ]
    },
    {
     "name": "stdout",
     "output_type": "stream",
     "text": [
      "Loaded data for bandwidth 0.27499999999999997\n",
      "Number of missing labels: 0\n",
      "Processing data...\n"
     ]
    },
    {
     "name": "stderr",
     "output_type": "stream",
     "text": [
      "Team 1: 5000it [00:01, 2853.67it/s]\n",
      "Team 2: 5000it [00:02, 2245.82it/s]\n",
      "Team 3: 5000it [00:01, 4153.04it/s]\n",
      "Team 4: 5000it [00:01, 2541.39it/s]\n"
     ]
    },
    {
     "name": "stdout",
     "output_type": "stream",
     "text": [
      "Found 1 rows containing NaNs in ../data/dataset/team4/test/bandwidths/0.185/iqdata/example_1.dat\n",
      "Loaded data for bandwidth 0.185\n",
      "Number of missing labels: 0\n",
      "Processing data...\n"
     ]
    },
    {
     "name": "stderr",
     "output_type": "stream",
     "text": [
      "Team 1: 5000it [00:01, 2876.04it/s]\n",
      "Team 2: 5000it [00:02, 2235.96it/s]\n",
      "Team 3: 5000it [00:01, 4149.80it/s]\n",
      "Team 4: 5000it [00:01, 2563.61it/s]\n"
     ]
    },
    {
     "name": "stdout",
     "output_type": "stream",
     "text": [
      "Loaded data for bandwidth 0.5\n",
      "Number of missing labels: 0\n",
      "Processing data...\n"
     ]
    },
    {
     "name": "stderr",
     "output_type": "stream",
     "text": [
      "Team 1: 5000it [00:01, 2845.03it/s]\n",
      "Team 2: 5000it [00:02, 2266.32it/s]\n",
      "Team 3: 5000it [00:01, 4037.09it/s]\n",
      "Team 4: 5000it [00:01, 2569.59it/s]\n"
     ]
    },
    {
     "name": "stdout",
     "output_type": "stream",
     "text": [
      "Loaded data for bandwidth 0.4775\n",
      "Number of missing labels: 0\n",
      "Processing data...\n"
     ]
    },
    {
     "name": "stderr",
     "output_type": "stream",
     "text": [
      "Team 1: 5000it [00:02, 1882.90it/s]\n",
      "Team 2: 5000it [00:02, 2234.31it/s]\n",
      "Team 3: 5000it [00:01, 4026.53it/s]\n",
      "Team 4: 5000it [00:01, 2546.45it/s]\n"
     ]
    },
    {
     "name": "stdout",
     "output_type": "stream",
     "text": [
      "Loaded data for bandwidth 0.20750000000000002\n",
      "Number of missing labels: 0\n",
      "Processing data...\n"
     ]
    },
    {
     "name": "stderr",
     "output_type": "stream",
     "text": [
      "Team 1: 5000it [00:01, 2812.32it/s]\n",
      "Team 2: 5000it [00:02, 2208.04it/s]\n",
      "Team 3: 5000it [00:01, 4129.49it/s]\n",
      "Team 4: 5000it [00:01, 2551.10it/s]\n"
     ]
    },
    {
     "name": "stdout",
     "output_type": "stream",
     "text": [
      "Found 2 rows containing NaNs in ../data/dataset/team3/test/bandwidths/0.07250000000000001/iqdata/example_1.dat\n",
      "Found 5 rows containing NaNs in ../data/dataset/team4/test/bandwidths/0.07250000000000001/iqdata/example_1.dat\n",
      "Loaded data for bandwidth 0.07250000000000001\n",
      "Number of missing labels: 0\n",
      "Processing data...\n"
     ]
    },
    {
     "name": "stderr",
     "output_type": "stream",
     "text": [
      "Team 1: 5000it [00:01, 2825.14it/s]\n",
      "Team 2: 5000it [00:03, 1593.50it/s]\n",
      "Team 3: 5000it [00:02, 2206.26it/s]\n",
      "Team 4: 5000it [00:02, 2406.73it/s]\n"
     ]
    },
    {
     "name": "stdout",
     "output_type": "stream",
     "text": [
      "Loaded data for bandwidth 0.2525\n",
      "Number of missing labels: 0\n",
      "Processing data...\n"
     ]
    },
    {
     "name": "stderr",
     "output_type": "stream",
     "text": [
      "Team 1: 5000it [00:01, 2850.46it/s]\n",
      "Team 2: 5000it [00:02, 2213.53it/s]\n",
      "Team 3: 5000it [00:01, 4014.23it/s]\n",
      "Team 4: 5000it [00:01, 2583.77it/s]\n"
     ]
    },
    {
     "name": "stdout",
     "output_type": "stream",
     "text": [
      "Loaded data for bandwidth 0.32\n",
      "Number of missing labels: 0\n",
      "Processing data...\n"
     ]
    },
    {
     "name": "stderr",
     "output_type": "stream",
     "text": [
      "Team 1: 5000it [00:01, 2674.08it/s]\n",
      "Team 2: 5000it [00:02, 2218.23it/s]\n",
      "Team 3: 5000it [00:01, 2610.07it/s]\n",
      "Team 4: 5000it [00:01, 2578.62it/s]\n"
     ]
    },
    {
     "name": "stdout",
     "output_type": "stream",
     "text": [
      "Loaded data for bandwidth 0.22999999999999998\n",
      "Number of missing labels: 0\n",
      "Processing data...\n"
     ]
    },
    {
     "name": "stderr",
     "output_type": "stream",
     "text": [
      "Team 1: 5000it [00:01, 2871.38it/s]\n",
      "Team 2: 5000it [00:03, 1624.83it/s]\n",
      "Team 3: 5000it [00:01, 3995.58it/s]\n",
      "Team 4: 5000it [00:01, 2550.45it/s]\n"
     ]
    },
    {
     "name": "stdout",
     "output_type": "stream",
     "text": [
      "Found 1 rows containing NaNs in ../data/dataset/team4/test/bandwidths/0.14/iqdata/example_1.dat\n",
      "Loaded data for bandwidth 0.14\n",
      "Number of missing labels: 0\n",
      "Processing data...\n"
     ]
    },
    {
     "name": "stderr",
     "output_type": "stream",
     "text": [
      "Team 1: 5000it [00:01, 2845.03it/s]\n",
      "Team 2: 5000it [00:03, 1594.49it/s]\n",
      "Team 3: 5000it [00:01, 4112.10it/s]\n",
      "Team 4: 5000it [00:01, 2550.00it/s]\n"
     ]
    },
    {
     "name": "stdout",
     "output_type": "stream",
     "text": [
      "Loaded data for bandwidth 0.365\n",
      "Number of missing labels: 0\n",
      "Processing data...\n"
     ]
    },
    {
     "name": "stderr",
     "output_type": "stream",
     "text": [
      "Team 1: 5000it [00:01, 2881.81it/s]\n",
      "Team 2: 5000it [00:02, 2259.18it/s]\n",
      "Team 3: 5000it [00:02, 2194.46it/s]\n",
      "Team 4: 5000it [00:02, 2290.85it/s]\n"
     ]
    },
    {
     "name": "stdout",
     "output_type": "stream",
     "text": [
      "Loaded data for bandwidth 0.34249999999999997\n",
      "Number of missing labels: 0\n",
      "Processing data...\n"
     ]
    },
    {
     "name": "stderr",
     "output_type": "stream",
     "text": [
      "Team 1: 5000it [00:01, 2893.72it/s]\n",
      "Team 2: 5000it [00:02, 2281.91it/s]\n",
      "Team 3: 5000it [00:01, 4144.87it/s]\n",
      "Team 4: 5000it [00:01, 2590.88it/s]\n"
     ]
    },
    {
     "name": "stdout",
     "output_type": "stream",
     "text": [
      "Loaded data for bandwidth 0.16249999999999998\n",
      "Number of missing labels: 0\n",
      "Processing data...\n"
     ]
    },
    {
     "name": "stderr",
     "output_type": "stream",
     "text": [
      "Team 1: 5000it [00:01, 2922.72it/s]\n",
      "Team 2: 5000it [00:02, 2247.66it/s]\n",
      "Team 3: 5000it [00:01, 3084.69it/s]\n",
      "Team 4: 5000it [00:01, 2559.13it/s]\n"
     ]
    },
    {
     "name": "stdout",
     "output_type": "stream",
     "text": [
      "Loaded data for bandwidth 0.4325\n",
      "Number of missing labels: 0\n",
      "Processing data...\n"
     ]
    },
    {
     "name": "stderr",
     "output_type": "stream",
     "text": [
      "Team 1: 5000it [00:01, 2549.94it/s]\n",
      "Team 2: 5000it [00:02, 2225.31it/s]\n",
      "Team 3: 5000it [00:01, 4061.71it/s]\n",
      "Team 4: 5000it [00:01, 2520.96it/s]\n"
     ]
    },
    {
     "name": "stdout",
     "output_type": "stream",
     "text": [
      "Loaded data for bandwidth 0.38749999999999996\n",
      "Number of missing labels: 0\n",
      "Processing data...\n"
     ]
    },
    {
     "name": "stderr",
     "output_type": "stream",
     "text": [
      "Team 1: 5000it [00:01, 2885.89it/s]\n",
      "Team 2: 5000it [00:02, 2250.33it/s]\n",
      "Team 3: 5000it [00:01, 4066.70it/s]\n",
      "Team 4: 5000it [00:01, 2572.04it/s]\n"
     ]
    },
    {
     "name": "stdout",
     "output_type": "stream",
     "text": [
      "Loaded data for bandwidth 0.45499999999999996\n",
      "Number of missing labels: 0\n",
      "Processing data...\n"
     ]
    },
    {
     "name": "stderr",
     "output_type": "stream",
     "text": [
      "Team 1: 5000it [00:01, 2899.34it/s]\n",
      "Team 2: 5000it [00:02, 2245.59it/s]\n",
      "Team 3: 5000it [00:01, 4038.90it/s]\n",
      "Team 4: 5000it [00:01, 2577.88it/s]\n"
     ]
    },
    {
     "data": {
      "image/png": "[encoded data removed]",
      "text/plain": [
       "<Figure size 640x480 with 1 Axes>"
      ]
     },
     "metadata": {},
     "output_type": "display_data"
    },
    {
     "data": {
      "image/png": "[encoded data removed]",
      "text/plain": [
       "<Figure size 640x480 with 1 Axes>"
      ]
     },
     "metadata": {},
     "output_type": "display_data"
    }
   ],
   "source": [
    "team1_bandwidth_dir = os.path.join(team1_test_dir, 'bandwidths')\n",
    "team2_bandwidth_dir = os.path.join(team2_test_dir, 'bandwidths')\n",
    "team3_bandwidth_dir = os.path.join(team3_test_dir, 'bandwidths')\n",
    "team4_bandwidth_dir = os.path.join(team4_test_dir, 'bandwidths')\n",
    "\n",
    "bandwidth_folder_names = []\n",
    "processed_bandwidths = []\n",
    "team1_accuracies = []\n",
    "team2_accuracies = []\n",
    "team3_accuracies = []\n",
    "team4_accuracies = []\n",
    "fused_accuracies = []\n",
    "\n",
    "# Iterate over every folder in the bandwidth directory\n",
    "for path, subdirs, files in os.walk(team1_bandwidth_dir):\n",
    "    # If we're in the top-level bandwidth directory, get the values from all the folder names\n",
    "    if os.path.basename(path) == 'bandwidths':\n",
    "        bandwidth_folder_names = subdirs\n",
    "    elif os.path.basename(path) in bandwidth_folder_names:\n",
    "        bandwidth = float(os.path.basename(path))\n",
    "        \n",
    "        # Load the IQ and label data for this bandwidth\n",
    "        labels = load_labels(path, 1, num_batches, num_examples, MODELS_OBS_INT).numpy()\n",
    "        team1_dataloader = load_data(os.path.join(team1_bandwidth_dir, str(bandwidth)), 1, num_batches, num_examples, TEAM1_OBS_INT)\n",
    "        team2_dataloader = load_data(os.path.join(team2_bandwidth_dir, str(bandwidth)), 1, num_batches, num_examples, TEAM2_OBS_INT)\n",
    "        team3_dataloader = load_data(os.path.join(team3_bandwidth_dir, str(bandwidth)), 1, num_batches, num_examples, TEAM3_OBS_INT)\n",
    "        team4_dataloader = load_data(os.path.join(team4_bandwidth_dir, str(bandwidth)), 1, num_batches, num_examples, TEAM4_OBS_INT)\n",
    "        print(f'Loaded data for bandwidth {bandwidth}')\n",
    "        \n",
    "        count_all_zeros = 0\n",
    "        labels = np.squeeze(labels)\n",
    "        for i in range(len(labels)):\n",
    "            if np.sum(labels[i]) == 0:\n",
    "                count_all_zeros += 1\n",
    "        print(\"Number of missing labels:\", count_all_zeros)\n",
    "        labels = np.argmax(labels, axis=1)\n",
    "        \n",
    "        print('Processing data...')\n",
    "        # Extract features from Team 1's model\n",
    "        team1_selected_layer.register_forward_hook(get_features('feats'))\n",
    "        team1_model.to(device)\n",
    "        team1_feats_list = []\n",
    "        team1_preds_list = []\n",
    "        features = {}\n",
    "        # Feed the IQ data into the model\n",
    "        for idx, inputs in tqdm(enumerate(team1_dataloader), desc='Team 1'):\n",
    "            with torch.inference_mode():\n",
    "                team1_preds_list.append(np.argmax(team1_model(inputs.to(device)).cpu().numpy(), axis=1)[0])\n",
    "            team1_feats_list.append(features['feats'].cpu().numpy())\n",
    "        team1_feats_list = np.concatenate(team1_feats_list)\n",
    "        features1 = np.array(team1_feats_list)\n",
    "        features1 = torch.tensor(features1)\n",
    "        features1 = features1.reshape(-1, features1.shape[-1])\n",
    "        if features1.shape[1] != NUM_FEATS_T1:\n",
    "            print(f'Error: Number of features extracted from team 1 model doesn\\'t match expected value ({NUM_FEATS_T1})')\n",
    "                \n",
    "        # Extract features from Team 2's model\n",
    "        team2_selected_layer.register_forward_hook(get_features('feats'))\n",
    "        team2_model.to(device)\n",
    "        team2_feats_list = []\n",
    "        team2_preds_list = []\n",
    "        features = {}\n",
    "        # Feed the IQ data into the model\n",
    "        for idx, inputs in tqdm(enumerate(team2_dataloader), desc='Team 2'):\n",
    "            with torch.inference_mode():\n",
    "                team2_preds_list.append(np.argmax(team2_model(inputs.to(device)).cpu().numpy(), axis=1)[0])\n",
    "            team2_feats_list.append(features['feats'].cpu().numpy())\n",
    "        team2_feats_list = np.concatenate(team2_feats_list)\n",
    "        features2 = np.array(team2_feats_list)\n",
    "        features2 = torch.tensor(features2)\n",
    "        features2 = features2.reshape(-1, features2.shape[-1])\n",
    "        if features2.shape[1] != NUM_FEATS_T2:\n",
    "            print(f'Error: Number of features extracted from team 2 model doesn\\'t match expected value ({NUM_FEATS_T2})')\n",
    "        \n",
    "        # Extract features from Team 3's model\n",
    "        team3_selected_layer.register_forward_hook(get_features('feats'))\n",
    "        team3_model.to(device)\n",
    "        team3_feats_list = []\n",
    "        team3_preds_list = []\n",
    "        features = {}\n",
    "        # Feed the IQ data into the model\n",
    "        for idx, inputs in tqdm(enumerate(team3_dataloader), desc='Team 3'):\n",
    "            with torch.inference_mode():\n",
    "                team3_preds_list.append(np.argmax(team3_model(inputs.to(device)).cpu().numpy(), axis=1)[0])\n",
    "            team3_feats_list.append(features['feats'].cpu().numpy())\n",
    "        team3_feats_list = np.concatenate(team3_feats_list)\n",
    "        features3 = np.array(team3_feats_list)\n",
    "        features3 = torch.tensor(features3)\n",
    "        features3 = features3.reshape(-1, features3.shape[-1])\n",
    "        if features3.shape[1] != NUM_FEATS_T3:\n",
    "            print(f'Error: Number of features extracted from team 3 model doesn\\'t match expected value ({NUM_FEATS_T3})')\n",
    "        \n",
    "        # Extract features from team 4's model\n",
    "        team4_selected_layer.register_forward_hook(get_features('feats'))\n",
    "        team4_model.to(device)\n",
    "        team4_feats_list = []\n",
    "        team4_preds_list = []\n",
    "        features = {}\n",
    "        # Feed the IQ data into the model\n",
    "        for idx, inputs in tqdm(enumerate(team4_dataloader), desc='Team 4'):\n",
    "            with torch.inference_mode():\n",
    "                team4_preds_list.append(np.argmax(team4_model(inputs.to(device)).cpu().numpy(), axis=1)[0])\n",
    "            team4_feats_list.append(features['feats'].cpu().numpy())\n",
    "        team4_feats_list = np.concatenate(team4_feats_list)\n",
    "        features4 = np.array(team4_feats_list)\n",
    "        features4 = torch.tensor(features4)\n",
    "        features4 = features4.reshape(-1, features4.shape[-1])\n",
    "        if features4.shape[1] != NUM_FEATS_T4:\n",
    "            print(f'Error: Number of features extracted from team 4 model doesn\\'t match expected value ({NUM_FEATS_T4})')\n",
    "        \n",
    "        combined_tensor = torch.cat((features1, features2, features3, features4), dim=1)\n",
    "        \n",
    "        # Create baseline fused model\n",
    "        train_data, validation_data, train_labels, validation_labels = train_test_split(combined_tensor, labels, test_size=0.2)\n",
    "        fused_model = xgb.XGBClassifier(tree_method=\"hist\", early_stopping_rounds=2, n_estimators=5)\n",
    "        fused_model.fit(train_data, train_labels, eval_set=[(validation_data, validation_labels)], verbose=0)\n",
    "\n",
    "        fused_model_out = fused_model.predict(validation_data)\n",
    "        num_correct = np.sum(fused_model_out == validation_labels)\n",
    "        num_validation_labels = validation_labels.shape[0]\n",
    "        fused_model_accuracy = num_correct / num_validation_labels\n",
    "        fused_accuracies.append(fused_model_accuracy)\n",
    "        \n",
    "        # Get accuracy values\n",
    "        team1_accuracies.append(np.sum(np.array(team1_preds_list) == labels) / len(labels))\n",
    "        team2_accuracies.append(np.sum(np.array(team2_preds_list) == labels) / len(labels))\n",
    "        team3_accuracies.append(np.sum(np.array(team3_preds_list) == labels) / len(labels))\n",
    "        team4_accuracies.append(np.sum(np.array(team4_preds_list) == labels) / len(labels))\n",
    "            \n",
    "        processed_bandwidths.append(bandwidth)\n",
    "\n",
    "# Create the accuracy plots\n",
    "df = pd.DataFrame(\n",
    "    {'bandwidth': processed_bandwidths,\n",
    "        'Model 1': team1_accuracies,\n",
    "        'Model 2': team2_accuracies,\n",
    "        'Model 3': team3_accuracies,\n",
    "        'Model 4': team4_accuracies,\n",
    "        'Fused Model': fused_accuracies\n",
    "    })\n",
    "df.sort_values(by=['bandwidth'], inplace=True)\n",
    "df.plot.line(x='bandwidth')\n",
    "\n",
    "plt.ylabel('Average Probability of Correct Classification')\n",
    "plt.xlabel('Bandwidth')\n",
    "plt.title('Accuracy vs. Bandwidth')\n",
    "plt.savefig('../data/fusion_plots/accuracy_vs_nuisance_params/bandwidth_with_fused.png')\n",
    "plt.show()\n",
    "\n",
    "df = pd.DataFrame(\n",
    "    {'bandwidth': processed_bandwidths,\n",
    "        'Model 1': team1_accuracies,\n",
    "        'Model 2': team2_accuracies,\n",
    "        'Model 3': team3_accuracies,\n",
    "        'Model 4': team4_accuracies\n",
    "    })\n",
    "df.sort_values(by=['bandwidth'], inplace=True)\n",
    "df.plot.line(x='bandwidth')\n",
    "\n",
    "plt.ylabel('Average Probability of Correct Classification')\n",
    "plt.xlabel('Bandwidth')\n",
    "plt.title('Accuracy vs. Bandwidth')\n",
    "plt.savefig('../data/fusion_plots/accuracy_vs_nuisance_params/bandwidth.png')\n",
    "plt.show()"
   ]
  },
  {
   "cell_type": "markdown",
   "id": "20a19d03-811a-4543-b0c6-bbc5ac957776",
   "metadata": {},
   "source": [
    "## Plot accuracy vs center frequency"
   ]
  },
  {
   "cell_type": "code",
   "execution_count": null,
   "id": "35b9fc99-5d12-49f6-9628-87200f2ef651",
   "metadata": {
    "collapsed": true,
    "jupyter": {
     "outputs_hidden": true
    },
    "scrolled": true,
    "tags": []
   },
   "outputs": [
    {
     "name": "stdout",
     "output_type": "stream",
     "text": [
      "Loaded data for center frequency -0.08\n",
      "Number of missing labels: 0\n",
      "Processing data...\n"
     ]
    },
    {
     "name": "stderr",
     "output_type": "stream",
     "text": [
      "Team 1: 5000it [00:01, 2889.94it/s]\n",
      "Team 2: 5000it [00:02, 2188.45it/s]\n",
      "Team 3: 5000it [00:01, 4010.68it/s]\n",
      "Team 4: 5000it [00:01, 2558.74it/s]\n"
     ]
    },
    {
     "name": "stdout",
     "output_type": "stream",
     "text": [
      "Loaded data for center frequency -0.04000000000000001\n",
      "Number of missing labels: 0\n",
      "Processing data...\n"
     ]
    },
    {
     "name": "stderr",
     "output_type": "stream",
     "text": [
      "Team 1: 5000it [00:01, 2867.81it/s]\n",
      "Team 2: 5000it [00:02, 2240.21it/s]\n",
      "Team 3: 5000it [00:01, 2828.72it/s]\n",
      "Team 4: 5000it [00:01, 2574.05it/s]\n"
     ]
    },
    {
     "name": "stdout",
     "output_type": "stream",
     "text": [
      "Loaded data for center frequency 0.06\n",
      "Number of missing labels: 0\n",
      "Processing data...\n"
     ]
    },
    {
     "name": "stderr",
     "output_type": "stream",
     "text": [
      "Team 1: 5000it [00:01, 2874.83it/s]\n",
      "Team 2: 5000it [00:02, 2148.63it/s]\n",
      "Team 3: 5000it [00:01, 3909.38it/s]\n",
      "Team 4: 5000it [00:02, 2476.57it/s]\n"
     ]
    },
    {
     "name": "stdout",
     "output_type": "stream",
     "text": [
      "Loaded data for center frequency 0.07\n",
      "Number of missing labels: 0\n",
      "Processing data...\n"
     ]
    },
    {
     "name": "stderr",
     "output_type": "stream",
     "text": [
      "Team 1: 5000it [00:01, 2881.51it/s]\n",
      "Team 2: 5000it [00:02, 2204.18it/s]\n",
      "Team 3: 5000it [00:01, 4010.56it/s]\n",
      "Team 4: 5000it [00:01, 2557.85it/s]\n"
     ]
    },
    {
     "name": "stdout",
     "output_type": "stream",
     "text": [
      "Loaded data for center frequency 0.009999999999999995\n",
      "Number of missing labels: 0\n",
      "Processing data...\n"
     ]
    },
    {
     "name": "stderr",
     "output_type": "stream",
     "text": [
      "Team 1: 5000it [00:02, 1948.51it/s]\n",
      "Team 2: 5000it [00:02, 1978.83it/s]\n",
      "Team 3: 5000it [00:01, 3620.42it/s]\n",
      "Team 4: 5000it [00:02, 2385.91it/s]\n"
     ]
    },
    {
     "name": "stdout",
     "output_type": "stream",
     "text": [
      "Loaded data for center frequency -0.010000000000000009\n",
      "Number of missing labels: 0\n",
      "Processing data...\n"
     ]
    },
    {
     "name": "stderr",
     "output_type": "stream",
     "text": [
      "Team 1: 5000it [00:02, 2211.23it/s]\n",
      "Team 2: 5000it [00:03, 1634.24it/s]\n",
      "Team 3: 5000it [00:01, 3961.27it/s]\n",
      "Team 4: 5000it [00:01, 2571.84it/s]\n"
     ]
    },
    {
     "name": "stdout",
     "output_type": "stream",
     "text": [
      "Loaded data for center frequency -0.060000000000000005\n",
      "Number of missing labels: 0\n",
      "Processing data...\n"
     ]
    },
    {
     "name": "stderr",
     "output_type": "stream",
     "text": [
      "Team 1: 5000it [00:01, 2872.80it/s]\n",
      "Team 2: 5000it [00:02, 2268.64it/s]\n",
      "Team 3: 5000it [00:01, 3513.36it/s]\n",
      "Team 4: 5000it [00:02, 2193.49it/s]\n"
     ]
    },
    {
     "name": "stdout",
     "output_type": "stream",
     "text": [
      "Loaded data for center frequency 0.1\n",
      "Number of missing labels: 0\n",
      "Processing data...\n"
     ]
    },
    {
     "name": "stderr",
     "output_type": "stream",
     "text": [
      "Team 1: 5000it [00:02, 1819.27it/s]\n",
      "Team 2: 5000it [00:03, 1631.58it/s]\n",
      "Team 3: 5000it [00:01, 3862.49it/s]\n",
      "Team 4: 5000it [00:02, 2393.64it/s]\n"
     ]
    },
    {
     "name": "stdout",
     "output_type": "stream",
     "text": [
      "Loaded data for center frequency -0.1\n",
      "Number of missing labels: 0\n",
      "Processing data...\n"
     ]
    },
    {
     "name": "stderr",
     "output_type": "stream",
     "text": [
      "Team 1: 5000it [00:01, 2677.03it/s]\n",
      "Team 2: 5000it [00:02, 2223.69it/s]\n",
      "Team 3: 5000it [00:01, 3836.82it/s]\n",
      "Team 4: 5000it [00:01, 2518.85it/s]\n"
     ]
    },
    {
     "name": "stdout",
     "output_type": "stream",
     "text": [
      "Loaded data for center frequency 0.07999999999999999\n",
      "Number of missing labels: 0\n",
      "Processing data...\n"
     ]
    },
    {
     "name": "stderr",
     "output_type": "stream",
     "text": [
      "Team 1: 5000it [00:01, 2906.86it/s]\n",
      "Team 2: 5000it [00:02, 2222.65it/s]\n",
      "Team 3: 5000it [00:01, 3948.35it/s]\n",
      "Team 4: 5000it [00:01, 2583.27it/s]\n"
     ]
    },
    {
     "name": "stdout",
     "output_type": "stream",
     "text": [
      "Loaded data for center frequency -0.020000000000000004\n",
      "Number of missing labels: 0\n",
      "Processing data...\n"
     ]
    },
    {
     "name": "stderr",
     "output_type": "stream",
     "text": [
      "Team 1: 5000it [00:01, 2848.55it/s]\n",
      "Team 2: 5000it [00:02, 2248.08it/s]\n",
      "Team 3: 5000it [00:01, 3996.51it/s]\n",
      "Team 4: 5000it [00:01, 2579.61it/s]\n"
     ]
    },
    {
     "name": "stdout",
     "output_type": "stream",
     "text": [
      "Loaded data for center frequency 0.04999999999999999\n",
      "Number of missing labels: 0\n",
      "Processing data...\n"
     ]
    },
    {
     "name": "stderr",
     "output_type": "stream",
     "text": [
      "Team 1: 5000it [00:01, 2915.87it/s]\n",
      "Team 2: 5000it [00:02, 1896.74it/s]\n",
      "Team 3: 5000it [00:01, 4008.55it/s]\n",
      "Team 4: 5000it [00:01, 2549.72it/s]\n"
     ]
    },
    {
     "name": "stdout",
     "output_type": "stream",
     "text": [
      "Loaded data for center frequency -0.03\n",
      "Number of missing labels: 0\n",
      "Processing data...\n"
     ]
    },
    {
     "name": "stderr",
     "output_type": "stream",
     "text": [
      "Team 1: 5000it [00:01, 2847.20it/s]\n",
      "Team 2: 5000it [00:02, 1840.98it/s]\n",
      "Team 3: 5000it [00:01, 3870.47it/s]\n",
      "Team 4: 5000it [00:02, 2157.31it/s]\n"
     ]
    },
    {
     "name": "stdout",
     "output_type": "stream",
     "text": [
      "Loaded data for center frequency -0.07\n",
      "Number of missing labels: 0\n",
      "Processing data...\n"
     ]
    },
    {
     "name": "stderr",
     "output_type": "stream",
     "text": [
      "Team 1: 5000it [00:01, 2925.29it/s]\n",
      "Team 2: 5000it [00:02, 2228.02it/s]\n",
      "Team 3: 5000it [00:01, 3945.71it/s]\n",
      "Team 4: 5000it [00:02, 2397.98it/s]\n"
     ]
    },
    {
     "name": "stdout",
     "output_type": "stream",
     "text": [
      "Loaded data for center frequency -0.05\n",
      "Number of missing labels: 0\n",
      "Processing data...\n"
     ]
    },
    {
     "name": "stderr",
     "output_type": "stream",
     "text": [
      "Team 1: 5000it [00:01, 2910.76it/s]\n",
      "Team 2: 5000it [00:02, 2246.69it/s]\n",
      "Team 3: 2914it [00:00, 2566.79it/s]"
     ]
    }
   ],
   "source": [
    "folder_version = 'cent_freqs'\n",
    "\n",
    "team1_cf_dir = os.path.join(team1_test_dir, folder_version)\n",
    "team2_cf_dir = os.path.join(team2_test_dir, folder_version)\n",
    "team3_cf_dir = os.path.join(team3_test_dir, folder_version)\n",
    "team4_cf_dir = os.path.join(team4_test_dir, folder_version)\n",
    "\n",
    "cf_folder_names = []\n",
    "processed_cfs = []\n",
    "team1_accuracies = []\n",
    "team2_accuracies = []\n",
    "team3_accuracies = []\n",
    "team4_accuracies = []\n",
    "fused_accuracies = []\n",
    "\n",
    "# Iterate over every folder in the center frequencies directory\n",
    "for path, subdirs, files in os.walk(team1_cf_dir):\n",
    "    # If we're in the top-level center frequency directory, get the values from all the folder names\n",
    "    if os.path.basename(path) == folder_version:\n",
    "        cf_folder_names = subdirs\n",
    "    elif os.path.basename(path) in cf_folder_names:\n",
    "        cf = float(os.path.basename(path))\n",
    "        \n",
    "        # Load the IQ and label data for this center frequency\n",
    "        labels = load_labels(path, 1, num_batches, num_examples, MODELS_OBS_INT).numpy()\n",
    "        team1_dataloader = load_data(os.path.join(team1_cf_dir, str(cf)), 1, num_batches, num_examples, TEAM1_OBS_INT)\n",
    "        team2_dataloader = load_data(os.path.join(team2_cf_dir, str(cf)), 1, num_batches, num_examples, TEAM2_OBS_INT)\n",
    "        team3_dataloader = load_data(os.path.join(team3_cf_dir, str(cf)), 1, num_batches, num_examples, TEAM3_OBS_INT)\n",
    "        team4_dataloader = load_data(os.path.join(team4_cf_dir, str(cf)), 1, num_batches, num_examples, TEAM4_OBS_INT)\n",
    "        print(f'Loaded data for center frequency {cf}')\n",
    "        \n",
    "        count_all_zeros = 0\n",
    "        labels = np.squeeze(labels)\n",
    "        for i in range(len(labels)):\n",
    "            if np.sum(labels[i]) == 0:\n",
    "                count_all_zeros += 1\n",
    "        print(\"Number of missing labels:\", count_all_zeros)\n",
    "        labels = np.argmax(labels, axis=1)\n",
    "        \n",
    "        print('Processing data...')\n",
    "        # Extract features from Team 1's model\n",
    "        team1_selected_layer.register_forward_hook(get_features('feats'))\n",
    "        team1_model.to(device)\n",
    "        team1_feats_list = []\n",
    "        team1_preds_list = []\n",
    "        features = {}\n",
    "        # Feed the IQ data into the model\n",
    "        for idx, inputs in tqdm(enumerate(team1_dataloader), desc='Team 1'):\n",
    "            with torch.inference_mode():\n",
    "                team1_preds_list.append(np.argmax(team1_model(inputs.to(device)).cpu().numpy(), axis=1)[0])\n",
    "            team1_feats_list.append(features['feats'].cpu().numpy())\n",
    "        team1_feats_list = np.concatenate(team1_feats_list)\n",
    "        features1 = np.array(team1_feats_list)\n",
    "        features1 = torch.tensor(features1)\n",
    "        features1 = features1.reshape(-1, features1.shape[-1])\n",
    "        if features1.shape[1] != NUM_FEATS_T1:\n",
    "            print(f'Error: Number of features extracted from team 1 model doesn\\'t match expected value ({NUM_FEATS_T1})')\n",
    "                \n",
    "        # Extract features from Team 2's model\n",
    "        team2_selected_layer.register_forward_hook(get_features('feats'))\n",
    "        team2_model.to(device)\n",
    "        team2_feats_list = []\n",
    "        team2_preds_list = []\n",
    "        features = {}\n",
    "        # Feed the IQ data into the model\n",
    "        for idx, inputs in tqdm(enumerate(team2_dataloader), desc='Team 2'):\n",
    "            with torch.inference_mode():\n",
    "                team2_preds_list.append(np.argmax(team2_model(inputs.to(device)).cpu().numpy(), axis=1)[0])\n",
    "            team2_feats_list.append(features['feats'].cpu().numpy())\n",
    "        team2_feats_list = np.concatenate(team2_feats_list)\n",
    "        features2 = np.array(team2_feats_list)\n",
    "        features2 = torch.tensor(features2)\n",
    "        features2 = features2.reshape(-1, features2.shape[-1])\n",
    "        if features2.shape[1] != NUM_FEATS_T2:\n",
    "            print(f'Error: Number of features extracted from team 2 model doesn\\'t match expected value ({NUM_FEATS_T2})')\n",
    "        \n",
    "        # Extract features from Team 3's model\n",
    "        team3_selected_layer.register_forward_hook(get_features('feats'))\n",
    "        team3_model.to(device)\n",
    "        team3_feats_list = []\n",
    "        team3_preds_list = []\n",
    "        features = {}\n",
    "        # Feed the IQ data into the model\n",
    "        for idx, inputs in tqdm(enumerate(team3_dataloader), desc='Team 3'):\n",
    "            with torch.inference_mode():\n",
    "                team3_preds_list.append(np.argmax(team3_model(inputs.to(device)).cpu().numpy(), axis=1)[0])\n",
    "            team3_feats_list.append(features['feats'].cpu().numpy())\n",
    "        team3_feats_list = np.concatenate(team3_feats_list)\n",
    "        features3 = np.array(team3_feats_list)\n",
    "        features3 = torch.tensor(features3)\n",
    "        features3 = features3.reshape(-1, features3.shape[-1])\n",
    "        if features3.shape[1] != NUM_FEATS_T3:\n",
    "            print(f'Error: Number of features extracted from team 3 model doesn\\'t match expected value ({NUM_FEATS_T3})')\n",
    "        \n",
    "        # Extract features from team 4's model\n",
    "        team4_selected_layer.register_forward_hook(get_features('feats'))\n",
    "        team4_model.to(device)\n",
    "        team4_feats_list = []\n",
    "        team4_preds_list = []\n",
    "        features = {}\n",
    "        # Feed the IQ data into the model\n",
    "        for idx, inputs in tqdm(enumerate(team4_dataloader), desc='Team 4'):\n",
    "            with torch.inference_mode():\n",
    "                team4_preds_list.append(np.argmax(team4_model(inputs.to(device)).cpu().numpy(), axis=1)[0])\n",
    "            team4_feats_list.append(features['feats'].cpu().numpy())\n",
    "        team4_feats_list = np.concatenate(team4_feats_list)\n",
    "        features4 = np.array(team4_feats_list)\n",
    "        features4 = torch.tensor(features4)\n",
    "        features4 = features4.reshape(-1, features4.shape[-1])\n",
    "        if features4.shape[1] != NUM_FEATS_T4:\n",
    "            print(f'Error: Number of features extracted from team 4 model doesn\\'t match expected value ({NUM_FEATS_T4})')\n",
    "        \n",
    "        combined_tensor = torch.cat((features1, features2, features3, features4), dim=1)\n",
    "        \n",
    "        # Create baseline fused model\n",
    "        train_data, validation_data, train_labels, validation_labels = train_test_split(combined_tensor, labels, test_size=0.2)\n",
    "        fused_model = xgb.XGBClassifier(tree_method=\"hist\", early_stopping_rounds=2, n_estimators=5)\n",
    "        fused_model.fit(train_data, train_labels, eval_set=[(validation_data, validation_labels)], verbose=0)\n",
    "\n",
    "        fused_model_out = fused_model.predict(validation_data)\n",
    "        num_correct = np.sum(fused_model_out == validation_labels)\n",
    "        num_validation_labels = validation_labels.shape[0]\n",
    "        fused_model_accuracy = num_correct / num_validation_labels\n",
    "        fused_accuracies.append(fused_model_accuracy)\n",
    "        \n",
    "        # Get accuracy values\n",
    "        team1_accuracies.append(np.sum(np.array(team1_preds_list) == labels) / len(labels))\n",
    "        team2_accuracies.append(np.sum(np.array(team2_preds_list) == labels) / len(labels))\n",
    "        team3_accuracies.append(np.sum(np.array(team3_preds_list) == labels) / len(labels))\n",
    "        team4_accuracies.append(np.sum(np.array(team4_preds_list) == labels) / len(labels))\n",
    "            \n",
    "        processed_cfs.append(cf)\n",
    "\n",
    "# Create the accuracy plots\n",
    "df = pd.DataFrame(\n",
    "    {'cf': processed_cfs,\n",
    "        'Model 1': team1_accuracies,\n",
    "        'Model 2': team2_accuracies,\n",
    "        'Model 3': team3_accuracies,\n",
    "        'Model 4': team4_accuracies,\n",
    "        'Fused Model': fused_accuracies\n",
    "    })\n",
    "df.sort_values(by=['cf'], inplace=True)\n",
    "df.plot.line(x='cf')\n",
    "plt.ylabel('Average Probability of Correct Classification')\n",
    "plt.xlabel('Center Frequency')\n",
    "plt.title('Accuracy vs. Center Frequency')\n",
    "plt.savefig('../data/fusion_plots/accuracy_vs_nuisance_params/cent_freq_with_fused.png')\n",
    "plt.show()\n",
    "\n",
    "df = pd.DataFrame(\n",
    "    {'cf': processed_cfs,\n",
    "        'Model 1': team1_accuracies,\n",
    "        'Model 2': team2_accuracies,\n",
    "        'Model 3': team3_accuracies,\n",
    "        'Model 4': team4_accuracies\n",
    "    })\n",
    "df.sort_values(by=['cf'], inplace=True)\n",
    "df.plot.line(x='cf')\n",
    "plt.ylabel('Average Probability of Correct Classification')\n",
    "plt.xlabel('Center Frequency')\n",
    "plt.title('Accuracy vs. Center Frequency')\n",
    "plt.savefig('../data/fusion_plots/accuracy_vs_nuisance_params/cent_freq.png')\n",
    "plt.show()"
   ]
  },
  {
   "cell_type": "markdown",
   "id": "27470ca8-fadb-422d-bbc7-7f798f85dabe",
   "metadata": {},
   "source": [
    "## Plot accuracy vs obs int"
   ]
  },
  {
   "cell_type": "code",
   "execution_count": null,
   "id": "aff3fd1e-4021-4fc5-aba4-430f91d4ecee",
   "metadata": {
    "tags": []
   },
   "outputs": [],
   "source": [
    "team1_obs_dir = os.path.join(team1_test_dir, 'obs_ints')\n",
    "team2_obs_dir = os.path.join(team2_test_dir, 'obs_ints')\n",
    "team3_obs_dir = os.path.join(team3_test_dir, 'obs_ints')\n",
    "team4_obs_dir = os.path.join(team4_test_dir, 'obs_ints')\n",
    "\n",
    "obs_folder_names = []\n",
    "processed_obs = []\n",
    "team1_accuracies = []\n",
    "team2_accuracies = []\n",
    "team3_accuracies = []\n",
    "team4_accuracies = []\n",
    "fused_accuracies = []\n",
    "\n",
    "# Iterate over every folder in the obs ints directory\n",
    "for path, subdirs, files in os.walk(team1_obs_dir):\n",
    "    # If we're in the top-level obs int directory, get the values from all the folder names\n",
    "    if os.path.basename(path) == 'obs_ints':\n",
    "        obs_folder_names = subdirs\n",
    "    elif os.path.basename(path) in obs_folder_names:\n",
    "        obs = int(os.path.basename(path))\n",
    "        \n",
    "        # Load the IQ and label data for this obs int\n",
    "        labels = load_labels(path, 1, num_batches, num_examples, MODELS_OBS_INT).numpy()\n",
    "        team1_dataloader = load_data(os.path.join(team1_obs_dir, str(obs)), 1, num_batches, num_examples, obs)\n",
    "        team2_dataloader = load_data(os.path.join(team2_obs_dir, str(obs)), 1, num_batches, num_examples, obs)\n",
    "        team3_dataloader = load_data(os.path.join(team3_obs_dir, str(obs)), 1, num_batches, num_examples, obs)\n",
    "        team4_dataloader = load_data(os.path.join(team4_obs_dir, str(obs)), 1, num_batches, num_examples, obs)\n",
    "        print(f'Loaded data for obs int {obs}')\n",
    "        \n",
    "        count_all_zeros = 0\n",
    "        labels = np.squeeze(labels)\n",
    "        for i in range(len(labels)):\n",
    "            if np.sum(labels[i]) == 0:\n",
    "                count_all_zeros += 1\n",
    "        print(\"Number of missing labels:\", count_all_zeros)\n",
    "        labels = np.argmax(labels, axis=1)\n",
    "        \n",
    "        print('Processing data...')\n",
    "        # Extract features from Team 1's model\n",
    "        team1_selected_layer.register_forward_hook(get_features('feats'))\n",
    "        team1_model.to(device)\n",
    "        team1_feats_list = []\n",
    "        team1_preds_list = []\n",
    "        features = {}\n",
    "        # Feed the IQ data into the model\n",
    "        for idx, inputs in tqdm(enumerate(team1_dataloader), desc='Team 1'):\n",
    "            with torch.inference_mode():\n",
    "                team1_preds_list.append(np.argmax(team1_model(inputs.to(device)).cpu().numpy(), axis=1)[0])\n",
    "            team1_feats_list.append(features['feats'].cpu().numpy())\n",
    "        team1_feats_list = np.concatenate(team1_feats_list)\n",
    "        features1 = np.array(team1_feats_list)\n",
    "        features1 = torch.tensor(features1)\n",
    "        features1 = features1.reshape(-1, features1.shape[-1])\n",
    "        if features1.shape[1] != NUM_FEATS_T1:\n",
    "            print(f'Error: Number of features extracted from team 1 model doesn\\'t match expected value ({NUM_FEATS_T1})')\n",
    "                \n",
    "        # Extract features from Team 2's model\n",
    "        team2_selected_layer.register_forward_hook(get_features('feats'))\n",
    "        team2_model.to(device)\n",
    "        team2_feats_list = []\n",
    "        team2_preds_list = []\n",
    "        features = {}\n",
    "        # Feed the IQ data into the model\n",
    "        for idx, inputs in tqdm(enumerate(team2_dataloader), desc='Team 2'):\n",
    "            with torch.inference_mode():\n",
    "                team2_preds_list.append(np.argmax(team2_model(inputs.to(device)).cpu().numpy(), axis=1)[0])\n",
    "            team2_feats_list.append(features['feats'].cpu().numpy())\n",
    "        team2_feats_list = np.concatenate(team2_feats_list)\n",
    "        features2 = np.array(team2_feats_list)\n",
    "        features2 = torch.tensor(features2)\n",
    "        features2 = features2.reshape(-1, features2.shape[-1])\n",
    "        if features2.shape[1] != NUM_FEATS_T2:\n",
    "            print(f'Error: Number of features extracted from team 2 model doesn\\'t match expected value ({NUM_FEATS_T2})')\n",
    "        \n",
    "        # Extract features from Team 3's model\n",
    "        team3_selected_layer.register_forward_hook(get_features('feats'))\n",
    "        team3_model.to(device)\n",
    "        team3_feats_list = []\n",
    "        team3_preds_list = []\n",
    "        features = {}\n",
    "        # Feed the IQ data into the model\n",
    "        for idx, inputs in tqdm(enumerate(team3_dataloader), desc='Team 3'):\n",
    "            with torch.inference_mode():\n",
    "                team3_preds_list.append(np.argmax(team3_model(inputs.to(device)).cpu().numpy(), axis=1)[0])\n",
    "            team3_feats_list.append(features['feats'].cpu().numpy())\n",
    "        team3_feats_list = np.concatenate(team3_feats_list)\n",
    "        features3 = np.array(team3_feats_list)\n",
    "        features3 = torch.tensor(features3)\n",
    "        features3 = features3.reshape(-1, features3.shape[-1])\n",
    "        if features3.shape[1] != NUM_FEATS_T3:\n",
    "            print(f'Error: Number of features extracted from team 3 model doesn\\'t match expected value ({NUM_FEATS_T3})')\n",
    "        \n",
    "        # Extract features from team 4's model\n",
    "        team4_selected_layer.register_forward_hook(get_features('feats'))\n",
    "        team4_model.to(device)\n",
    "        team4_feats_list = []\n",
    "        team4_preds_list = []\n",
    "        features = {}\n",
    "        # Feed the IQ data into the model\n",
    "        for idx, inputs in tqdm(enumerate(team4_dataloader), desc='Team 4'):\n",
    "            with torch.inference_mode():\n",
    "                team4_preds_list.append(np.argmax(team4_model(inputs.to(device)).cpu().numpy(), axis=1)[0])\n",
    "            team4_feats_list.append(features['feats'].cpu().numpy())\n",
    "        team4_feats_list = np.concatenate(team4_feats_list)\n",
    "        features4 = np.array(team4_feats_list)\n",
    "        features4 = torch.tensor(features4)\n",
    "        features4 = features4.reshape(-1, features4.shape[-1])\n",
    "        if features4.shape[1] != NUM_FEATS_T4:\n",
    "            print(f'Error: Number of features extracted from team 4 model doesn\\'t match expected value ({NUM_FEATS_T4})')\n",
    "        \n",
    "        combined_tensor = torch.cat((features1, features2, features3, features4), dim=1)\n",
    "        \n",
    "        # Create baseline fused model\n",
    "        train_data, validation_data, train_labels, validation_labels = train_test_split(combined_tensor, labels, test_size=0.2)\n",
    "        fused_model = xgb.XGBClassifier(tree_method=\"hist\", early_stopping_rounds=2, n_estimators=5)\n",
    "        fused_model.fit(train_data, train_labels, eval_set=[(validation_data, validation_labels)], verbose=0)\n",
    "\n",
    "        fused_model_out = fused_model.predict(validation_data)\n",
    "        num_correct = np.sum(fused_model_out == validation_labels)\n",
    "        num_validation_labels = validation_labels.shape[0]\n",
    "        fused_model_accuracy = num_correct / num_validation_labels\n",
    "        fused_accuracies.append(fused_model_accuracy)\n",
    "        \n",
    "        # Get accuracy values\n",
    "        team1_accuracies.append(np.sum(np.array(team1_preds_list) == labels) / len(labels))\n",
    "        team2_accuracies.append(np.sum(np.array(team2_preds_list) == labels) / len(labels))\n",
    "        team3_accuracies.append(np.sum(np.array(team3_preds_list) == labels) / len(labels))\n",
    "        team4_accuracies.append(np.sum(np.array(team4_preds_list) == labels) / len(labels))\n",
    "            \n",
    "        processed_obs.append(obs)\n",
    "\n",
    "# Create the accuracy plots\n",
    "df = pd.DataFrame(\n",
    "    {'obs': processed_obs,\n",
    "        'Model 1': team1_accuracies,\n",
    "        'Model 2': team2_accuracies,\n",
    "        'Model 3': team3_accuracies,\n",
    "        'Model 4': team4_accuracies,\n",
    "        'Fused Model': fused_accuracies\n",
    "    })\n",
    "df.sort_values(by=['obs'], inplace=True)\n",
    "df.plot.line(x='obs')\n",
    "plt.ylabel('Average Probability of Correct Classification')\n",
    "plt.xlabel('Observation Duration')\n",
    "plt.title('Accuracy vs. Observation Duration')\n",
    "plt.savefig('../data/fusion_plots/accuracy_vs_nuisance_params/obs_int_with_fused.png')\n",
    "plt.show()\n",
    "    \n",
    "df = pd.DataFrame(\n",
    "    {'obs': processed_obs,\n",
    "        'Model 1': team1_accuracies,\n",
    "        'Model 2': team2_accuracies,\n",
    "        'Model 3': team3_accuracies,\n",
    "        'Model 4': team4_accuracies\n",
    "    })\n",
    "df.sort_values(by=['obs'], inplace=True)\n",
    "df.plot.line(x='obs')\n",
    "plt.ylabel('Average Probability of Correct Classification')\n",
    "plt.xlabel('Observation Duration')\n",
    "plt.title('Accuracy vs. Observation Duration')\n",
    "plt.savefig('../data/fusion_plots/accuracy_vs_nuisance_params/obs_int.png')\n",
    "plt.show()"
   ]
  }
 ],
 "metadata": {
  "availableInstances": [
   {
    "_defaultOrder": 0,
    "_isFastLaunch": true,
    "category": "General purpose",
    "gpuNum": 0,
    "hideHardwareSpecs": false,
    "memoryGiB": 4,
    "name": "ml.t3.medium",
    "vcpuNum": 2
   },
   {
    "_defaultOrder": 1,
    "_isFastLaunch": false,
    "category": "General purpose",
    "gpuNum": 0,
    "hideHardwareSpecs": false,
    "memoryGiB": 8,
    "name": "ml.t3.large",
    "vcpuNum": 2
   },
   {
    "_defaultOrder": 2,
    "_isFastLaunch": false,
    "category": "General purpose",
    "gpuNum": 0,
    "hideHardwareSpecs": false,
    "memoryGiB": 16,
    "name": "ml.t3.xlarge",
    "vcpuNum": 4
   },
   {
    "_defaultOrder": 3,
    "_isFastLaunch": false,
    "category": "General purpose",
    "gpuNum": 0,
    "hideHardwareSpecs": false,
    "memoryGiB": 32,
    "name": "ml.t3.2xlarge",
    "vcpuNum": 8
   },
   {
    "_defaultOrder": 4,
    "_isFastLaunch": true,
    "category": "General purpose",
    "gpuNum": 0,
    "hideHardwareSpecs": false,
    "memoryGiB": 8,
    "name": "ml.m5.large",
    "vcpuNum": 2
   },
   {
    "_defaultOrder": 5,
    "_isFastLaunch": false,
    "category": "General purpose",
    "gpuNum": 0,
    "hideHardwareSpecs": false,
    "memoryGiB": 16,
    "name": "ml.m5.xlarge",
    "vcpuNum": 4
   },
   {
    "_defaultOrder": 6,
    "_isFastLaunch": false,
    "category": "General purpose",
    "gpuNum": 0,
    "hideHardwareSpecs": false,
    "memoryGiB": 32,
    "name": "ml.m5.2xlarge",
    "vcpuNum": 8
   },
   {
    "_defaultOrder": 7,
    "_isFastLaunch": false,
    "category": "General purpose",
    "gpuNum": 0,
    "hideHardwareSpecs": false,
    "memoryGiB": 64,
    "name": "ml.m5.4xlarge",
    "vcpuNum": 16
   },
   {
    "_defaultOrder": 8,
    "_isFastLaunch": false,
    "category": "General purpose",
    "gpuNum": 0,
    "hideHardwareSpecs": false,
    "memoryGiB": 128,
    "name": "ml.m5.8xlarge",
    "vcpuNum": 32
   },
   {
    "_defaultOrder": 9,
    "_isFastLaunch": false,
    "category": "General purpose",
    "gpuNum": 0,
    "hideHardwareSpecs": false,
    "memoryGiB": 192,
    "name": "ml.m5.12xlarge",
    "vcpuNum": 48
   },
   {
    "_defaultOrder": 10,
    "_isFastLaunch": false,
    "category": "General purpose",
    "gpuNum": 0,
    "hideHardwareSpecs": false,
    "memoryGiB": 256,
    "name": "ml.m5.16xlarge",
    "vcpuNum": 64
   },
   {
    "_defaultOrder": 11,
    "_isFastLaunch": false,
    "category": "General purpose",
    "gpuNum": 0,
    "hideHardwareSpecs": false,
    "memoryGiB": 384,
    "name": "ml.m5.24xlarge",
    "vcpuNum": 96
   },
   {
    "_defaultOrder": 12,
    "_isFastLaunch": false,
    "category": "General purpose",
    "gpuNum": 0,
    "hideHardwareSpecs": false,
    "memoryGiB": 8,
    "name": "ml.m5d.large",
    "vcpuNum": 2
   },
   {
    "_defaultOrder": 13,
    "_isFastLaunch": false,
    "category": "General purpose",
    "gpuNum": 0,
    "hideHardwareSpecs": false,
    "memoryGiB": 16,
    "name": "ml.m5d.xlarge",
    "vcpuNum": 4
   },
   {
    "_defaultOrder": 14,
    "_isFastLaunch": false,
    "category": "General purpose",
    "gpuNum": 0,
    "hideHardwareSpecs": false,
    "memoryGiB": 32,
    "name": "ml.m5d.2xlarge",
    "vcpuNum": 8
   },
   {
    "_defaultOrder": 15,
    "_isFastLaunch": false,
    "category": "General purpose",
    "gpuNum": 0,
    "hideHardwareSpecs": false,
    "memoryGiB": 64,
    "name": "ml.m5d.4xlarge",
    "vcpuNum": 16
   },
   {
    "_defaultOrder": 16,
    "_isFastLaunch": false,
    "category": "General purpose",
    "gpuNum": 0,
    "hideHardwareSpecs": false,
    "memoryGiB": 128,
    "name": "ml.m5d.8xlarge",
    "vcpuNum": 32
   },
   {
    "_defaultOrder": 17,
    "_isFastLaunch": false,
    "category": "General purpose",
    "gpuNum": 0,
    "hideHardwareSpecs": false,
    "memoryGiB": 192,
    "name": "ml.m5d.12xlarge",
    "vcpuNum": 48
   },
   {
    "_defaultOrder": 18,
    "_isFastLaunch": false,
    "category": "General purpose",
    "gpuNum": 0,
    "hideHardwareSpecs": false,
    "memoryGiB": 256,
    "name": "ml.m5d.16xlarge",
    "vcpuNum": 64
   },
   {
    "_defaultOrder": 19,
    "_isFastLaunch": false,
    "category": "General purpose",
    "gpuNum": 0,
    "hideHardwareSpecs": false,
    "memoryGiB": 384,
    "name": "ml.m5d.24xlarge",
    "vcpuNum": 96
   },
   {
    "_defaultOrder": 20,
    "_isFastLaunch": false,
    "category": "General purpose",
    "gpuNum": 0,
    "hideHardwareSpecs": true,
    "memoryGiB": 0,
    "name": "ml.geospatial.interactive",
    "supportedImageNames": [
     "sagemaker-geospatial-v1-0"
    ],
    "vcpuNum": 0
   },
   {
    "_defaultOrder": 21,
    "_isFastLaunch": true,
    "category": "Compute optimized",
    "gpuNum": 0,
    "hideHardwareSpecs": false,
    "memoryGiB": 4,
    "name": "ml.c5.large",
    "vcpuNum": 2
   },
   {
    "_defaultOrder": 22,
    "_isFastLaunch": false,
    "category": "Compute optimized",
    "gpuNum": 0,
    "hideHardwareSpecs": false,
    "memoryGiB": 8,
    "name": "ml.c5.xlarge",
    "vcpuNum": 4
   },
   {
    "_defaultOrder": 23,
    "_isFastLaunch": false,
    "category": "Compute optimized",
    "gpuNum": 0,
    "hideHardwareSpecs": false,
    "memoryGiB": 16,
    "name": "ml.c5.2xlarge",
    "vcpuNum": 8
   },
   {
    "_defaultOrder": 24,
    "_isFastLaunch": false,
    "category": "Compute optimized",
    "gpuNum": 0,
    "hideHardwareSpecs": false,
    "memoryGiB": 32,
    "name": "ml.c5.4xlarge",
    "vcpuNum": 16
   },
   {
    "_defaultOrder": 25,
    "_isFastLaunch": false,
    "category": "Compute optimized",
    "gpuNum": 0,
    "hideHardwareSpecs": false,
    "memoryGiB": 72,
    "name": "ml.c5.9xlarge",
    "vcpuNum": 36
   },
   {
    "_defaultOrder": 26,
    "_isFastLaunch": false,
    "category": "Compute optimized",
    "gpuNum": 0,
    "hideHardwareSpecs": false,
    "memoryGiB": 96,
    "name": "ml.c5.12xlarge",
    "vcpuNum": 48
   },
   {
    "_defaultOrder": 27,
    "_isFastLaunch": false,
    "category": "Compute optimized",
    "gpuNum": 0,
    "hideHardwareSpecs": false,
    "memoryGiB": 144,
    "name": "ml.c5.18xlarge",
    "vcpuNum": 72
   },
   {
    "_defaultOrder": 28,
    "_isFastLaunch": false,
    "category": "Compute optimized",
    "gpuNum": 0,
    "hideHardwareSpecs": false,
    "memoryGiB": 192,
    "name": "ml.c5.24xlarge",
    "vcpuNum": 96
   },
   {
    "_defaultOrder": 29,
    "_isFastLaunch": true,
    "category": "Accelerated computing",
    "gpuNum": 1,
    "hideHardwareSpecs": false,
    "memoryGiB": 16,
    "name": "ml.g4dn.xlarge",
    "vcpuNum": 4
   },
   {
    "_defaultOrder": 30,
    "_isFastLaunch": false,
    "category": "Accelerated computing",
    "gpuNum": 1,
    "hideHardwareSpecs": false,
    "memoryGiB": 32,
    "name": "ml.g4dn.2xlarge",
    "vcpuNum": 8
   },
   {
    "_defaultOrder": 31,
    "_isFastLaunch": false,
    "category": "Accelerated computing",
    "gpuNum": 1,
    "hideHardwareSpecs": false,
    "memoryGiB": 64,
    "name": "ml.g4dn.4xlarge",
    "vcpuNum": 16
   },
   {
    "_defaultOrder": 32,
    "_isFastLaunch": false,
    "category": "Accelerated computing",
    "gpuNum": 1,
    "hideHardwareSpecs": false,
    "memoryGiB": 128,
    "name": "ml.g4dn.8xlarge",
    "vcpuNum": 32
   },
   {
    "_defaultOrder": 33,
    "_isFastLaunch": false,
    "category": "Accelerated computing",
    "gpuNum": 4,
    "hideHardwareSpecs": false,
    "memoryGiB": 192,
    "name": "ml.g4dn.12xlarge",
    "vcpuNum": 48
   },
   {
    "_defaultOrder": 34,
    "_isFastLaunch": false,
    "category": "Accelerated computing",
    "gpuNum": 1,
    "hideHardwareSpecs": false,
    "memoryGiB": 256,
    "name": "ml.g4dn.16xlarge",
    "vcpuNum": 64
   },
   {
    "_defaultOrder": 35,
    "_isFastLaunch": false,
    "category": "Accelerated computing",
    "gpuNum": 1,
    "hideHardwareSpecs": false,
    "memoryGiB": 61,
    "name": "ml.p3.2xlarge",
    "vcpuNum": 8
   },
   {
    "_defaultOrder": 36,
    "_isFastLaunch": false,
    "category": "Accelerated computing",
    "gpuNum": 4,
    "hideHardwareSpecs": false,
    "memoryGiB": 244,
    "name": "ml.p3.8xlarge",
    "vcpuNum": 32
   },
   {
    "_defaultOrder": 37,
    "_isFastLaunch": false,
    "category": "Accelerated computing",
    "gpuNum": 8,
    "hideHardwareSpecs": false,
    "memoryGiB": 488,
    "name": "ml.p3.16xlarge",
    "vcpuNum": 64
   },
   {
    "_defaultOrder": 38,
    "_isFastLaunch": false,
    "category": "Accelerated computing",
    "gpuNum": 8,
    "hideHardwareSpecs": false,
    "memoryGiB": 768,
    "name": "ml.p3dn.24xlarge",
    "vcpuNum": 96
   },
   {
    "_defaultOrder": 39,
    "_isFastLaunch": false,
    "category": "Memory Optimized",
    "gpuNum": 0,
    "hideHardwareSpecs": false,
    "memoryGiB": 16,
    "name": "ml.r5.large",
    "vcpuNum": 2
   },
   {
    "_defaultOrder": 40,
    "_isFastLaunch": false,
    "category": "Memory Optimized",
    "gpuNum": 0,
    "hideHardwareSpecs": false,
    "memoryGiB": 32,
    "name": "ml.r5.xlarge",
    "vcpuNum": 4
   },
   {
    "_defaultOrder": 41,
    "_isFastLaunch": false,
    "category": "Memory Optimized",
    "gpuNum": 0,
    "hideHardwareSpecs": false,
    "memoryGiB": 64,
    "name": "ml.r5.2xlarge",
    "vcpuNum": 8
   },
   {
    "_defaultOrder": 42,
    "_isFastLaunch": false,
    "category": "Memory Optimized",
    "gpuNum": 0,
    "hideHardwareSpecs": false,
    "memoryGiB": 128,
    "name": "ml.r5.4xlarge",
    "vcpuNum": 16
   },
   {
    "_defaultOrder": 43,
    "_isFastLaunch": false,
    "category": "Memory Optimized",
    "gpuNum": 0,
    "hideHardwareSpecs": false,
    "memoryGiB": 256,
    "name": "ml.r5.8xlarge",
    "vcpuNum": 32
   },
   {
    "_defaultOrder": 44,
    "_isFastLaunch": false,
    "category": "Memory Optimized",
    "gpuNum": 0,
    "hideHardwareSpecs": false,
    "memoryGiB": 384,
    "name": "ml.r5.12xlarge",
    "vcpuNum": 48
   },
   {
    "_defaultOrder": 45,
    "_isFastLaunch": false,
    "category": "Memory Optimized",
    "gpuNum": 0,
    "hideHardwareSpecs": false,
    "memoryGiB": 512,
    "name": "ml.r5.16xlarge",
    "vcpuNum": 64
   },
   {
    "_defaultOrder": 46,
    "_isFastLaunch": false,
    "category": "Memory Optimized",
    "gpuNum": 0,
    "hideHardwareSpecs": false,
    "memoryGiB": 768,
    "name": "ml.r5.24xlarge",
    "vcpuNum": 96
   },
   {
    "_defaultOrder": 47,
    "_isFastLaunch": false,
    "category": "Accelerated computing",
    "gpuNum": 1,
    "hideHardwareSpecs": false,
    "memoryGiB": 16,
    "name": "ml.g5.xlarge",
    "vcpuNum": 4
   },
   {
    "_defaultOrder": 48,
    "_isFastLaunch": false,
    "category": "Accelerated computing",
    "gpuNum": 1,
    "hideHardwareSpecs": false,
    "memoryGiB": 32,
    "name": "ml.g5.2xlarge",
    "vcpuNum": 8
   },
   {
    "_defaultOrder": 49,
    "_isFastLaunch": false,
    "category": "Accelerated computing",
    "gpuNum": 1,
    "hideHardwareSpecs": false,
    "memoryGiB": 64,
    "name": "ml.g5.4xlarge",
    "vcpuNum": 16
   },
   {
    "_defaultOrder": 50,
    "_isFastLaunch": false,
    "category": "Accelerated computing",
    "gpuNum": 1,
    "hideHardwareSpecs": false,
    "memoryGiB": 128,
    "name": "ml.g5.8xlarge",
    "vcpuNum": 32
   },
   {
    "_defaultOrder": 51,
    "_isFastLaunch": false,
    "category": "Accelerated computing",
    "gpuNum": 1,
    "hideHardwareSpecs": false,
    "memoryGiB": 256,
    "name": "ml.g5.16xlarge",
    "vcpuNum": 64
   },
   {
    "_defaultOrder": 52,
    "_isFastLaunch": false,
    "category": "Accelerated computing",
    "gpuNum": 4,
    "hideHardwareSpecs": false,
    "memoryGiB": 192,
    "name": "ml.g5.12xlarge",
    "vcpuNum": 48
   },
   {
    "_defaultOrder": 53,
    "_isFastLaunch": false,
    "category": "Accelerated computing",
    "gpuNum": 4,
    "hideHardwareSpecs": false,
    "memoryGiB": 384,
    "name": "ml.g5.24xlarge",
    "vcpuNum": 96
   },
   {
    "_defaultOrder": 54,
    "_isFastLaunch": false,
    "category": "Accelerated computing",
    "gpuNum": 8,
    "hideHardwareSpecs": false,
    "memoryGiB": 768,
    "name": "ml.g5.48xlarge",
    "vcpuNum": 192
   },
   {
    "_defaultOrder": 55,
    "_isFastLaunch": false,
    "category": "Accelerated computing",
    "gpuNum": 8,
    "hideHardwareSpecs": false,
    "memoryGiB": 1152,
    "name": "ml.p4d.24xlarge",
    "vcpuNum": 96
   },
   {
    "_defaultOrder": 56,
    "_isFastLaunch": false,
    "category": "Accelerated computing",
    "gpuNum": 8,
    "hideHardwareSpecs": false,
    "memoryGiB": 1152,
    "name": "ml.p4de.24xlarge",
    "vcpuNum": 96
   },
   {
    "_defaultOrder": 57,
    "_isFastLaunch": false,
    "category": "Accelerated computing",
    "gpuNum": 0,
    "hideHardwareSpecs": false,
    "memoryGiB": 32,
    "name": "ml.trn1.2xlarge",
    "vcpuNum": 8
   },
   {
    "_defaultOrder": 58,
    "_isFastLaunch": false,
    "category": "Accelerated computing",
    "gpuNum": 0,
    "hideHardwareSpecs": false,
    "memoryGiB": 512,
    "name": "ml.trn1.32xlarge",
    "vcpuNum": 128
   },
   {
    "_defaultOrder": 59,
    "_isFastLaunch": false,
    "category": "Accelerated computing",
    "gpuNum": 0,
    "hideHardwareSpecs": false,
    "memoryGiB": 512,
    "name": "ml.trn1n.32xlarge",
    "vcpuNum": 128
   }
  ],
  "kernelspec": {
   "display_name": "Python 3 (PyTorch 1.13 Python 3.9 GPU Optimized)",
   "language": "python",
   "name": "python3__SAGEMAKER_INTERNAL__arn:aws:sagemaker:us-east-1:081325390199:image/pytorch-1.13-gpu-py39"
  },
  "language_info": {
   "codemirror_mode": {
    "name": "ipython",
    "version": 3
   },
   "file_extension": ".py",
   "mimetype": "text/x-python",
   "name": "python",
   "nbconvert_exporter": "python",
   "pygments_lexer": "ipython3",
   "version": "3.9.16"
  }
 },
 "nbformat": 4,
 "nbformat_minor": 5
}
