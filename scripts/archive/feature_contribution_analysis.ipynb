{
 "cells": [
  {
   "cell_type": "markdown",
   "id": "858b7c71-0887-42e0-bb66-fb75d26f995d",
   "metadata": {},
   "source": [
    "## Imports/loading models"
   ]
  },
  {
   "cell_type": "code",
   "execution_count": 3,
   "id": "69cffa29-d612-4534-9a4b-b64607db35f4",
   "metadata": {
    "tags": []
   },
   "outputs": [
    {
     "name": "stdout",
     "output_type": "stream",
     "text": [
      "Looking in indexes: https://pypi.org/simple, https://pypi.ngc.nvidia.com\n",
      "Requirement already satisfied: gymnasium in /opt/conda/lib/python3.11/site-packages (0.29.1)\n",
      "Requirement already satisfied: numpy>=1.21.0 in /home/jovyan/.local/lib/python3.11/site-packages (from gymnasium) (1.26.3)\n",
      "Requirement already satisfied: cloudpickle>=1.2.0 in /opt/conda/lib/python3.11/site-packages (from gymnasium) (3.0.0)\n",
      "Requirement already satisfied: typing-extensions>=4.3.0 in /home/jovyan/.local/lib/python3.11/site-packages (from gymnasium) (4.9.0)\n",
      "Requirement already satisfied: farama-notifications>=0.0.1 in /opt/conda/lib/python3.11/site-packages (from gymnasium) (0.0.4)\n",
      "Looking in indexes: https://pypi.org/simple, https://pypi.ngc.nvidia.com\n",
      "Collecting stable-baselines3\n",
      "  Downloading stable_baselines3-2.3.2-py3-none-any.whl.metadata (5.1 kB)\n",
      "Requirement already satisfied: gymnasium<0.30,>=0.28.1 in /opt/conda/lib/python3.11/site-packages (from stable-baselines3) (0.29.1)\n",
      "Requirement already satisfied: numpy>=1.20 in /home/jovyan/.local/lib/python3.11/site-packages (from stable-baselines3) (1.26.3)\n",
      "Requirement already satisfied: torch>=1.13 in /home/jovyan/.local/lib/python3.11/site-packages (from stable-baselines3) (2.4.0+cu121)\n",
      "Requirement already satisfied: cloudpickle in /opt/conda/lib/python3.11/site-packages (from stable-baselines3) (3.0.0)\n",
      "Requirement already satisfied: pandas in /opt/conda/lib/python3.11/site-packages (from stable-baselines3) (2.2.0)\n",
      "Requirement already satisfied: matplotlib in /opt/conda/lib/python3.11/site-packages (from stable-baselines3) (3.8.2)\n",
      "Requirement already satisfied: typing-extensions>=4.3.0 in /home/jovyan/.local/lib/python3.11/site-packages (from gymnasium<0.30,>=0.28.1->stable-baselines3) (4.9.0)\n",
      "Requirement already satisfied: farama-notifications>=0.0.1 in /opt/conda/lib/python3.11/site-packages (from gymnasium<0.30,>=0.28.1->stable-baselines3) (0.0.4)\n",
      "Requirement already satisfied: filelock in /home/jovyan/.local/lib/python3.11/site-packages (from torch>=1.13->stable-baselines3) (3.13.1)\n",
      "Requirement already satisfied: sympy in /home/jovyan/.local/lib/python3.11/site-packages (from torch>=1.13->stable-baselines3) (1.12)\n",
      "Requirement already satisfied: networkx in /home/jovyan/.local/lib/python3.11/site-packages (from torch>=1.13->stable-baselines3) (3.2.1)\n",
      "Requirement already satisfied: jinja2 in /home/jovyan/.local/lib/python3.11/site-packages (from torch>=1.13->stable-baselines3) (3.1.3)\n",
      "Requirement already satisfied: fsspec in /home/jovyan/.local/lib/python3.11/site-packages (from torch>=1.13->stable-baselines3) (2024.2.0)\n",
      "Requirement already satisfied: nvidia-cuda-nvrtc-cu12==12.1.105 in /home/jovyan/.local/lib/python3.11/site-packages (from torch>=1.13->stable-baselines3) (12.1.105)\n",
      "Requirement already satisfied: nvidia-cuda-runtime-cu12==12.1.105 in /home/jovyan/.local/lib/python3.11/site-packages (from torch>=1.13->stable-baselines3) (12.1.105)\n",
      "Requirement already satisfied: nvidia-cuda-cupti-cu12==12.1.105 in /home/jovyan/.local/lib/python3.11/site-packages (from torch>=1.13->stable-baselines3) (12.1.105)\n",
      "Requirement already satisfied: nvidia-cudnn-cu12==9.1.0.70 in /home/jovyan/.local/lib/python3.11/site-packages (from torch>=1.13->stable-baselines3) (9.1.0.70)\n",
      "Requirement already satisfied: nvidia-cublas-cu12==12.1.3.1 in /home/jovyan/.local/lib/python3.11/site-packages (from torch>=1.13->stable-baselines3) (12.1.3.1)\n",
      "Requirement already satisfied: nvidia-cufft-cu12==11.0.2.54 in /home/jovyan/.local/lib/python3.11/site-packages (from torch>=1.13->stable-baselines3) (11.0.2.54)\n",
      "Requirement already satisfied: nvidia-curand-cu12==10.3.2.106 in /home/jovyan/.local/lib/python3.11/site-packages (from torch>=1.13->stable-baselines3) (10.3.2.106)\n",
      "Requirement already satisfied: nvidia-cusolver-cu12==11.4.5.107 in /home/jovyan/.local/lib/python3.11/site-packages (from torch>=1.13->stable-baselines3) (11.4.5.107)\n",
      "Requirement already satisfied: nvidia-cusparse-cu12==12.1.0.106 in /home/jovyan/.local/lib/python3.11/site-packages (from torch>=1.13->stable-baselines3) (12.1.0.106)\n",
      "Requirement already satisfied: nvidia-nccl-cu12==2.20.5 in /home/jovyan/.local/lib/python3.11/site-packages (from torch>=1.13->stable-baselines3) (2.20.5)\n",
      "Requirement already satisfied: nvidia-nvtx-cu12==12.1.105 in /home/jovyan/.local/lib/python3.11/site-packages (from torch>=1.13->stable-baselines3) (12.1.105)\n",
      "Requirement already satisfied: triton==3.0.0 in /home/jovyan/.local/lib/python3.11/site-packages (from torch>=1.13->stable-baselines3) (3.0.0)\n",
      "Requirement already satisfied: nvidia-nvjitlink-cu12 in /home/jovyan/.local/lib/python3.11/site-packages (from nvidia-cusolver-cu12==11.4.5.107->torch>=1.13->stable-baselines3) (12.1.105)\n",
      "Requirement already satisfied: contourpy>=1.0.1 in /opt/conda/lib/python3.11/site-packages (from matplotlib->stable-baselines3) (1.2.0)\n",
      "Requirement already satisfied: cycler>=0.10 in /opt/conda/lib/python3.11/site-packages (from matplotlib->stable-baselines3) (0.12.1)\n",
      "Requirement already satisfied: fonttools>=4.22.0 in /opt/conda/lib/python3.11/site-packages (from matplotlib->stable-baselines3) (4.47.2)\n",
      "Requirement already satisfied: kiwisolver>=1.3.1 in /opt/conda/lib/python3.11/site-packages (from matplotlib->stable-baselines3) (1.4.5)\n",
      "Requirement already satisfied: packaging>=20.0 in /opt/conda/lib/python3.11/site-packages (from matplotlib->stable-baselines3) (23.2)\n",
      "Requirement already satisfied: pillow>=8 in /home/jovyan/.local/lib/python3.11/site-packages (from matplotlib->stable-baselines3) (10.2.0)\n",
      "Requirement already satisfied: pyparsing>=2.3.1 in /opt/conda/lib/python3.11/site-packages (from matplotlib->stable-baselines3) (3.1.1)\n",
      "Requirement already satisfied: python-dateutil>=2.7 in /opt/conda/lib/python3.11/site-packages (from matplotlib->stable-baselines3) (2.8.2)\n",
      "Requirement already satisfied: pytz>=2020.1 in /opt/conda/lib/python3.11/site-packages (from pandas->stable-baselines3) (2023.3.post1)\n",
      "Requirement already satisfied: tzdata>=2022.7 in /opt/conda/lib/python3.11/site-packages (from pandas->stable-baselines3) (2023.4)\n",
      "Requirement already satisfied: six>=1.5 in /opt/conda/lib/python3.11/site-packages (from python-dateutil>=2.7->matplotlib->stable-baselines3) (1.16.0)\n",
      "Requirement already satisfied: MarkupSafe>=2.0 in /home/jovyan/.local/lib/python3.11/site-packages (from jinja2->torch>=1.13->stable-baselines3) (2.1.5)\n",
      "Requirement already satisfied: mpmath>=0.19 in /home/jovyan/.local/lib/python3.11/site-packages (from sympy->torch>=1.13->stable-baselines3) (1.3.0)\n",
      "Downloading stable_baselines3-2.3.2-py3-none-any.whl (182 kB)\n",
      "\u001b[2K   \u001b[90m━━━━━━━━━━━━━━━━━━━━━━━━━━━━━━━━━━━━━━━━\u001b[0m \u001b[32m182.3/182.3 kB\u001b[0m \u001b[31m3.8 MB/s\u001b[0m eta \u001b[36m0:00:00\u001b[0m \u001b[36m0:00:01\u001b[0m\n",
      "\u001b[?25hInstalling collected packages: stable-baselines3\n",
      "Successfully installed stable-baselines3-2.3.2\n",
      "Looking in indexes: https://pypi.org/simple, https://pypi.ngc.nvidia.com\n",
      "Requirement already satisfied: stable-baselines3[extra] in /opt/conda/lib/python3.11/site-packages (2.3.2)\n",
      "Requirement already satisfied: gymnasium<0.30,>=0.28.1 in /opt/conda/lib/python3.11/site-packages (from stable-baselines3[extra]) (0.29.1)\n",
      "Requirement already satisfied: numpy>=1.20 in /home/jovyan/.local/lib/python3.11/site-packages (from stable-baselines3[extra]) (1.26.3)\n",
      "Requirement already satisfied: torch>=1.13 in /home/jovyan/.local/lib/python3.11/site-packages (from stable-baselines3[extra]) (2.4.0+cu121)\n",
      "Requirement already satisfied: cloudpickle in /opt/conda/lib/python3.11/site-packages (from stable-baselines3[extra]) (3.0.0)\n",
      "Requirement already satisfied: pandas in /opt/conda/lib/python3.11/site-packages (from stable-baselines3[extra]) (2.2.0)\n",
      "Requirement already satisfied: matplotlib in /opt/conda/lib/python3.11/site-packages (from stable-baselines3[extra]) (3.8.2)\n",
      "Collecting opencv-python (from stable-baselines3[extra])\n",
      "  Downloading opencv_python-4.10.0.84-cp37-abi3-manylinux_2_17_x86_64.manylinux2014_x86_64.whl.metadata (20 kB)\n",
      "Collecting pygame (from stable-baselines3[extra])\n",
      "  Downloading pygame-2.6.0-cp311-cp311-manylinux_2_17_x86_64.manylinux2014_x86_64.whl.metadata (12 kB)\n",
      "Requirement already satisfied: tensorboard>=2.9.1 in /opt/conda/lib/python3.11/site-packages (from stable-baselines3[extra]) (2.15.1)\n",
      "Requirement already satisfied: psutil in /opt/conda/lib/python3.11/site-packages (from stable-baselines3[extra]) (5.9.8)\n",
      "Requirement already satisfied: tqdm in /opt/conda/lib/python3.11/site-packages (from stable-baselines3[extra]) (4.66.1)\n",
      "Collecting rich (from stable-baselines3[extra])\n",
      "  Downloading rich-13.7.1-py3-none-any.whl.metadata (18 kB)\n",
      "Collecting shimmy~=1.3.0 (from shimmy[atari]~=1.3.0; extra == \"extra\"->stable-baselines3[extra])\n",
      "  Downloading Shimmy-1.3.0-py3-none-any.whl.metadata (3.7 kB)\n",
      "Requirement already satisfied: pillow in /home/jovyan/.local/lib/python3.11/site-packages (from stable-baselines3[extra]) (10.2.0)\n",
      "Collecting autorom~=0.6.1 (from autorom[accept-rom-license]~=0.6.1; extra == \"extra\"->stable-baselines3[extra])\n",
      "  Downloading AutoROM-0.6.1-py3-none-any.whl.metadata (2.4 kB)\n",
      "Requirement already satisfied: click in /opt/conda/lib/python3.11/site-packages (from autorom~=0.6.1->autorom[accept-rom-license]~=0.6.1; extra == \"extra\"->stable-baselines3[extra]) (8.1.7)\n",
      "Requirement already satisfied: requests in /opt/conda/lib/python3.11/site-packages (from autorom~=0.6.1->autorom[accept-rom-license]~=0.6.1; extra == \"extra\"->stable-baselines3[extra]) (2.31.0)\n",
      "Collecting AutoROM.accept-rom-license (from autorom[accept-rom-license]~=0.6.1; extra == \"extra\"->stable-baselines3[extra])\n",
      "  Downloading AutoROM.accept-rom-license-0.6.1.tar.gz (434 kB)\n",
      "\u001b[2K     \u001b[90m━━━━━━━━━━━━━━━━━━━━━━━━━━━━━━━━━━━━━━━\u001b[0m \u001b[32m434.7/434.7 kB\u001b[0m \u001b[31m7.7 MB/s\u001b[0m eta \u001b[36m0:00:00\u001b[0ma \u001b[36m0:00:01\u001b[0m\n",
      "\u001b[?25h  Installing build dependencies ... \u001b[?25ldone\n",
      "\u001b[?25h  Getting requirements to build wheel ... \u001b[?25ldone\n",
      "\u001b[?25h  Preparing metadata (pyproject.toml) ... \u001b[?25ldone\n",
      "\u001b[?25hRequirement already satisfied: typing-extensions>=4.3.0 in /home/jovyan/.local/lib/python3.11/site-packages (from gymnasium<0.30,>=0.28.1->stable-baselines3[extra]) (4.9.0)\n",
      "Requirement already satisfied: farama-notifications>=0.0.1 in /opt/conda/lib/python3.11/site-packages (from gymnasium<0.30,>=0.28.1->stable-baselines3[extra]) (0.0.4)\n",
      "Collecting ale-py~=0.8.1 (from shimmy[atari]~=1.3.0; extra == \"extra\"->stable-baselines3[extra])\n",
      "  Downloading ale_py-0.8.1-cp311-cp311-manylinux_2_17_x86_64.manylinux2014_x86_64.whl.metadata (8.1 kB)\n",
      "Requirement already satisfied: absl-py>=0.4 in /opt/conda/lib/python3.11/site-packages (from tensorboard>=2.9.1->stable-baselines3[extra]) (2.1.0)\n",
      "Requirement already satisfied: grpcio>=1.48.2 in /opt/conda/lib/python3.11/site-packages (from tensorboard>=2.9.1->stable-baselines3[extra]) (1.60.0)\n",
      "Requirement already satisfied: google-auth<3,>=1.6.3 in /opt/conda/lib/python3.11/site-packages (from tensorboard>=2.9.1->stable-baselines3[extra]) (2.26.2)\n",
      "Requirement already satisfied: google-auth-oauthlib<2,>=0.5 in /opt/conda/lib/python3.11/site-packages (from tensorboard>=2.9.1->stable-baselines3[extra]) (1.2.0)\n",
      "Requirement already satisfied: markdown>=2.6.8 in /opt/conda/lib/python3.11/site-packages (from tensorboard>=2.9.1->stable-baselines3[extra]) (3.5.2)\n",
      "Requirement already satisfied: protobuf<4.24,>=3.19.6 in /opt/conda/lib/python3.11/site-packages (from tensorboard>=2.9.1->stable-baselines3[extra]) (4.23.4)\n",
      "Requirement already satisfied: setuptools>=41.0.0 in /opt/conda/lib/python3.11/site-packages (from tensorboard>=2.9.1->stable-baselines3[extra]) (69.0.3)\n",
      "Requirement already satisfied: six>1.9 in /opt/conda/lib/python3.11/site-packages (from tensorboard>=2.9.1->stable-baselines3[extra]) (1.16.0)\n",
      "Requirement already satisfied: tensorboard-data-server<0.8.0,>=0.7.0 in /opt/conda/lib/python3.11/site-packages (from tensorboard>=2.9.1->stable-baselines3[extra]) (0.7.2)\n",
      "Requirement already satisfied: werkzeug>=1.0.1 in /opt/conda/lib/python3.11/site-packages (from tensorboard>=2.9.1->stable-baselines3[extra]) (3.0.1)\n",
      "Requirement already satisfied: filelock in /home/jovyan/.local/lib/python3.11/site-packages (from torch>=1.13->stable-baselines3[extra]) (3.13.1)\n",
      "Requirement already satisfied: sympy in /home/jovyan/.local/lib/python3.11/site-packages (from torch>=1.13->stable-baselines3[extra]) (1.12)\n",
      "Requirement already satisfied: networkx in /home/jovyan/.local/lib/python3.11/site-packages (from torch>=1.13->stable-baselines3[extra]) (3.2.1)\n",
      "Requirement already satisfied: jinja2 in /home/jovyan/.local/lib/python3.11/site-packages (from torch>=1.13->stable-baselines3[extra]) (3.1.3)\n",
      "Requirement already satisfied: fsspec in /home/jovyan/.local/lib/python3.11/site-packages (from torch>=1.13->stable-baselines3[extra]) (2024.2.0)\n",
      "Requirement already satisfied: nvidia-cuda-nvrtc-cu12==12.1.105 in /home/jovyan/.local/lib/python3.11/site-packages (from torch>=1.13->stable-baselines3[extra]) (12.1.105)\n",
      "Requirement already satisfied: nvidia-cuda-runtime-cu12==12.1.105 in /home/jovyan/.local/lib/python3.11/site-packages (from torch>=1.13->stable-baselines3[extra]) (12.1.105)\n",
      "Requirement already satisfied: nvidia-cuda-cupti-cu12==12.1.105 in /home/jovyan/.local/lib/python3.11/site-packages (from torch>=1.13->stable-baselines3[extra]) (12.1.105)\n",
      "Requirement already satisfied: nvidia-cudnn-cu12==9.1.0.70 in /home/jovyan/.local/lib/python3.11/site-packages (from torch>=1.13->stable-baselines3[extra]) (9.1.0.70)\n",
      "Requirement already satisfied: nvidia-cublas-cu12==12.1.3.1 in /home/jovyan/.local/lib/python3.11/site-packages (from torch>=1.13->stable-baselines3[extra]) (12.1.3.1)\n",
      "Requirement already satisfied: nvidia-cufft-cu12==11.0.2.54 in /home/jovyan/.local/lib/python3.11/site-packages (from torch>=1.13->stable-baselines3[extra]) (11.0.2.54)\n",
      "Requirement already satisfied: nvidia-curand-cu12==10.3.2.106 in /home/jovyan/.local/lib/python3.11/site-packages (from torch>=1.13->stable-baselines3[extra]) (10.3.2.106)\n",
      "Requirement already satisfied: nvidia-cusolver-cu12==11.4.5.107 in /home/jovyan/.local/lib/python3.11/site-packages (from torch>=1.13->stable-baselines3[extra]) (11.4.5.107)\n",
      "Requirement already satisfied: nvidia-cusparse-cu12==12.1.0.106 in /home/jovyan/.local/lib/python3.11/site-packages (from torch>=1.13->stable-baselines3[extra]) (12.1.0.106)\n",
      "Requirement already satisfied: nvidia-nccl-cu12==2.20.5 in /home/jovyan/.local/lib/python3.11/site-packages (from torch>=1.13->stable-baselines3[extra]) (2.20.5)\n",
      "Requirement already satisfied: nvidia-nvtx-cu12==12.1.105 in /home/jovyan/.local/lib/python3.11/site-packages (from torch>=1.13->stable-baselines3[extra]) (12.1.105)\n",
      "Requirement already satisfied: triton==3.0.0 in /home/jovyan/.local/lib/python3.11/site-packages (from torch>=1.13->stable-baselines3[extra]) (3.0.0)\n",
      "Requirement already satisfied: nvidia-nvjitlink-cu12 in /home/jovyan/.local/lib/python3.11/site-packages (from nvidia-cusolver-cu12==11.4.5.107->torch>=1.13->stable-baselines3[extra]) (12.1.105)\n",
      "Requirement already satisfied: contourpy>=1.0.1 in /opt/conda/lib/python3.11/site-packages (from matplotlib->stable-baselines3[extra]) (1.2.0)\n",
      "Requirement already satisfied: cycler>=0.10 in /opt/conda/lib/python3.11/site-packages (from matplotlib->stable-baselines3[extra]) (0.12.1)\n",
      "Requirement already satisfied: fonttools>=4.22.0 in /opt/conda/lib/python3.11/site-packages (from matplotlib->stable-baselines3[extra]) (4.47.2)\n",
      "Requirement already satisfied: kiwisolver>=1.3.1 in /opt/conda/lib/python3.11/site-packages (from matplotlib->stable-baselines3[extra]) (1.4.5)\n",
      "Requirement already satisfied: packaging>=20.0 in /opt/conda/lib/python3.11/site-packages (from matplotlib->stable-baselines3[extra]) (23.2)\n",
      "Requirement already satisfied: pyparsing>=2.3.1 in /opt/conda/lib/python3.11/site-packages (from matplotlib->stable-baselines3[extra]) (3.1.1)\n",
      "Requirement already satisfied: python-dateutil>=2.7 in /opt/conda/lib/python3.11/site-packages (from matplotlib->stable-baselines3[extra]) (2.8.2)\n",
      "Requirement already satisfied: pytz>=2020.1 in /opt/conda/lib/python3.11/site-packages (from pandas->stable-baselines3[extra]) (2023.3.post1)\n",
      "Requirement already satisfied: tzdata>=2022.7 in /opt/conda/lib/python3.11/site-packages (from pandas->stable-baselines3[extra]) (2023.4)\n",
      "Collecting markdown-it-py>=2.2.0 (from rich->stable-baselines3[extra])\n",
      "  Downloading markdown_it_py-3.0.0-py3-none-any.whl.metadata (6.9 kB)\n",
      "Requirement already satisfied: pygments<3.0.0,>=2.13.0 in /opt/conda/lib/python3.11/site-packages (from rich->stable-baselines3[extra]) (2.17.2)\n",
      "Requirement already satisfied: importlib-resources in /opt/conda/lib/python3.11/site-packages (from ale-py~=0.8.1->shimmy[atari]~=1.3.0; extra == \"extra\"->stable-baselines3[extra]) (6.1.1)\n",
      "Requirement already satisfied: cachetools<6.0,>=2.0.0 in /opt/conda/lib/python3.11/site-packages (from google-auth<3,>=1.6.3->tensorboard>=2.9.1->stable-baselines3[extra]) (5.3.2)\n",
      "Requirement already satisfied: pyasn1-modules>=0.2.1 in /opt/conda/lib/python3.11/site-packages (from google-auth<3,>=1.6.3->tensorboard>=2.9.1->stable-baselines3[extra]) (0.3.0)\n",
      "Requirement already satisfied: rsa<5,>=3.1.4 in /opt/conda/lib/python3.11/site-packages (from google-auth<3,>=1.6.3->tensorboard>=2.9.1->stable-baselines3[extra]) (4.9)\n",
      "Requirement already satisfied: requests-oauthlib>=0.7.0 in /opt/conda/lib/python3.11/site-packages (from google-auth-oauthlib<2,>=0.5->tensorboard>=2.9.1->stable-baselines3[extra]) (1.3.1)\n",
      "Collecting mdurl~=0.1 (from markdown-it-py>=2.2.0->rich->stable-baselines3[extra])\n",
      "  Downloading mdurl-0.1.2-py3-none-any.whl.metadata (1.6 kB)\n",
      "Requirement already satisfied: charset-normalizer<4,>=2 in /opt/conda/lib/python3.11/site-packages (from requests->autorom~=0.6.1->autorom[accept-rom-license]~=0.6.1; extra == \"extra\"->stable-baselines3[extra]) (3.3.2)\n",
      "Requirement already satisfied: idna<4,>=2.5 in /opt/conda/lib/python3.11/site-packages (from requests->autorom~=0.6.1->autorom[accept-rom-license]~=0.6.1; extra == \"extra\"->stable-baselines3[extra]) (3.6)\n",
      "Requirement already satisfied: urllib3<3,>=1.21.1 in /opt/conda/lib/python3.11/site-packages (from requests->autorom~=0.6.1->autorom[accept-rom-license]~=0.6.1; extra == \"extra\"->stable-baselines3[extra]) (2.1.0)\n",
      "Requirement already satisfied: certifi>=2017.4.17 in /opt/conda/lib/python3.11/site-packages (from requests->autorom~=0.6.1->autorom[accept-rom-license]~=0.6.1; extra == \"extra\"->stable-baselines3[extra]) (2024.2.2)\n",
      "Requirement already satisfied: MarkupSafe>=2.1.1 in /home/jovyan/.local/lib/python3.11/site-packages (from werkzeug>=1.0.1->tensorboard>=2.9.1->stable-baselines3[extra]) (2.1.5)\n",
      "Requirement already satisfied: mpmath>=0.19 in /home/jovyan/.local/lib/python3.11/site-packages (from sympy->torch>=1.13->stable-baselines3[extra]) (1.3.0)\n",
      "Requirement already satisfied: pyasn1<0.6.0,>=0.4.6 in /opt/conda/lib/python3.11/site-packages (from pyasn1-modules>=0.2.1->google-auth<3,>=1.6.3->tensorboard>=2.9.1->stable-baselines3[extra]) (0.5.1)\n",
      "Requirement already satisfied: oauthlib>=3.0.0 in /opt/conda/lib/python3.11/site-packages (from requests-oauthlib>=0.7.0->google-auth-oauthlib<2,>=0.5->tensorboard>=2.9.1->stable-baselines3[extra]) (3.2.2)\n",
      "Downloading AutoROM-0.6.1-py3-none-any.whl (9.4 kB)\n",
      "Downloading Shimmy-1.3.0-py3-none-any.whl (37 kB)\n",
      "Downloading opencv_python-4.10.0.84-cp37-abi3-manylinux_2_17_x86_64.manylinux2014_x86_64.whl (62.5 MB)\n",
      "\u001b[2K   \u001b[90m━━━━━━━━━━━━━━━━━━━━━━━━━━━━━━━━━━━━━━━━\u001b[0m \u001b[32m62.5/62.5 MB\u001b[0m \u001b[31m117.3 MB/s\u001b[0m eta \u001b[36m0:00:00\u001b[0m00:01\u001b[0m00:01\u001b[0m\n",
      "\u001b[?25hDownloading pygame-2.6.0-cp311-cp311-manylinux_2_17_x86_64.manylinux2014_x86_64.whl (14.0 MB)\n",
      "\u001b[2K   \u001b[90m━━━━━━━━━━━━━━━━━━━━━━━━━━━━━━━━━━━━━━━━\u001b[0m \u001b[32m14.0/14.0 MB\u001b[0m \u001b[31m116.7 MB/s\u001b[0m eta \u001b[36m0:00:00\u001b[0ma \u001b[36m0:00:01\u001b[0m\n",
      "\u001b[?25hDownloading rich-13.7.1-py3-none-any.whl (240 kB)\n",
      "\u001b[2K   \u001b[90m━━━━━━━━━━━━━━━━━━━━━━━━━━━━━━━━━━━━━━━\u001b[0m \u001b[32m240.7/240.7 kB\u001b[0m \u001b[31m276.3 MB/s\u001b[0m eta \u001b[36m0:00:00\u001b[0m\n",
      "\u001b[?25hDownloading ale_py-0.8.1-cp311-cp311-manylinux_2_17_x86_64.manylinux2014_x86_64.whl (1.7 MB)\n",
      "\u001b[2K   \u001b[90m━━━━━━━━━━━━━━━━━━━━━━━━━━━━━━━━━━━━━━━━\u001b[0m \u001b[32m1.7/1.7 MB\u001b[0m \u001b[31m181.3 MB/s\u001b[0m eta \u001b[36m0:00:00\u001b[0m\n",
      "\u001b[?25hDownloading markdown_it_py-3.0.0-py3-none-any.whl (87 kB)\n",
      "\u001b[2K   \u001b[90m━━━━━━━━━━━━━━━━━━━━━━━━━━━━━━━━━━━━━━━━\u001b[0m \u001b[32m87.5/87.5 kB\u001b[0m \u001b[31m237.3 MB/s\u001b[0m eta \u001b[36m0:00:00\u001b[0m\n",
      "\u001b[?25hDownloading mdurl-0.1.2-py3-none-any.whl (10.0 kB)\n",
      "Building wheels for collected packages: AutoROM.accept-rom-license\n",
      "  Building wheel for AutoROM.accept-rom-license (pyproject.toml) ... \u001b[?25ldone\n",
      "\u001b[?25h  Created wheel for AutoROM.accept-rom-license: filename=AutoROM.accept_rom_license-0.6.1-py3-none-any.whl size=446661 sha256=5a8d1e03d9f593002426c6b78155b4d93d85168fa8157883b521b178c01a2d63\n",
      "  Stored in directory: /tmp/pip-ephem-wheel-cache-wto502yd/wheels/bc/fc/c6/8aa657c0d2089982f2dabd110efc68c61eb49831fdb7397351\n",
      "Successfully built AutoROM.accept-rom-license\n",
      "Installing collected packages: pygame, opencv-python, mdurl, ale-py, shimmy, markdown-it-py, AutoROM.accept-rom-license, autorom, rich\n",
      "Successfully installed AutoROM.accept-rom-license-0.6.1 ale-py-0.8.1 autorom-0.6.1 markdown-it-py-3.0.0 mdurl-0.1.2 opencv-python-4.10.0.84 pygame-2.6.0 rich-13.7.1 shimmy-1.3.0\n",
      "Cuda available: True\n"
     ]
    },
    {
     "name": "stderr",
     "output_type": "stream",
     "text": [
      "2024-08-09 13:38:10.773909: I tensorflow/core/util/port.cc:113] oneDNN custom operations are on. You may see slightly different numerical results due to floating-point round-off errors from different computation orders. To turn them off, set the environment variable `TF_ENABLE_ONEDNN_OPTS=0`.\n",
      "2024-08-09 13:38:10.833728: E external/local_xla/xla/stream_executor/cuda/cuda_dnn.cc:9261] Unable to register cuDNN factory: Attempting to register factory for plugin cuDNN when one has already been registered\n",
      "2024-08-09 13:38:10.833789: E external/local_xla/xla/stream_executor/cuda/cuda_fft.cc:607] Unable to register cuFFT factory: Attempting to register factory for plugin cuFFT when one has already been registered\n",
      "2024-08-09 13:38:10.835740: E external/local_xla/xla/stream_executor/cuda/cuda_blas.cc:1515] Unable to register cuBLAS factory: Attempting to register factory for plugin cuBLAS when one has already been registered\n",
      "2024-08-09 13:38:10.847432: I tensorflow/core/platform/cpu_feature_guard.cc:182] This TensorFlow binary is optimized to use available CPU instructions in performance-critical operations.\n",
      "To enable the following instructions: AVX2 AVX512F AVX512_VNNI AVX512_BF16 AVX_VNNI AMX_TILE AMX_INT8 AMX_BF16 FMA, in other operations, rebuild TensorFlow with the appropriate compiler flags.\n",
      "2024-08-09 13:38:11.983837: W tensorflow/compiler/tf2tensorrt/utils/py_utils.cc:38] TF-TRT Warning: Could not find TensorRT\n"
     ]
    }
   ],
   "source": [
    "!pip3 install gymnasium\n",
    "#!pip3 install xgboost\n",
    "!pip3 install stable-baselines3\n",
    "!pip3 install stable-baselines3[extra]\n",
    "#!pip3 install tqdm\n",
    "#!pip3 install rich\n",
    "#!pip install --upgrade --force-reinstall torch torchvision torchaudio --index-url https://download.pytorch.org/whl/cu121 --user\n",
    "\n",
    "import os\n",
    "#os.environ[\"CUDA_VISIBLE_DEVICES\"] = \"1\"\n",
    "#os.environ[\"WORLD_SIZE\"] = \"1\"\n",
    "import argparse\n",
    "import gymnasium as gym\n",
    "import matplotlib.pyplot as plt\n",
    "import numpy as np\n",
    "import numpy.ma as ma\n",
    "import pandas as pd\n",
    "import seaborn as sns\n",
    "import torch\n",
    "import torch.nn as nn\n",
    "import xgboost as xgb\n",
    "import pickle\n",
    "import math\n",
    "\n",
    "print('Cuda available:', torch.cuda.is_available())\n",
    "\n",
    "from tqdm import tqdm\n",
    "from gymnasium import spaces\n",
    "from matplotlib.pyplot import figure\n",
    "from matplotlib.lines import Line2D\n",
    "from sklearn.ensemble import RandomForestClassifier\n",
    "from sklearn.feature_selection import RFE\n",
    "from sklearn.model_selection import train_test_split\n",
    "from sklearn.tree import DecisionTreeClassifier\n",
    "from stable_baselines3 import PPO\n",
    "from torch.utils.data import Dataset\n",
    "from torch.utils.tensorboard.writer import SummaryWriter \n",
    "import torch.nn.functional as F"
   ]
  },
  {
   "cell_type": "code",
   "execution_count": 4,
   "id": "15e07068-fffa-4f19-83f0-7bdb9adb0479",
   "metadata": {
    "tags": []
   },
   "outputs": [],
   "source": [
    "class Team1Model(nn.Module):\n",
    "    def __init__(self, num_classes):\n",
    "        super().__init__()\n",
    "        self.num_classes = num_classes\n",
    "\n",
    "        self.conv1 = nn.Conv2d(in_channels=1, out_channels=16, kernel_size=(2, 16))\n",
    "        self.pool = nn.MaxPool2d(kernel_size=(1, 2), stride=(1, 2))\n",
    "        self.conv2 = nn.Conv2d(in_channels=16, out_channels=64, kernel_size=(1, 8))\n",
    "        self.conv3 = nn.Conv2d(in_channels=64, out_channels=128, kernel_size=(1, 8))\n",
    "        #self.fc1 = nn.Linear(in_features=15360, out_features=1200)  # Fully Connected Layer\n",
    "        self.fc1 = nn.LazyLinear(out_features=1200)\n",
    "        self.fc2 = nn.Linear(in_features=1200, out_features=100)\n",
    "        self.fc3 = nn.Linear(in_features=100, out_features=65)\n",
    "        self.fc4 = nn.Linear(in_features=65, out_features=self.num_classes)\n",
    "\n",
    "    def forward(self, x):\n",
    "        x = F.relu(self.conv1(x))\n",
    "        # print(f'after conv1: {x.shape}')\n",
    "        x = self.pool(x)\n",
    "        # print(f'after pool: {x.shape}')\n",
    "        x = F.relu(self.conv2(x))\n",
    "        # print(f'after conv2: {x.shape}')\n",
    "        x = self.pool(x)\n",
    "        # print(f'after pool: {x.shape}')\n",
    "        x = F.relu(self.conv3(x))\n",
    "        # print(f'after conv3: {x.shape}')\n",
    "        x = self.pool(x)\n",
    "        # print(f'after pool: {x.shape}')\n",
    "        x = x.reshape(x.shape[0], -1)\n",
    "        # print(f'after reshaping: {x.shape}')\n",
    "        x = F.relu(self.fc1(x))\n",
    "        # print(f'fc1: {x.shape}')\n",
    "        x = F.relu(self.fc2(x))\n",
    "        # print(f'fc2: {x.shape}')\n",
    "        x = F.relu(self.fc3(x))\n",
    "        # print(f'fc3: {x.shape}')\n",
    "        #x = F.relu(self.fc4(x))\n",
    "        x = self.fc4(x)\n",
    "        # print(f'fc3: {x.shape}')\n",
    "\n",
    "        return x"
   ]
  },
  {
   "cell_type": "code",
   "execution_count": 5,
   "id": "0d2fca4a-fbd9-4abe-b3fe-03c22e055f4e",
   "metadata": {
    "tags": []
   },
   "outputs": [],
   "source": [
    "class Team2Model(nn.Module):\n",
    "    def __init__(self, num_classes):\n",
    "        super().__init__()\n",
    "        self.conv_layers = nn.Sequential(\n",
    "            nn.Conv1d(2, 128, 8, dtype=torch.float32),\n",
    "            nn.ReLU(),\n",
    "            nn.MaxPool1d(4),\n",
    "            nn.BatchNorm1d(128),\n",
    "            nn.Conv1d(128, 256, 8, dtype=torch.float32),\n",
    "            nn.ReLU(),\n",
    "            nn.MaxPool1d(4),\n",
    "            nn.BatchNorm1d(256),\n",
    "            nn.Conv1d(256, 512, 8, dtype=torch.float32),\n",
    "            nn.ReLU(),\n",
    "            nn.MaxPool1d(4),\n",
    "            nn.BatchNorm1d(512),\n",
    "            nn.Conv1d(512, 1024, 8, dtype=torch.float32),\n",
    "            nn.ReLU(),\n",
    "            nn.MaxPool1d(4),\n",
    "            nn.BatchNorm1d(1024),\n",
    "        )\n",
    "\n",
    "        self.fc1 = nn.LazyLinear(512, dtype=torch.float32)\n",
    "        self.fc2 = nn.Linear(512, num_classes, dtype=torch.float32)\n",
    "        # self.fc = nn.Sequential(\n",
    "        #     nn.LazyLinear(512, dtype=torch.float32),\n",
    "        #     nn.ReLU(),\n",
    "        #     nn.Linear(512, num_classes, dtype=torch.float32),\n",
    "        #     nn.ReLU(),\n",
    "        # )\n",
    "\n",
    "    def forward(self, x):\n",
    "        x = x.squeeze(1)\n",
    "        for layer in self.conv_layers:\n",
    "            x = layer(x)\n",
    "        x = x.flatten(1)\n",
    "        x = F.relu(self.fc1(x))\n",
    "        #x = F.relu(self.fc2(x))\n",
    "        x = self.fc2(x)\n",
    "        #return F.softmax(x, dim=1)\n",
    "        return x"
   ]
  },
  {
   "cell_type": "code",
   "execution_count": 6,
   "id": "55d8aec7-bb97-4770-bb3a-132df6d99249",
   "metadata": {
    "tags": []
   },
   "outputs": [],
   "source": [
    "# From headley_modrec.py\n",
    "class Team3Model(nn.Module):\n",
    "    def __init__(self, num_classes):\n",
    "        super().__init__()\n",
    "        self.num_classes = num_classes\n",
    "\n",
    "        self.conv1 = nn.Conv2d(1, 16, (2, 16))\n",
    "        self.conv2 = nn.Conv2d(16, 8, (1, 8))\n",
    "        self.conv3 = nn.Conv2d(8, 4, (1, 4))\n",
    "        #self.fc1 = nn.Linear(3996, 512)\n",
    "        self.fc1 = nn.LazyLinear(out_features=512)\n",
    "        self.fc2 = nn.Linear(512, 128)\n",
    "        self.fc3 = nn.Linear(128, 64)\n",
    "        self.fc4 = nn.Linear(64, self.num_classes)\n",
    "\n",
    "        self.activation = {}\n",
    "\n",
    "    def forward(self, x):\n",
    "        x = F.tanh(self.conv1(x))\n",
    "        x = F.tanh(self.conv2(x))\n",
    "        x = F.tanh(self.conv3(x))\n",
    "        x = torch.flatten(x, 1)\n",
    "        x = F.relu(self.fc1(x))\n",
    "        x = F.relu(self.fc2(x))\n",
    "        x = F.relu(self.fc3(x))\n",
    "        x = self.fc4(x)\n",
    "        return x"
   ]
  },
  {
   "cell_type": "code",
   "execution_count": 7,
   "id": "6c5246f3-c533-4701-afb5-b5bac3d4c643",
   "metadata": {
    "tags": []
   },
   "outputs": [],
   "source": [
    "class Team4Model(nn.Module):\n",
    "    def __init__(self, num_classes):\n",
    "        super().__init__()\n",
    "        self.conv1 = nn.Conv2d(1, 32, kernel_size=3, padding=1)\n",
    "        self.re1 = nn.ReLU()\n",
    "        self.pool1 = nn.MaxPool2d(kernel_size=(1, 2), stride=(1, 2))\n",
    "\n",
    "        self.conv2 = nn.Conv2d(32, 64, kernel_size=3, padding=1)\n",
    "        self.re2 = nn.ReLU()\n",
    "        self.pool2 = nn.MaxPool2d(kernel_size=(1, 2), stride=(1, 2))\n",
    "\n",
    "        self.conv3 = nn.Conv2d(64, 128, kernel_size=3, padding=1)\n",
    "        self.re3 = nn.ReLU()\n",
    "        self.pool3 = nn.MaxPool2d(kernel_size=(1, 2), stride=(1, 2))\n",
    "\n",
    "        self.conv4 = nn.Conv2d(128, 256, kernel_size=3, padding=1)\n",
    "        self.re4 = nn.ReLU()\n",
    "        self.pool4 = nn.MaxPool2d(kernel_size=(1, 2), stride=(1, 2))\n",
    "\n",
    "        self.flat = nn.Flatten()\n",
    "        self.drop1 = nn.Dropout(0.5)\n",
    "        #self.fc1 = nn.Linear(128 * 256,512)  # I dont exactly know why it is 128x256, but I had to do some debugging and hardcode the required value\n",
    "        self.fc1 = nn.LazyLinear(out_features=512)\n",
    "\n",
    "        self.re5 = nn.ReLU()\n",
    "        self.drop2 = nn.Dropout(0.5)\n",
    "        self.fc2 = nn.Linear(512, 256)\n",
    "        self.re6 = nn.ReLU()\n",
    "        self.fc3 = nn.Linear(256, num_classes)\n",
    "\n",
    "    def forward(self, x):\n",
    "        x = self.pool1(self.re1(self.conv1(x)))\n",
    "        x = self.pool2(self.re2(self.conv2(x)))\n",
    "        x = self.pool3(self.re3(self.conv3(x)))\n",
    "        x = self.pool4(self.re4(self.conv4(x)))\n",
    "        x = self.flat(x)\n",
    "        x = self.drop1(x)\n",
    "        x = self.re5(self.fc1(x))\n",
    "        x = self.drop2(x)\n",
    "        x = self.re6(self.fc2(x))\n",
    "        x = self.fc3(x)\n",
    "        return x"
   ]
  },
  {
   "cell_type": "code",
   "execution_count": 8,
   "id": "75296804-f78a-4a54-948f-d5a7dd106a1f",
   "metadata": {
    "tags": []
   },
   "outputs": [
    {
     "name": "stdout",
     "output_type": "stream",
     "text": [
      "Using device cuda\n"
     ]
    },
    {
     "name": "stderr",
     "output_type": "stream",
     "text": [
      "/tmp/ipykernel_443/3659747126.py:15: FutureWarning: You are using `torch.load` with `weights_only=False` (the current default value), which uses the default pickle module implicitly. It is possible to construct malicious pickle data which will execute arbitrary code during unpickling (See https://github.com/pytorch/pytorch/blob/main/SECURITY.md#untrusted-models for more details). In a future release, the default value for `weights_only` will be flipped to `True`. This limits the functions that could be executed during unpickling. Arbitrary objects will no longer be allowed to be loaded via this mode unless they are explicitly allowlisted by the user via `torch.serialization.add_safe_globals`. We recommend you start setting `weights_only=True` for any use case where you don't have full control of the loaded file. Please open an issue on GitHub for any issues related to this experimental feature.\n",
      "  team1_model.load_state_dict(torch.load('../data/summer_models/team1_model.pt', map_location=torch.device('cpu')))\n"
     ]
    },
    {
     "name": "stdout",
     "output_type": "stream",
     "text": [
      "loaded team1\n",
      "loaded team2\n",
      "loaded team3\n"
     ]
    },
    {
     "name": "stderr",
     "output_type": "stream",
     "text": [
      "/tmp/ipykernel_443/3659747126.py:20: FutureWarning: You are using `torch.load` with `weights_only=False` (the current default value), which uses the default pickle module implicitly. It is possible to construct malicious pickle data which will execute arbitrary code during unpickling (See https://github.com/pytorch/pytorch/blob/main/SECURITY.md#untrusted-models for more details). In a future release, the default value for `weights_only` will be flipped to `True`. This limits the functions that could be executed during unpickling. Arbitrary objects will no longer be allowed to be loaded via this mode unless they are explicitly allowlisted by the user via `torch.serialization.add_safe_globals`. We recommend you start setting `weights_only=True` for any use case where you don't have full control of the loaded file. Please open an issue on GitHub for any issues related to this experimental feature.\n",
      "  team2_model.load_state_dict(torch.load('../data/summer_models/team2_model.pt', map_location=torch.device('cpu')))\n",
      "/tmp/ipykernel_443/3659747126.py:25: FutureWarning: You are using `torch.load` with `weights_only=False` (the current default value), which uses the default pickle module implicitly. It is possible to construct malicious pickle data which will execute arbitrary code during unpickling (See https://github.com/pytorch/pytorch/blob/main/SECURITY.md#untrusted-models for more details). In a future release, the default value for `weights_only` will be flipped to `True`. This limits the functions that could be executed during unpickling. Arbitrary objects will no longer be allowed to be loaded via this mode unless they are explicitly allowlisted by the user via `torch.serialization.add_safe_globals`. We recommend you start setting `weights_only=True` for any use case where you don't have full control of the loaded file. Please open an issue on GitHub for any issues related to this experimental feature.\n",
      "  team3_model.load_state_dict(torch.load('../data/summer_models/team3_model.pt', map_location=torch.device('cpu')))\n",
      "/tmp/ipykernel_443/3659747126.py:30: FutureWarning: You are using `torch.load` with `weights_only=False` (the current default value), which uses the default pickle module implicitly. It is possible to construct malicious pickle data which will execute arbitrary code during unpickling (See https://github.com/pytorch/pytorch/blob/main/SECURITY.md#untrusted-models for more details). In a future release, the default value for `weights_only` will be flipped to `True`. This limits the functions that could be executed during unpickling. Arbitrary objects will no longer be allowed to be loaded via this mode unless they are explicitly allowlisted by the user via `torch.serialization.add_safe_globals`. We recommend you start setting `weights_only=True` for any use case where you don't have full control of the loaded file. Please open an issue on GitHub for any issues related to this experimental feature.\n",
      "  team4_model.load_state_dict(torch.load('../data/summer_models/team4_model.pt', map_location=torch.device('cpu')))\n"
     ]
    },
    {
     "name": "stdout",
     "output_type": "stream",
     "text": [
      "loaded team4\n"
     ]
    }
   ],
   "source": [
    "sig_types = [['2-ASK', ['ask', 2], 0],\n",
    "             ['4-ASK', ['ask', 4], 1],\n",
    "             ['8-ASK', ['ask', 8], 2],\n",
    "             ['BPSK', ['psk', 2], 3],\n",
    "             ['QPSK', ['psk', 4], 4],\n",
    "             ['16-QAM', ['qam', 16], 5],\n",
    "             ['Tone', ['constant'], 6],\n",
    "             ['P-FMCW', ['p_fmcw'], 7]]\n",
    "num_classes = len(sig_types)\n",
    "\n",
    "device = \"cuda\" if torch.cuda.is_available() else \"cpu\"\n",
    "print('Using device', device)\n",
    "\n",
    "team1_model = Team1Model(num_classes)\n",
    "team1_model.load_state_dict(torch.load('../data/summer_models/team1_model.pt', map_location=torch.device('cpu')))\n",
    "team1_model.eval()\n",
    "team1_model.to(device)\n",
    "print (\"loaded team1\")\n",
    "team2_model = Team2Model(num_classes)\n",
    "team2_model.load_state_dict(torch.load('../data/summer_models/team2_model.pt', map_location=torch.device('cpu')))\n",
    "team2_model.eval()\n",
    "team2_model.to(device)\n",
    "print (\"loaded team2\")\n",
    "team3_model = Team3Model(num_classes)\n",
    "team3_model.load_state_dict(torch.load('../data/summer_models/team3_model.pt', map_location=torch.device('cpu')))\n",
    "team3_model.eval()\n",
    "team3_model.to(device)\n",
    "print (\"loaded team3\")\n",
    "team4_model = Team4Model(num_classes)\n",
    "team4_model.load_state_dict(torch.load('../data/summer_models/team4_model.pt', map_location=torch.device('cpu')))\n",
    "team4_model.eval()\n",
    "team4_model.to(device)\n",
    "print (\"loaded team4\")"
   ]
  },
  {
   "cell_type": "code",
   "execution_count": 9,
   "id": "84db68ff-eec0-480e-8577-44a68779cb61",
   "metadata": {
    "tags": []
   },
   "outputs": [],
   "source": [
    "#DATA_PATH = os.path.join('fusion_data', 'combined_features_second_to_last_layer.npy')  # Expects file containing numpy array of shape (num_samples, num_features)\n",
    "#LABELS_PATH = os.path.join('fusion_data', 'labels.npy')  # Expects file containing numpy array of shape (num_samples, num_classes)\n",
    "\n",
    "NUM_FEATS_T1 = 65\n",
    "NUM_FEATS_T2 = 512\n",
    "NUM_FEATS_T3 = 64\n",
    "NUM_FEATS_T4 = 256\n",
    "ARRAY_START_IDX_T1 = 0\n",
    "ARRAY_START_IDX_T2 = NUM_FEATS_T1\n",
    "ARRAY_START_IDX_T3 = NUM_FEATS_T1 + NUM_FEATS_T2\n",
    "ARRAY_START_IDX_T4 = NUM_FEATS_T1 + NUM_FEATS_T2 + NUM_FEATS_T3\n",
    "\n",
    "TEAM1_OBS_INT = 2048\n",
    "TEAM2_OBS_INT = 1024\n",
    "TEAM3_OBS_INT = 512\n",
    "TEAM4_OBS_INT = 256\n",
    "\n",
    "#data = torch.from_numpy(np.load(DATA_PATH))\n",
    "#labels = torch.from_numpy(np.load(LABELS_PATH))\n",
    "\n",
    "team1_test_dir = os.path.join('../data/dataset', 'team1', 'test')\n",
    "team2_test_dir = os.path.join('../data/dataset', 'team2', 'test')\n",
    "team3_test_dir = os.path.join('../data/dataset', 'team3', 'test')\n",
    "team4_test_dir = os.path.join('../data/dataset', 'team4', 'test')\n",
    "\n",
    "# Using second to last layer for each model\n",
    "team1_selected_layer = getattr(team1_model, 'fc3')\n",
    "team2_selected_layer = getattr(team2_model, 'fc1')\n",
    "team3_selected_layer = getattr(team3_model, 'fc3')\n",
    "team4_selected_layer = getattr(team4_model, 'fc2')"
   ]
  },
  {
   "cell_type": "code",
   "execution_count": 10,
   "id": "cca03ee8-8e8f-4788-8138-5e4f7320d206",
   "metadata": {
    "tags": []
   },
   "outputs": [],
   "source": [
    "MODELS_OBS_INT = 2048\n",
    "def load_data(channel_path, batch_size, num_batches, num_train_examples, data_obs_int):\n",
    "    training_data = np.zeros((num_train_examples, 1, 2, MODELS_OBS_INT), dtype=np.float32)\n",
    "\n",
    "    last_index = 0\n",
    "    for k in range(num_batches):\n",
    "        # This is used if we have a labeldata folder that stores class labels\n",
    "        label_df = pd.read_csv(f\"{channel_path}/labeldata/example_{k + 1}.csv\")\n",
    "\n",
    "        num_nans = 0\n",
    "        iq_file_name = f\"{channel_path}/iqdata/example_{k + 1}.dat\"\n",
    "        iq_data = np.fromfile(iq_file_name, np.csingle)\n",
    "        iq_data = np.reshape(iq_data, (-1, data_obs_int))  # Turn the IQ data into chunks of (chunk size) x (data_obs_int)\n",
    "        for j in range(iq_data.shape[0]):\n",
    "            # Check if the current row contains NaN values\n",
    "            if np.isnan(np.sum(iq_data[j][:])):    \n",
    "                num_nans += 1\n",
    "            else:\n",
    "                iq_array_norm = iq_data[j][:] / np.max(np.abs(iq_data[j][:]))  # Normalize the observation\n",
    "                iq_array = np.vstack((iq_array_norm.real, iq_array_norm.imag))  # Separate into 2 subarrays - 1 with only real (in-phase), the other only imaginary (quadrature)\n",
    "\n",
    "                # Pad the iq array with zeros to meet the observation length requirement\n",
    "                # This is needed because the CNN models have a fixed input size\n",
    "                iq_array = np.pad(iq_array, ((0, 0), (0, MODELS_OBS_INT - iq_array[0].size)), mode='constant', constant_values=0)\n",
    "\n",
    "                training_data[last_index, 0, :, :] = iq_array\n",
    "            last_index += 1\n",
    "        \n",
    "        if num_nans > 0:\n",
    "            print(f'Found {num_nans} rows containing NaNs in {iq_file_name}')\n",
    "    return torch.utils.data.DataLoader([training_data[i] for i in range(num_train_examples)], batch_size=batch_size, shuffle=False)\n",
    "\n",
    "def load_labels(channel_path, batch_size, num_batches, num_train_examples, data_obs_int):\n",
    "    training_labels = torch.stack([torch.nn.functional.one_hot(torch.tensor(pd.read_csv(os.path.join(channel_path, f'labeldata/example_{i+1}.csv')).iloc[:,0])) for i in range(num_batches)])\n",
    "    return training_labels\n",
    "\n",
    "def get_features(name):\n",
    "    def hook(model, input, output):\n",
    "        features[name] = output.detach()\n",
    "    return hook"
   ]
  },
  {
   "cell_type": "markdown",
   "id": "506043f1-1d96-484b-a5e6-d3559bcce22b",
   "metadata": {
    "tags": []
   },
   "source": [
    "## Plot feature contribution over SNRs"
   ]
  },
  {
   "cell_type": "code",
   "execution_count": 12,
   "id": "289f2cd3-61f9-4f0b-89c7-d33c85979995",
   "metadata": {
    "scrolled": true,
    "tags": []
   },
   "outputs": [
    {
     "name": "stdout",
     "output_type": "stream",
     "text": [
      "Loaded data for SNR 3\n",
      "Number of missing labels: 0\n",
      "Processing data...\n"
     ]
    },
    {
     "name": "stderr",
     "output_type": "stream",
     "text": [
      "Team 1: 5000it [00:03, 1619.00it/s]\n",
      "Team 2: 5000it [00:02, 2186.56it/s]\n",
      "Team 3: 5000it [00:01, 4545.95it/s]\n",
      "Team 4: 5000it [00:01, 2550.03it/s]\n",
      "Getting model importances: 100%|██████████| 10/10 [00:45<00:00,  4.59s/it]\n"
     ]
    },
    {
     "name": "stdout",
     "output_type": "stream",
     "text": [
      "Loaded data for SNR 6\n",
      "Number of missing labels: 0\n",
      "Processing data...\n"
     ]
    },
    {
     "name": "stderr",
     "output_type": "stream",
     "text": [
      "Team 1: 5000it [00:01, 2929.94it/s]\n",
      "Team 2: 5000it [00:02, 2290.22it/s]\n",
      "Team 3: 5000it [00:01, 4394.55it/s]\n",
      "Team 4: 5000it [00:02, 2154.83it/s]\n",
      "Getting model importances: 100%|██████████| 10/10 [00:40<00:00,  4.08s/it]\n"
     ]
    },
    {
     "name": "stdout",
     "output_type": "stream",
     "text": [
      "Loaded data for SNR 7\n",
      "Number of missing labels: 0\n",
      "Processing data...\n"
     ]
    },
    {
     "name": "stderr",
     "output_type": "stream",
     "text": [
      "Team 1: 5000it [00:01, 2887.95it/s]\n",
      "Team 2: 5000it [00:03, 1595.03it/s]\n",
      "Team 3: 5000it [00:01, 4500.69it/s]\n",
      "Team 4: 5000it [00:01, 2589.49it/s]\n",
      "Getting model importances: 100%|██████████| 10/10 [00:42<00:00,  4.22s/it]\n"
     ]
    },
    {
     "name": "stdout",
     "output_type": "stream",
     "text": [
      "Loaded data for SNR 9\n",
      "Number of missing labels: 0\n",
      "Processing data...\n"
     ]
    },
    {
     "name": "stderr",
     "output_type": "stream",
     "text": [
      "Team 1: 5000it [00:02, 2251.25it/s]\n",
      "Team 2: 5000it [00:02, 2305.90it/s]\n",
      "Team 3: 5000it [00:01, 4529.42it/s]\n",
      "Team 4: 5000it [00:01, 2593.19it/s]\n",
      "Getting model importances: 100%|██████████| 10/10 [00:38<00:00,  3.88s/it]\n"
     ]
    },
    {
     "name": "stdout",
     "output_type": "stream",
     "text": [
      "Loaded data for SNR 12\n",
      "Number of missing labels: 0\n",
      "Processing data...\n"
     ]
    },
    {
     "name": "stderr",
     "output_type": "stream",
     "text": [
      "Team 1: 5000it [00:01, 2711.35it/s]\n",
      "Team 2: 5000it [00:02, 2307.09it/s]\n",
      "Team 3: 5000it [00:01, 4350.95it/s]\n",
      "Team 4: 5000it [00:01, 2625.87it/s]\n",
      "Getting model importances: 100%|██████████| 10/10 [00:39<00:00,  3.91s/it]\n"
     ]
    },
    {
     "name": "stdout",
     "output_type": "stream",
     "text": [
      "Loaded data for SNR 4\n",
      "Number of missing labels: 0\n",
      "Processing data...\n"
     ]
    },
    {
     "name": "stderr",
     "output_type": "stream",
     "text": [
      "Team 1: 5000it [00:02, 1928.79it/s]\n",
      "Team 2: 5000it [00:02, 2211.78it/s]\n",
      "Team 3: 5000it [00:01, 4150.36it/s]\n",
      "Team 4: 5000it [00:02, 2482.86it/s]\n",
      "Getting model importances: 100%|██████████| 10/10 [00:39<00:00,  3.95s/it]\n"
     ]
    },
    {
     "name": "stdout",
     "output_type": "stream",
     "text": [
      "Loaded data for SNR 0\n",
      "Number of missing labels: 0\n",
      "Processing data...\n"
     ]
    },
    {
     "name": "stderr",
     "output_type": "stream",
     "text": [
      "Team 1: 5000it [00:02, 1973.06it/s]\n",
      "Team 2: 5000it [00:02, 2275.02it/s]\n",
      "Team 3: 5000it [00:01, 4313.23it/s]\n",
      "Team 4: 5000it [00:01, 2590.69it/s]\n",
      "Getting model importances: 100%|██████████| 10/10 [00:48<00:00,  4.88s/it]\n"
     ]
    },
    {
     "name": "stdout",
     "output_type": "stream",
     "text": [
      "Loaded data for SNR 11\n",
      "Number of missing labels: 0\n",
      "Processing data...\n"
     ]
    },
    {
     "name": "stderr",
     "output_type": "stream",
     "text": [
      "Team 1: 5000it [00:02, 1794.01it/s]\n",
      "Team 2: 5000it [00:03, 1619.77it/s]\n",
      "Team 3: 5000it [00:02, 2403.95it/s]\n",
      "Team 4: 5000it [00:01, 2545.18it/s]\n",
      "Getting model importances: 100%|██████████| 10/10 [00:38<00:00,  3.83s/it]\n"
     ]
    },
    {
     "name": "stdout",
     "output_type": "stream",
     "text": [
      "Loaded data for SNR 13\n",
      "Number of missing labels: 0\n",
      "Processing data...\n"
     ]
    },
    {
     "name": "stderr",
     "output_type": "stream",
     "text": [
      "Team 1: 5000it [00:01, 2956.20it/s]\n",
      "Team 2: 5000it [00:02, 2174.52it/s]\n",
      "Team 3: 5000it [00:01, 4272.18it/s]\n",
      "Team 4: 5000it [00:01, 2562.35it/s]\n",
      "Getting model importances: 100%|██████████| 10/10 [00:32<00:00,  3.27s/it]\n"
     ]
    },
    {
     "name": "stdout",
     "output_type": "stream",
     "text": [
      "Loaded data for SNR 10\n",
      "Number of missing labels: 0\n",
      "Processing data...\n"
     ]
    },
    {
     "name": "stderr",
     "output_type": "stream",
     "text": [
      "Team 1: 5000it [00:03, 1548.21it/s]\n",
      "Team 2: 5000it [00:02, 2293.88it/s]\n",
      "Team 3: 5000it [00:01, 2738.85it/s]\n",
      "Team 4: 5000it [00:01, 2611.67it/s]\n",
      "Getting model importances: 100%|██████████| 10/10 [00:40<00:00,  4.06s/it]\n"
     ]
    },
    {
     "name": "stdout",
     "output_type": "stream",
     "text": [
      "Loaded data for SNR 8\n",
      "Number of missing labels: 0\n",
      "Processing data...\n"
     ]
    },
    {
     "name": "stderr",
     "output_type": "stream",
     "text": [
      "Team 1: 5000it [00:02, 2119.25it/s]\n",
      "Team 2: 5000it [00:02, 1694.72it/s]\n",
      "Team 3: 5000it [00:01, 4211.54it/s]\n",
      "Team 4: 5000it [00:01, 2605.28it/s]\n",
      "Getting model importances: 100%|██████████| 10/10 [00:39<00:00,  3.92s/it]\n"
     ]
    },
    {
     "name": "stdout",
     "output_type": "stream",
     "text": [
      "Loaded data for SNR 2\n",
      "Number of missing labels: 0\n",
      "Processing data...\n"
     ]
    },
    {
     "name": "stderr",
     "output_type": "stream",
     "text": [
      "Team 1: 5000it [00:02, 1795.64it/s]\n",
      "Team 2: 5000it [00:02, 1822.42it/s]\n",
      "Team 3: 5000it [00:01, 4418.28it/s]\n",
      "Team 4: 5000it [00:02, 1935.02it/s]\n",
      "Getting model importances: 100%|██████████| 10/10 [00:49<00:00,  4.98s/it]\n"
     ]
    },
    {
     "name": "stdout",
     "output_type": "stream",
     "text": [
      "Loaded data for SNR 5\n",
      "Number of missing labels: 0\n",
      "Processing data...\n"
     ]
    },
    {
     "name": "stderr",
     "output_type": "stream",
     "text": [
      "Team 1: 5000it [00:01, 2576.88it/s]\n",
      "Team 2: 5000it [00:02, 1915.27it/s]\n",
      "Team 3: 5000it [00:01, 4413.38it/s]\n",
      "Team 4: 5000it [00:01, 2636.90it/s]\n",
      "Getting model importances: 100%|██████████| 10/10 [00:47<00:00,  4.75s/it]\n"
     ]
    },
    {
     "name": "stdout",
     "output_type": "stream",
     "text": [
      "Loaded data for SNR 14\n",
      "Number of missing labels: 0\n",
      "Processing data...\n"
     ]
    },
    {
     "name": "stderr",
     "output_type": "stream",
     "text": [
      "Team 1: 5000it [00:01, 2879.37it/s]\n",
      "Team 2: 5000it [00:02, 1870.09it/s]\n",
      "Team 3: 5000it [00:01, 4088.59it/s]\n",
      "Team 4: 5000it [00:01, 2579.07it/s]\n",
      "Getting model importances: 100%|██████████| 10/10 [00:41<00:00,  4.15s/it]\n"
     ]
    },
    {
     "name": "stdout",
     "output_type": "stream",
     "text": [
      "Loaded data for SNR 1\n",
      "Number of missing labels: 0\n",
      "Processing data...\n"
     ]
    },
    {
     "name": "stderr",
     "output_type": "stream",
     "text": [
      "Team 1: 5000it [00:02, 1873.18it/s]\n",
      "Team 2: 5000it [00:02, 2280.57it/s]\n",
      "Team 3: 5000it [00:01, 4269.66it/s]\n",
      "Team 4: 5000it [00:01, 2592.47it/s]\n",
      "Getting model importances: 100%|██████████| 10/10 [00:51<00:00,  5.11s/it]"
     ]
    },
    {
     "name": "stdout",
     "output_type": "stream",
     "text": [
      "    snr    Team 1    Team 2    Team 3    Team 4\n",
      "0     3  0.225016  0.754917  0.008419  0.011648\n",
      "1     6  0.364208  0.623961  0.005804  0.006026\n",
      "2     7  0.633555  0.359690  0.004437  0.002318\n",
      "3     9  0.627007  0.367490  0.002494  0.003009\n",
      "4    12  0.775871  0.206391  0.002247  0.015491\n",
      "5     4  0.364841  0.619435  0.005335  0.010388\n",
      "6     0  0.069275  0.875950  0.015678  0.039098\n",
      "7    11  0.785551  0.207762  0.001758  0.004930\n",
      "8    13  0.859635  0.133224  0.003086  0.004055\n",
      "9    10  0.744849  0.247450  0.002120  0.005581\n",
      "10    8  0.778494  0.208123  0.008762  0.004621\n",
      "11    2  0.223426  0.750003  0.008693  0.017877\n",
      "12    5  0.458125  0.529415  0.002892  0.009568\n",
      "13   14  0.899094  0.064793  0.000649  0.035463\n",
      "14    1  0.082423  0.886347  0.008989  0.022241\n"
     ]
    },
    {
     "name": "stderr",
     "output_type": "stream",
     "text": [
      "\n"
     ]
    },
    {
     "data": {
      "image/png": "[encoded data removed]",
      "text/plain": [
       "<Figure size 640x480 with 1 Axes>"
      ]
     },
     "metadata": {},
     "output_type": "display_data"
    }
   ],
   "source": [
    "num_batches = 1\n",
    "CHUNK_SIZE = 5000\n",
    "num_examples = num_batches * CHUNK_SIZE\n",
    "OBS_INT = 2048\n",
    "NUM_ITERATIONS = 10\n",
    "\n",
    "team1_snr_dir = os.path.join(team1_test_dir, 'snr')\n",
    "team2_snr_dir = os.path.join(team2_test_dir, 'snr')\n",
    "team3_snr_dir = os.path.join(team3_test_dir, 'snr')\n",
    "team4_snr_dir = os.path.join(team4_test_dir, 'snr')\n",
    "\n",
    "snr_folder_names = []\n",
    "processed_snrs = []\n",
    "team1_importances = []\n",
    "team2_importances = []\n",
    "team3_importances = []\n",
    "team4_importances = []\n",
    "\n",
    "# Iterate over every folder in the SNR directory\n",
    "for path, subdirs, files in os.walk(team1_snr_dir):\n",
    "    # If we're in the top-level snr directory, get the values from all the folder names\n",
    "    if os.path.basename(path) == 'snr':\n",
    "        snr_folder_names = subdirs\n",
    "    elif os.path.basename(path) in snr_folder_names:\n",
    "        snr = int(os.path.basename(path))\n",
    "        \n",
    "        # Load the IQ and label data for this SNR\n",
    "        labels = load_labels(path, 1, num_batches, num_examples, OBS_INT)        \n",
    "        team1_dataloader = load_data(os.path.join(team1_snr_dir, str(snr)), 1, num_batches, num_examples, TEAM1_OBS_INT)\n",
    "        team2_dataloader = load_data(os.path.join(team2_snr_dir, str(snr)), 1, num_batches, num_examples, TEAM2_OBS_INT)\n",
    "        team3_dataloader = load_data(os.path.join(team3_snr_dir, str(snr)), 1, num_batches, num_examples, TEAM3_OBS_INT)\n",
    "        team4_dataloader = load_data(os.path.join(team4_snr_dir, str(snr)), 1, num_batches, num_examples, TEAM4_OBS_INT)\n",
    "        print(f'Loaded data for SNR {snr}')\n",
    "        \n",
    "        count_all_zeros = 0\n",
    "        labels = np.squeeze(labels.numpy())\n",
    "        for i in range(len(labels)):\n",
    "            if np.sum(labels[i]) == 0:\n",
    "                count_all_zeros += 1\n",
    "        print(\"Number of missing labels:\", count_all_zeros)\n",
    "        \n",
    "        print('Processing data...')\n",
    "        # Extract features from Team 1's model\n",
    "        team1_selected_layer.register_forward_hook(get_features('feats'))\n",
    "        team1_model.to(device)\n",
    "        team1_feats_list = []\n",
    "        features = {}\n",
    "        # Feed the IQ data into the model\n",
    "        for idx, inputs in tqdm(enumerate(team1_dataloader), desc='Team 1'):\n",
    "            with torch.inference_mode():\n",
    "                preds = team1_model(inputs.to(device))\n",
    "            team1_feats_list.append(features['feats'].cpu().numpy())\n",
    "        team1_feats_list = np.concatenate(team1_feats_list)\n",
    "        features1 = np.array(team1_feats_list)\n",
    "        features1 = torch.tensor(features1)\n",
    "        features1 = features1.reshape(-1, features1.shape[-1])\n",
    "        if features1.shape[1] != NUM_FEATS_T1:\n",
    "            print(f'Error: Number of features extracted from team 1 model doesn\\'t match expected value ({NUM_FEATS_T1})')\n",
    "        \n",
    "        # Extract features from Team 2's model\n",
    "        team2_selected_layer.register_forward_hook(get_features('feats'))\n",
    "        team2_model.to(device)\n",
    "        team2_feats_list = []\n",
    "        features = {}\n",
    "        # Feed the IQ data into the model\n",
    "        for idx, inputs in tqdm(enumerate(team2_dataloader), desc='Team 2'):\n",
    "            with torch.inference_mode():\n",
    "                preds = team2_model(inputs.to(device))\n",
    "            team2_feats_list.append(features['feats'].cpu().numpy())\n",
    "        team2_feats_list = np.concatenate(team2_feats_list)\n",
    "        features2 = np.array(team2_feats_list)\n",
    "        features2 = torch.tensor(features2)\n",
    "        features2 = features2.reshape(-1, features2.shape[-1])\n",
    "        if features2.shape[1] != NUM_FEATS_T2:\n",
    "            print(f'Error: Number of features extracted from team 2 model doesn\\'t match expected value ({NUM_FEATS_T2})')\n",
    "        \n",
    "        # Extract features from Team 3's model\n",
    "        team3_selected_layer.register_forward_hook(get_features('feats'))\n",
    "        team3_model.to(device)\n",
    "        team3_feats_list = []\n",
    "        features = {}\n",
    "        # Feed the IQ data into the model\n",
    "        for idx, inputs in tqdm(enumerate(team3_dataloader), desc='Team 3'):\n",
    "            with torch.inference_mode():\n",
    "                preds = team3_model(inputs.to(device))\n",
    "            team3_feats_list.append(features['feats'].cpu().numpy())\n",
    "        team3_feats_list = np.concatenate(team3_feats_list)\n",
    "        features3 = np.array(team3_feats_list)\n",
    "        features3 = torch.tensor(features3)\n",
    "        features3 = features3.reshape(-1, features3.shape[-1])\n",
    "        if features3.shape[1] != NUM_FEATS_T3:\n",
    "            print(f'Error: Number of features extracted from team 3 model doesn\\'t match expected value ({NUM_FEATS_T3})')\n",
    "        \n",
    "        # Extract features from team 4's model\n",
    "        team4_selected_layer.register_forward_hook(get_features('feats'))\n",
    "        team4_model.to(device)\n",
    "        team4_feats_list = []\n",
    "        features = {}\n",
    "        # Feed the IQ data into the model\n",
    "        for idx, inputs in tqdm(enumerate(team4_dataloader), desc='Team 4'):\n",
    "            with torch.inference_mode():\n",
    "                preds = team4_model(inputs.to(device))\n",
    "            team4_feats_list.append(features['feats'].cpu().numpy())\n",
    "        team4_feats_list = np.concatenate(team4_feats_list)\n",
    "        features4 = np.array(team4_feats_list)\n",
    "        features4 = torch.tensor(features4)\n",
    "        features4 = features4.reshape(-1, features4.shape[-1])\n",
    "        if features4.shape[1] != NUM_FEATS_T4:\n",
    "            print(f'Error: Number of features extracted from team 4 model doesn\\'t match expected value ({NUM_FEATS_T4})')\n",
    "        \n",
    "        combined_tensor = torch.cat((features1, features2, features3, features4), dim=1)\n",
    "        \n",
    "        # Note: Decision tree classifiers use a stochastic algorithm so we take model importance as the average over multiple iterations\n",
    "        team1_avg_importance = 0.0\n",
    "        team2_avg_importance = 0.0\n",
    "        team3_avg_importance = 0.0\n",
    "        team4_avg_importance = 0.0\n",
    "        for i in tqdm(range(NUM_ITERATIONS), desc='Getting model importances'):\n",
    "            model = DecisionTreeClassifier()\n",
    "            model.fit(combined_tensor, labels)\n",
    "            importances = model.feature_importances_\n",
    "            importances = np.array(importances)\n",
    "        \n",
    "            team1_avg_importance += np.sum(importances[ARRAY_START_IDX_T1:ARRAY_START_IDX_T2])\n",
    "            team2_avg_importance += np.sum(importances[ARRAY_START_IDX_T2:ARRAY_START_IDX_T3])\n",
    "            team3_avg_importance += np.sum(importances[ARRAY_START_IDX_T3:ARRAY_START_IDX_T4])\n",
    "            team4_avg_importance += np.sum(importances[ARRAY_START_IDX_T4:len(importances)])\n",
    "        team1_avg_importance /= NUM_ITERATIONS\n",
    "        team2_avg_importance /= NUM_ITERATIONS\n",
    "        team3_avg_importance /= NUM_ITERATIONS\n",
    "        team4_avg_importance /= NUM_ITERATIONS\n",
    "            \n",
    "        importances_sum = team1_avg_importance + team2_avg_importance + team3_avg_importance + team4_avg_importance\n",
    "        #print(f'Team 1 avg. importance: {team1_avg_importance}')\n",
    "        #print(f'Team 2 avg. importance: {team2_avg_importance}')\n",
    "        #print(f'Team 3 avg. importance: {team3_avg_importance}')\n",
    "        #print(f'Team 4 avg. importance: {team4_avg_importance}')\n",
    "        if not math.isclose(1.0, importances_sum, abs_tol=0.01):\n",
    "            print(f'Error: Importances do not sum to 1.0 (Was {importances_sum})')\n",
    "        \n",
    "        processed_snrs.append(snr)\n",
    "        team1_importances.append(team1_avg_importance)\n",
    "        team2_importances.append(team2_avg_importance)\n",
    "        team3_importances.append(team3_avg_importance)\n",
    "        team4_importances.append(team4_avg_importance)\n",
    "\n",
    "df = pd.DataFrame(\n",
    "    {'snr': processed_snrs,\n",
    "     'Team 1': team1_importances,\n",
    "     'Team 2': team2_importances,\n",
    "     'Team 3': team3_importances,\n",
    "     'Team 4': team4_importances,\n",
    "    })\n",
    "print(df.to_string())\n",
    "df.sort_values(by=['snr'], inplace=True)\n",
    "df.plot.line(x='snr')\n",
    "\n",
    "plt.ylabel('Average Feature Importance')\n",
    "plt.xlabel('Signal-to-Noise Ratio (dB)')\n",
    "plt.title('Average Feature Importance vs. SNR, All Models')\n",
    "plt.savefig('../data/fusion_plots/feature_importances/avg_feat_importance_snr.png')\n",
    "plt.show()"
   ]
  },
  {
   "cell_type": "markdown",
   "id": "77ae8e6d-13f8-4e30-84be-551d8768c503",
   "metadata": {},
   "source": [
    "## Plot feature contribution over bandwidths"
   ]
  },
  {
   "cell_type": "code",
   "execution_count": 13,
   "id": "613a9885-8918-4c8e-951a-eeb705c81a9c",
   "metadata": {
    "scrolled": true,
    "tags": []
   },
   "outputs": [
    {
     "name": "stdout",
     "output_type": "stream",
     "text": [
      "Found 4 rows containing NaNs in ../data/dataset/team3/test/bandwidths/0.095/iqdata/example_1.dat\n",
      "Found 4 rows containing NaNs in ../data/dataset/team4/test/bandwidths/0.095/iqdata/example_1.dat\n",
      "Loaded data for bandwidth 0.095\n",
      "Number of missing labels: 0\n",
      "Processing data...\n"
     ]
    },
    {
     "name": "stderr",
     "output_type": "stream",
     "text": [
      "Team 1: 5000it [00:02, 1974.41it/s]\n",
      "Team 2: 5000it [00:02, 2296.04it/s]\n",
      "Team 3: 5000it [00:02, 2338.11it/s]\n",
      "Team 4: 5000it [00:02, 2421.47it/s]\n",
      "Getting model importances: 100%|██████████| 10/10 [00:58<00:00,  5.85s/it]\n"
     ]
    },
    {
     "name": "stdout",
     "output_type": "stream",
     "text": [
      "Loaded data for bandwidth 0.41\n",
      "Number of missing labels: 0\n",
      "Processing data...\n"
     ]
    },
    {
     "name": "stderr",
     "output_type": "stream",
     "text": [
      "Team 1: 5000it [00:02, 1922.47it/s]\n",
      "Team 2: 5000it [00:02, 2327.60it/s]\n",
      "Team 3: 5000it [00:01, 4400.90it/s]\n",
      "Team 4: 5000it [00:01, 2596.10it/s]\n",
      "Getting model importances: 100%|██████████| 10/10 [00:35<00:00,  3.55s/it]\n"
     ]
    },
    {
     "name": "stdout",
     "output_type": "stream",
     "text": [
      "Found 1 rows containing NaNs in ../data/dataset/team4/test/bandwidths/0.11750000000000001/iqdata/example_1.dat\n",
      "Loaded data for bandwidth 0.11750000000000001\n",
      "Number of missing labels: 0\n",
      "Processing data...\n"
     ]
    },
    {
     "name": "stderr",
     "output_type": "stream",
     "text": [
      "Team 1: 5000it [00:02, 2117.21it/s]\n",
      "Team 2: 5000it [00:02, 2293.83it/s]\n",
      "Team 3: 5000it [00:01, 4208.16it/s]\n",
      "Team 4: 5000it [00:01, 2600.97it/s]\n",
      "Getting model importances: 100%|██████████| 10/10 [00:50<00:00,  5.08s/it]\n"
     ]
    },
    {
     "name": "stdout",
     "output_type": "stream",
     "text": [
      "Found 10 rows containing NaNs in ../data/dataset/team3/test/bandwidths/0.05/iqdata/example_1.dat\n",
      "Found 10 rows containing NaNs in ../data/dataset/team4/test/bandwidths/0.05/iqdata/example_1.dat\n",
      "Loaded data for bandwidth 0.05\n",
      "Number of missing labels: 0\n",
      "Processing data...\n"
     ]
    },
    {
     "name": "stderr",
     "output_type": "stream",
     "text": [
      "Team 1: 5000it [00:02, 2168.03it/s]\n",
      "Team 2: 5000it [00:03, 1623.39it/s]\n",
      "Team 3: 5000it [00:01, 3841.71it/s]\n",
      "Team 4: 5000it [00:02, 1920.19it/s]\n",
      "Getting model importances: 100%|██████████| 10/10 [01:14<00:00,  7.44s/it]\n"
     ]
    },
    {
     "name": "stdout",
     "output_type": "stream",
     "text": [
      "Loaded data for bandwidth 0.2975\n",
      "Number of missing labels: 0\n",
      "Processing data...\n"
     ]
    },
    {
     "name": "stderr",
     "output_type": "stream",
     "text": [
      "Team 1: 5000it [00:02, 1987.56it/s]\n",
      "Team 2: 5000it [00:02, 2198.78it/s]\n",
      "Team 3: 5000it [00:01, 4330.90it/s]\n",
      "Team 4: 5000it [00:01, 2547.56it/s]\n",
      "Getting model importances: 100%|██████████| 10/10 [00:35<00:00,  3.58s/it]\n"
     ]
    },
    {
     "name": "stdout",
     "output_type": "stream",
     "text": [
      "Loaded data for bandwidth 0.27499999999999997\n",
      "Number of missing labels: 0\n",
      "Processing data...\n"
     ]
    },
    {
     "name": "stderr",
     "output_type": "stream",
     "text": [
      "Team 1: 5000it [00:02, 1876.41it/s]\n",
      "Team 2: 5000it [00:02, 2307.30it/s]\n",
      "Team 3: 5000it [00:02, 2311.33it/s]\n",
      "Team 4: 5000it [00:03, 1655.96it/s]\n",
      "Getting model importances: 100%|██████████| 10/10 [00:37<00:00,  3.71s/it]\n"
     ]
    },
    {
     "name": "stdout",
     "output_type": "stream",
     "text": [
      "Found 1 rows containing NaNs in ../data/dataset/team4/test/bandwidths/0.185/iqdata/example_1.dat\n",
      "Loaded data for bandwidth 0.185\n",
      "Number of missing labels: 0\n",
      "Processing data...\n"
     ]
    },
    {
     "name": "stderr",
     "output_type": "stream",
     "text": [
      "Team 1: 5000it [00:02, 2343.63it/s]\n",
      "Team 2: 5000it [00:02, 2292.29it/s]\n",
      "Team 3: 5000it [00:01, 4237.38it/s]\n",
      "Team 4: 5000it [00:01, 2603.71it/s]\n",
      "Getting model importances: 100%|██████████| 10/10 [00:42<00:00,  4.25s/it]\n"
     ]
    },
    {
     "name": "stdout",
     "output_type": "stream",
     "text": [
      "Loaded data for bandwidth 0.5\n",
      "Number of missing labels: 0\n",
      "Processing data...\n"
     ]
    },
    {
     "name": "stderr",
     "output_type": "stream",
     "text": [
      "Team 1: 5000it [00:01, 2927.15it/s]\n",
      "Team 2: 5000it [00:02, 2283.33it/s]\n",
      "Team 3: 5000it [00:01, 4141.23it/s]\n",
      "Team 4: 5000it [00:01, 2565.16it/s]\n",
      "Getting model importances: 100%|██████████| 10/10 [00:34<00:00,  3.48s/it]\n"
     ]
    },
    {
     "name": "stdout",
     "output_type": "stream",
     "text": [
      "Loaded data for bandwidth 0.4775\n",
      "Number of missing labels: 0\n",
      "Processing data...\n"
     ]
    },
    {
     "name": "stderr",
     "output_type": "stream",
     "text": [
      "Team 1: 5000it [00:02, 2043.16it/s]\n",
      "Team 2: 5000it [00:02, 2284.37it/s]\n",
      "Team 3: 5000it [00:01, 4028.13it/s]\n",
      "Team 4: 5000it [00:01, 2565.37it/s]\n",
      "Getting model importances: 100%|██████████| 10/10 [00:29<00:00,  2.95s/it]\n"
     ]
    },
    {
     "name": "stdout",
     "output_type": "stream",
     "text": [
      "Loaded data for bandwidth 0.20750000000000002\n",
      "Number of missing labels: 0\n",
      "Processing data...\n"
     ]
    },
    {
     "name": "stderr",
     "output_type": "stream",
     "text": [
      "Team 1: 5000it [00:01, 2952.15it/s]\n",
      "Team 2: 5000it [00:02, 2274.74it/s]\n",
      "Team 3: 5000it [00:01, 4213.08it/s]\n",
      "Team 4: 5000it [00:01, 2602.95it/s]\n",
      "Getting model importances: 100%|██████████| 10/10 [00:42<00:00,  4.23s/it]\n"
     ]
    },
    {
     "name": "stdout",
     "output_type": "stream",
     "text": [
      "Found 2 rows containing NaNs in ../data/dataset/team3/test/bandwidths/0.07250000000000001/iqdata/example_1.dat\n",
      "Found 5 rows containing NaNs in ../data/dataset/team4/test/bandwidths/0.07250000000000001/iqdata/example_1.dat\n",
      "Loaded data for bandwidth 0.07250000000000001\n",
      "Number of missing labels: 0\n",
      "Processing data...\n"
     ]
    },
    {
     "name": "stderr",
     "output_type": "stream",
     "text": [
      "Team 1: 5000it [00:01, 2883.27it/s]\n",
      "Team 2: 5000it [00:02, 2250.19it/s]\n",
      "Team 3: 5000it [00:02, 2269.62it/s]\n",
      "Team 4: 5000it [00:01, 2508.70it/s]\n",
      "Getting model importances: 100%|██████████| 10/10 [01:02<00:00,  6.26s/it]\n"
     ]
    },
    {
     "name": "stdout",
     "output_type": "stream",
     "text": [
      "Loaded data for bandwidth 0.2525\n",
      "Number of missing labels: 0\n",
      "Processing data...\n"
     ]
    },
    {
     "name": "stderr",
     "output_type": "stream",
     "text": [
      "Team 1: 5000it [00:01, 2869.75it/s]\n",
      "Team 2: 5000it [00:02, 2280.24it/s]\n",
      "Team 3: 5000it [00:02, 2438.75it/s]\n",
      "Team 4: 5000it [00:01, 2551.53it/s]\n",
      "Getting model importances: 100%|██████████| 10/10 [00:34<00:00,  3.46s/it]\n"
     ]
    },
    {
     "name": "stdout",
     "output_type": "stream",
     "text": [
      "Loaded data for bandwidth 0.32\n",
      "Number of missing labels: 0\n",
      "Processing data...\n"
     ]
    },
    {
     "name": "stderr",
     "output_type": "stream",
     "text": [
      "Team 1: 5000it [00:01, 2927.29it/s]\n",
      "Team 2: 5000it [00:03, 1555.66it/s]\n",
      "Team 3: 5000it [00:01, 4143.36it/s]\n",
      "Team 4: 5000it [00:01, 2557.99it/s]\n",
      "Getting model importances: 100%|██████████| 10/10 [00:39<00:00,  3.95s/it]\n"
     ]
    },
    {
     "name": "stdout",
     "output_type": "stream",
     "text": [
      "Loaded data for bandwidth 0.22999999999999998\n",
      "Number of missing labels: 0\n",
      "Processing data...\n"
     ]
    },
    {
     "name": "stderr",
     "output_type": "stream",
     "text": [
      "Team 1: 5000it [00:01, 2935.90it/s]\n",
      "Team 2: 5000it [00:02, 2253.99it/s]\n",
      "Team 3: 5000it [00:01, 2927.42it/s]\n",
      "Team 4: 5000it [00:01, 2528.37it/s]\n",
      "Getting model importances: 100%|██████████| 10/10 [00:34<00:00,  3.41s/it]\n"
     ]
    },
    {
     "name": "stdout",
     "output_type": "stream",
     "text": [
      "Found 1 rows containing NaNs in ../data/dataset/team4/test/bandwidths/0.14/iqdata/example_1.dat\n",
      "Loaded data for bandwidth 0.14\n",
      "Number of missing labels: 0\n",
      "Processing data...\n"
     ]
    },
    {
     "name": "stderr",
     "output_type": "stream",
     "text": [
      "Team 1: 5000it [00:02, 2038.50it/s]\n",
      "Team 2: 5000it [00:02, 2240.33it/s]\n",
      "Team 3: 5000it [00:02, 2227.70it/s]\n",
      "Team 4: 5000it [00:02, 2442.41it/s]\n",
      "Getting model importances: 100%|██████████| 10/10 [00:45<00:00,  4.55s/it]\n"
     ]
    },
    {
     "name": "stdout",
     "output_type": "stream",
     "text": [
      "Loaded data for bandwidth 0.365\n",
      "Number of missing labels: 0\n",
      "Processing data...\n"
     ]
    },
    {
     "name": "stderr",
     "output_type": "stream",
     "text": [
      "Team 1: 5000it [00:02, 1897.59it/s]\n",
      "Team 2: 5000it [00:02, 2268.91it/s]\n",
      "Team 3: 5000it [00:01, 4061.43it/s]\n",
      "Team 4: 5000it [00:02, 1791.49it/s]\n",
      "Getting model importances: 100%|██████████| 10/10 [00:37<00:00,  3.76s/it]\n"
     ]
    },
    {
     "name": "stdout",
     "output_type": "stream",
     "text": [
      "Loaded data for bandwidth 0.34249999999999997\n",
      "Number of missing labels: 0\n",
      "Processing data...\n"
     ]
    },
    {
     "name": "stderr",
     "output_type": "stream",
     "text": [
      "Team 1: 5000it [00:02, 1877.67it/s]\n",
      "Team 2: 5000it [00:03, 1461.39it/s]\n",
      "Team 3: 5000it [00:01, 4074.75it/s]\n",
      "Team 4: 5000it [00:01, 2571.46it/s]\n",
      "Getting model importances: 100%|██████████| 10/10 [00:31<00:00,  3.18s/it]\n"
     ]
    },
    {
     "name": "stdout",
     "output_type": "stream",
     "text": [
      "Loaded data for bandwidth 0.16249999999999998\n",
      "Number of missing labels: 0\n",
      "Processing data...\n"
     ]
    },
    {
     "name": "stderr",
     "output_type": "stream",
     "text": [
      "Team 1: 5000it [00:01, 2908.02it/s]\n",
      "Team 2: 5000it [00:02, 2017.60it/s]\n",
      "Team 3: 5000it [00:02, 2164.94it/s]\n",
      "Team 4: 5000it [00:01, 2555.53it/s]\n",
      "Getting model importances: 100%|██████████| 10/10 [00:38<00:00,  3.90s/it]\n"
     ]
    },
    {
     "name": "stdout",
     "output_type": "stream",
     "text": [
      "Loaded data for bandwidth 0.4325\n",
      "Number of missing labels: 0\n",
      "Processing data...\n"
     ]
    },
    {
     "name": "stderr",
     "output_type": "stream",
     "text": [
      "Team 1: 5000it [00:02, 1899.62it/s]\n",
      "Team 2: 5000it [00:02, 2188.87it/s]\n",
      "Team 3: 5000it [00:01, 4099.72it/s]\n",
      "Team 4: 5000it [00:01, 2598.57it/s]\n",
      "Getting model importances: 100%|██████████| 10/10 [00:26<00:00,  2.69s/it]\n"
     ]
    },
    {
     "name": "stdout",
     "output_type": "stream",
     "text": [
      "Loaded data for bandwidth 0.38749999999999996\n",
      "Number of missing labels: 0\n",
      "Processing data...\n"
     ]
    },
    {
     "name": "stderr",
     "output_type": "stream",
     "text": [
      "Team 1: 5000it [00:01, 2742.94it/s]\n",
      "Team 2: 5000it [00:03, 1474.84it/s]\n",
      "Team 3: 5000it [00:01, 4010.82it/s]\n",
      "Team 4: 5000it [00:01, 2602.91it/s]\n",
      "Getting model importances: 100%|██████████| 10/10 [00:34<00:00,  3.40s/it]\n"
     ]
    },
    {
     "name": "stdout",
     "output_type": "stream",
     "text": [
      "Loaded data for bandwidth 0.45499999999999996\n",
      "Number of missing labels: 0\n",
      "Processing data...\n"
     ]
    },
    {
     "name": "stderr",
     "output_type": "stream",
     "text": [
      "Team 1: 5000it [00:01, 2924.05it/s]\n",
      "Team 2: 5000it [00:02, 2283.91it/s]\n",
      "Team 3: 5000it [00:01, 4161.62it/s]\n",
      "Team 4: 5000it [00:01, 2554.97it/s]\n",
      "Getting model importances: 100%|██████████| 10/10 [00:37<00:00,  3.70s/it]"
     ]
    },
    {
     "name": "stdout",
     "output_type": "stream",
     "text": [
      "    bandwidth    Team 1    Team 2    Team 3    Team 4\n",
      "0      0.0950  0.881243  0.083758  0.011916  0.023083\n",
      "1      0.4100  0.847636  0.099466  0.003974  0.048924\n",
      "2      0.1175  0.917435  0.059297  0.009666  0.013602\n",
      "3      0.0500  0.499264  0.295551  0.073040  0.132145\n",
      "4      0.2975  0.950230  0.042184  0.003596  0.003991\n",
      "5      0.2750  0.893273  0.097839  0.005022  0.003866\n",
      "6      0.1850  0.952676  0.033085  0.003683  0.010557\n",
      "7      0.5000  0.836135  0.072357  0.001237  0.090272\n",
      "8      0.4775  0.869748  0.126499  0.001779  0.001974\n",
      "9      0.2075  0.782023  0.202421  0.006452  0.009103\n",
      "10     0.0725  0.800315  0.130360  0.024822  0.044502\n",
      "11     0.2525  0.764030  0.222881  0.003538  0.009551\n",
      "12     0.3200  0.866155  0.116246  0.001514  0.016085\n",
      "13     0.2300  0.943700  0.044170  0.004915  0.007215\n",
      "14     0.1400  0.927101  0.044700  0.007732  0.020467\n",
      "15     0.3650  0.880615  0.088383  0.000335  0.030667\n",
      "16     0.3425  0.863275  0.087077  0.004301  0.045346\n",
      "17     0.1625  0.946184  0.040927  0.007902  0.004988\n",
      "18     0.4325  0.826962  0.124946  0.001630  0.046463\n",
      "19     0.3875  0.748513  0.247274  0.001797  0.002416\n",
      "20     0.4550  0.850947  0.024954  0.001537  0.122561\n"
     ]
    },
    {
     "name": "stderr",
     "output_type": "stream",
     "text": [
      "\n"
     ]
    },
    {
     "data": {
      "image/png": "[encoded data removed]",
      "text/plain": [
       "<Figure size 640x480 with 1 Axes>"
      ]
     },
     "metadata": {},
     "output_type": "display_data"
    }
   ],
   "source": [
    "num_batches = 1\n",
    "CHUNK_SIZE = 5000\n",
    "num_examples = num_batches * CHUNK_SIZE\n",
    "OBS_INT = 2048\n",
    "NUM_ITERATIONS = 10\n",
    "\n",
    "team1_bandwidth_dir = os.path.join(team1_test_dir, 'bandwidths')\n",
    "team2_bandwidth_dir = os.path.join(team2_test_dir, 'bandwidths')\n",
    "team3_bandwidth_dir = os.path.join(team3_test_dir, 'bandwidths')\n",
    "team4_bandwidth_dir = os.path.join(team4_test_dir, 'bandwidths')\n",
    "\n",
    "bandwidth_folder_names = []\n",
    "processed_bandwidths = []\n",
    "team1_importances = []\n",
    "team2_importances = []\n",
    "team3_importances = []\n",
    "team4_importances = []\n",
    "\n",
    "# Iterate over every folder in the bandwidth directory\n",
    "for path, subdirs, files in os.walk(team1_bandwidth_dir):\n",
    "    # If we're in the top-level bandwidth directory, get the values from all the folder names\n",
    "    if os.path.basename(path) == 'bandwidths':\n",
    "        bandwidth_folder_names = subdirs\n",
    "    elif os.path.basename(path) in bandwidth_folder_names:\n",
    "        bandwidth = float(os.path.basename(path))\n",
    "        \n",
    "        # Load the IQ and label data for this bandwidth\n",
    "        labels = load_labels(path, 1, num_batches, num_examples, OBS_INT)        \n",
    "        team1_dataloader = load_data(os.path.join(team1_bandwidth_dir, str(bandwidth)), 1, num_batches, num_examples, TEAM1_OBS_INT)\n",
    "        team2_dataloader = load_data(os.path.join(team2_bandwidth_dir, str(bandwidth)), 1, num_batches, num_examples, TEAM2_OBS_INT)\n",
    "        team3_dataloader = load_data(os.path.join(team3_bandwidth_dir, str(bandwidth)), 1, num_batches, num_examples, TEAM3_OBS_INT)\n",
    "        team4_dataloader = load_data(os.path.join(team4_bandwidth_dir, str(bandwidth)), 1, num_batches, num_examples, TEAM4_OBS_INT)\n",
    "        print(f'Loaded data for bandwidth {bandwidth}')\n",
    "        \n",
    "        count_all_zeros = 0\n",
    "        labels = np.squeeze(labels.numpy())\n",
    "        for i in range(len(labels)):\n",
    "            if np.sum(labels[i]) == 0:\n",
    "                count_all_zeros += 1\n",
    "        print(\"Number of missing labels:\", count_all_zeros)\n",
    "        \n",
    "        print('Processing data...')\n",
    "        # Extract features from Team 1's model\n",
    "        team1_selected_layer.register_forward_hook(get_features('feats'))\n",
    "        team1_model.to(device)\n",
    "        team1_feats_list = []\n",
    "        features = {}\n",
    "        # Feed the IQ data into the model\n",
    "        for idx, inputs in tqdm(enumerate(team1_dataloader), desc='Team 1'):\n",
    "            with torch.inference_mode():\n",
    "                preds = team1_model(inputs.to(device))\n",
    "            team1_feats_list.append(features['feats'].cpu().numpy())\n",
    "        team1_feats_list = np.concatenate(team1_feats_list)\n",
    "        features1 = np.array(team1_feats_list)\n",
    "        features1 = torch.tensor(features1)\n",
    "        features1 = features1.reshape(-1, features1.shape[-1])\n",
    "        if features1.shape[1] != NUM_FEATS_T1:\n",
    "            print(f'Error: Number of features extracted from team 1 model doesn\\'t match expected value ({NUM_FEATS_T1})')\n",
    "        \n",
    "        # Extract features from Team 2's model\n",
    "        team2_selected_layer.register_forward_hook(get_features('feats'))\n",
    "        team2_model.to(device)\n",
    "        team2_feats_list = []\n",
    "        features = {}\n",
    "        # Feed the IQ data into the model\n",
    "        for idx, inputs in tqdm(enumerate(team2_dataloader), desc='Team 2'):\n",
    "            with torch.inference_mode():\n",
    "                preds = team2_model(inputs.to(device))\n",
    "            team2_feats_list.append(features['feats'].cpu().numpy())\n",
    "        team2_feats_list = np.concatenate(team2_feats_list)\n",
    "        features2 = np.array(team2_feats_list)\n",
    "        features2 = torch.tensor(features2)\n",
    "        features2 = features2.reshape(-1, features2.shape[-1])\n",
    "        if features2.shape[1] != NUM_FEATS_T2:\n",
    "            print(f'Error: Number of features extracted from team 2 model doesn\\'t match expected value ({NUM_FEATS_T2})')\n",
    "        \n",
    "        # Extract features from Team 3's model\n",
    "        team3_selected_layer.register_forward_hook(get_features('feats'))\n",
    "        team3_model.to(device)\n",
    "        team3_feats_list = []\n",
    "        features = {}\n",
    "        # Feed the IQ data into the model\n",
    "        for idx, inputs in tqdm(enumerate(team3_dataloader), desc='Team 3'):\n",
    "            with torch.inference_mode():\n",
    "                preds = team3_model(inputs.to(device))\n",
    "            team3_feats_list.append(features['feats'].cpu().numpy())\n",
    "        team3_feats_list = np.concatenate(team3_feats_list)\n",
    "        features3 = np.array(team3_feats_list)\n",
    "        features3 = torch.tensor(features3)\n",
    "        features3 = features3.reshape(-1, features3.shape[-1])\n",
    "        if features3.shape[1] != NUM_FEATS_T3:\n",
    "            print(f'Error: Number of features extracted from team 3 model doesn\\'t match expected value ({NUM_FEATS_T3})')\n",
    "        \n",
    "        # Extract features from team 4's model\n",
    "        team4_selected_layer.register_forward_hook(get_features('feats'))\n",
    "        team4_model.to(device)\n",
    "        team4_feats_list = []\n",
    "        features = {}\n",
    "        # Feed the IQ data into the model\n",
    "        for idx, inputs in tqdm(enumerate(team4_dataloader), desc='Team 4'):\n",
    "            with torch.inference_mode():\n",
    "                preds = team4_model(inputs.to(device))\n",
    "            team4_feats_list.append(features['feats'].cpu().numpy())\n",
    "        team4_feats_list = np.concatenate(team4_feats_list)\n",
    "        features4 = np.array(team4_feats_list)\n",
    "        features4 = torch.tensor(features4)\n",
    "        features4 = features4.reshape(-1, features4.shape[-1])\n",
    "        if features4.shape[1] != NUM_FEATS_T4:\n",
    "            print(f'Error: Number of features extracted from team 4 model doesn\\'t match expected value ({NUM_FEATS_T4})')\n",
    "        \n",
    "        combined_tensor = torch.cat((features1, features2, features3, features4), dim=1)\n",
    "        \n",
    "        # Note: Decision tree classifiers use a stochastic algorithm so we take model importance as the average over multiple iterations\n",
    "        team1_avg_importance = 0.0\n",
    "        team2_avg_importance = 0.0\n",
    "        team3_avg_importance = 0.0\n",
    "        team4_avg_importance = 0.0\n",
    "        for i in tqdm(range(NUM_ITERATIONS), desc='Getting model importances'):\n",
    "            model = DecisionTreeClassifier()\n",
    "            model.fit(combined_tensor, labels)\n",
    "            importances = model.feature_importances_\n",
    "            importances = np.array(importances)\n",
    "        \n",
    "            team1_avg_importance += np.sum(importances[ARRAY_START_IDX_T1:ARRAY_START_IDX_T2])\n",
    "            team2_avg_importance += np.sum(importances[ARRAY_START_IDX_T2:ARRAY_START_IDX_T3])\n",
    "            team3_avg_importance += np.sum(importances[ARRAY_START_IDX_T3:ARRAY_START_IDX_T4])\n",
    "            team4_avg_importance += np.sum(importances[ARRAY_START_IDX_T4:len(importances)])\n",
    "        team1_avg_importance /= NUM_ITERATIONS\n",
    "        team2_avg_importance /= NUM_ITERATIONS\n",
    "        team3_avg_importance /= NUM_ITERATIONS\n",
    "        team4_avg_importance /= NUM_ITERATIONS\n",
    "            \n",
    "        importances_sum = team1_avg_importance + team2_avg_importance + team3_avg_importance + team4_avg_importance\n",
    "        #print(f'Team 1 avg. importance: {team1_avg_importance}')\n",
    "        #print(f'Team 2 avg. importance: {team2_avg_importance}')\n",
    "        #print(f'Team 3 avg. importance: {team3_avg_importance}')\n",
    "        #print(f'Team 4 avg. importance: {team4_avg_importance}')\n",
    "        if not math.isclose(1.0, importances_sum, abs_tol=0.01):\n",
    "            print(f'Error: Importances do not sum to 1.0 (Was {importances_sum})')\n",
    "        \n",
    "        processed_bandwidths.append(bandwidth)\n",
    "        team1_importances.append(team1_avg_importance)\n",
    "        team2_importances.append(team2_avg_importance)\n",
    "        team3_importances.append(team3_avg_importance)\n",
    "        team4_importances.append(team4_avg_importance)\n",
    "\n",
    "df = pd.DataFrame(\n",
    "    {'bandwidth': processed_bandwidths,\n",
    "     'Team 1': team1_importances,\n",
    "     'Team 2': team2_importances,\n",
    "     'Team 3': team3_importances,\n",
    "     'Team 4': team4_importances,\n",
    "    })\n",
    "print(df.to_string())\n",
    "df.sort_values(by=['bandwidth'], inplace=True)\n",
    "df.plot.line(x='bandwidth')\n",
    "\n",
    "plt.ylabel('Average Feature Importance')\n",
    "plt.xlabel('Signal Bandwidth')\n",
    "plt.title('Average Feature Importance vs. Signal Bandwidth, All Models')\n",
    "plt.savefig('../data/fusion_plots/feature_importances/avg_feat_importance_bandwidth.png')\n",
    "plt.show()"
   ]
  },
  {
   "cell_type": "markdown",
   "id": "7caa5cd3-b2fe-4f34-ba9f-2cb365ff04c0",
   "metadata": {},
   "source": [
    "## Plot feature contribution over center frequencies"
   ]
  },
  {
   "cell_type": "code",
   "execution_count": 14,
   "id": "ab1525b5-6b25-4ff8-83e7-885af211c0b2",
   "metadata": {
    "scrolled": true,
    "tags": []
   },
   "outputs": [
    {
     "name": "stdout",
     "output_type": "stream",
     "text": [
      "Loaded data for center frequency -0.08\n",
      "Number of missing labels: 0\n",
      "Processing data...\n"
     ]
    },
    {
     "name": "stderr",
     "output_type": "stream",
     "text": [
      "Team 1: 5000it [00:02, 2019.94it/s]\n",
      "Team 2: 5000it [00:03, 1285.58it/s]\n",
      "Team 3: 5000it [00:01, 4138.79it/s]\n",
      "Team 4: 5000it [00:01, 2564.28it/s]\n",
      "Getting model importances: 100%|██████████| 10/10 [01:01<00:00,  6.13s/it]\n"
     ]
    },
    {
     "name": "stdout",
     "output_type": "stream",
     "text": [
      "Loaded data for center frequency -0.04000000000000001\n",
      "Number of missing labels: 0\n",
      "Processing data...\n"
     ]
    },
    {
     "name": "stderr",
     "output_type": "stream",
     "text": [
      "Team 1: 5000it [00:01, 2918.29it/s]\n",
      "Team 2: 5000it [00:02, 2308.54it/s]\n",
      "Team 3: 5000it [00:01, 3091.10it/s]\n",
      "Team 4: 5000it [00:01, 2608.89it/s]\n",
      "Getting model importances: 100%|██████████| 10/10 [00:54<00:00,  5.46s/it]\n"
     ]
    },
    {
     "name": "stdout",
     "output_type": "stream",
     "text": [
      "Loaded data for center frequency 0.06\n",
      "Number of missing labels: 0\n",
      "Processing data...\n"
     ]
    },
    {
     "name": "stderr",
     "output_type": "stream",
     "text": [
      "Team 1: 5000it [00:02, 1967.60it/s]\n",
      "Team 2: 5000it [00:02, 2294.66it/s]\n",
      "Team 3: 5000it [00:01, 4160.61it/s]\n",
      "Team 4: 5000it [00:01, 2550.79it/s]\n",
      "Getting model importances: 100%|██████████| 10/10 [01:02<00:00,  6.23s/it]\n"
     ]
    },
    {
     "name": "stdout",
     "output_type": "stream",
     "text": [
      "Loaded data for center frequency 0.07\n",
      "Number of missing labels: 0\n",
      "Processing data...\n"
     ]
    },
    {
     "name": "stderr",
     "output_type": "stream",
     "text": [
      "Team 1: 5000it [00:02, 2098.08it/s]\n",
      "Team 2: 5000it [00:02, 1709.97it/s]\n",
      "Team 3: 5000it [00:02, 2258.88it/s]\n",
      "Team 4: 5000it [00:01, 2590.16it/s]\n",
      "Getting model importances: 100%|██████████| 10/10 [00:57<00:00,  5.76s/it]\n"
     ]
    },
    {
     "name": "stdout",
     "output_type": "stream",
     "text": [
      "Loaded data for center frequency 0.009999999999999995\n",
      "Number of missing labels: 0\n",
      "Processing data...\n"
     ]
    },
    {
     "name": "stderr",
     "output_type": "stream",
     "text": [
      "Team 1: 5000it [00:02, 2173.63it/s]\n",
      "Team 2: 5000it [00:03, 1539.55it/s]\n",
      "Team 3: 5000it [00:01, 3968.99it/s]\n",
      "Team 4: 5000it [00:01, 2614.99it/s]\n",
      "Getting model importances: 100%|██████████| 10/10 [00:38<00:00,  3.81s/it]\n"
     ]
    },
    {
     "name": "stdout",
     "output_type": "stream",
     "text": [
      "Loaded data for center frequency -0.010000000000000009\n",
      "Number of missing labels: 0\n",
      "Processing data...\n"
     ]
    },
    {
     "name": "stderr",
     "output_type": "stream",
     "text": [
      "Team 1: 5000it [00:01, 2932.00it/s]\n",
      "Team 2: 5000it [00:03, 1634.68it/s]\n",
      "Team 3: 5000it [00:01, 4045.76it/s]\n",
      "Team 4: 5000it [00:01, 2590.38it/s]\n",
      "Getting model importances: 100%|██████████| 10/10 [00:35<00:00,  3.54s/it]\n"
     ]
    },
    {
     "name": "stdout",
     "output_type": "stream",
     "text": [
      "Loaded data for center frequency -0.060000000000000005\n",
      "Number of missing labels: 0\n",
      "Processing data...\n"
     ]
    },
    {
     "name": "stderr",
     "output_type": "stream",
     "text": [
      "Team 1: 5000it [00:01, 2959.98it/s]\n",
      "Team 2: 5000it [00:02, 2236.98it/s]\n",
      "Team 3: 5000it [00:01, 4078.41it/s]\n",
      "Team 4: 5000it [00:01, 2607.68it/s]\n",
      "Getting model importances: 100%|██████████| 10/10 [01:05<00:00,  6.55s/it]\n"
     ]
    },
    {
     "name": "stdout",
     "output_type": "stream",
     "text": [
      "Loaded data for center frequency 0.1\n",
      "Number of missing labels: 0\n",
      "Processing data...\n"
     ]
    },
    {
     "name": "stderr",
     "output_type": "stream",
     "text": [
      "Team 1: 5000it [00:01, 2882.18it/s]\n",
      "Team 2: 5000it [00:02, 2259.04it/s]\n",
      "Team 3: 5000it [00:01, 3947.17it/s]\n",
      "Team 4: 5000it [00:01, 2573.53it/s]\n",
      "Getting model importances: 100%|██████████| 10/10 [01:02<00:00,  6.23s/it]\n"
     ]
    },
    {
     "name": "stdout",
     "output_type": "stream",
     "text": [
      "Loaded data for center frequency -0.1\n",
      "Number of missing labels: 0\n",
      "Processing data...\n"
     ]
    },
    {
     "name": "stderr",
     "output_type": "stream",
     "text": [
      "Team 1: 5000it [00:01, 2921.10it/s]\n",
      "Team 2: 5000it [00:02, 2290.67it/s]\n",
      "Team 3: 5000it [00:01, 3908.54it/s]\n",
      "Team 4: 5000it [00:02, 1962.79it/s]\n",
      "Getting model importances: 100%|██████████| 10/10 [00:58<00:00,  5.88s/it]\n"
     ]
    },
    {
     "name": "stdout",
     "output_type": "stream",
     "text": [
      "Loaded data for center frequency 0.07999999999999999\n",
      "Number of missing labels: 0\n",
      "Processing data...\n"
     ]
    },
    {
     "name": "stderr",
     "output_type": "stream",
     "text": [
      "Team 1: 5000it [00:01, 2844.79it/s]\n",
      "Team 2: 5000it [00:02, 2272.84it/s]\n",
      "Team 3: 5000it [00:01, 3889.72it/s]\n",
      "Team 4: 5000it [00:01, 2556.95it/s]\n",
      "Getting model importances: 100%|██████████| 10/10 [01:01<00:00,  6.20s/it]\n"
     ]
    },
    {
     "name": "stdout",
     "output_type": "stream",
     "text": [
      "Loaded data for center frequency -0.020000000000000004\n",
      "Number of missing labels: 0\n",
      "Processing data...\n"
     ]
    },
    {
     "name": "stderr",
     "output_type": "stream",
     "text": [
      "Team 1: 5000it [00:02, 2061.70it/s]\n",
      "Team 2: 5000it [00:03, 1398.99it/s]\n",
      "Team 3: 5000it [00:01, 3993.32it/s]\n",
      "Team 4: 5000it [00:01, 2562.70it/s]\n",
      "Getting model importances: 100%|██████████| 10/10 [00:47<00:00,  4.73s/it]\n"
     ]
    },
    {
     "name": "stdout",
     "output_type": "stream",
     "text": [
      "Loaded data for center frequency 0.04999999999999999\n",
      "Number of missing labels: 0\n",
      "Processing data...\n"
     ]
    },
    {
     "name": "stderr",
     "output_type": "stream",
     "text": [
      "Team 1: 5000it [00:01, 2944.19it/s]\n",
      "Team 2: 5000it [00:02, 1803.37it/s]\n",
      "Team 3: 5000it [00:01, 3853.38it/s]\n",
      "Team 4: 5000it [00:01, 2509.39it/s]\n",
      "Getting model importances: 100%|██████████| 10/10 [00:59<00:00,  5.91s/it]\n"
     ]
    },
    {
     "name": "stdout",
     "output_type": "stream",
     "text": [
      "Loaded data for center frequency -0.03\n",
      "Number of missing labels: 0\n",
      "Processing data...\n"
     ]
    },
    {
     "name": "stderr",
     "output_type": "stream",
     "text": [
      "Team 1: 5000it [00:01, 2677.63it/s]\n",
      "Team 2: 5000it [00:02, 2203.29it/s]\n",
      "Team 3: 5000it [00:01, 3863.78it/s]\n",
      "Team 4: 5000it [00:01, 2518.73it/s]\n",
      "Getting model importances: 100%|██████████| 10/10 [00:59<00:00,  5.99s/it]\n"
     ]
    },
    {
     "name": "stdout",
     "output_type": "stream",
     "text": [
      "Loaded data for center frequency -0.07\n",
      "Number of missing labels: 0\n",
      "Processing data...\n"
     ]
    },
    {
     "name": "stderr",
     "output_type": "stream",
     "text": [
      "Team 1: 5000it [00:02, 2392.35it/s]\n",
      "Team 2: 5000it [00:02, 2179.54it/s]\n",
      "Team 3: 5000it [00:01, 3836.77it/s]\n",
      "Team 4: 5000it [00:02, 2493.42it/s]\n",
      "Getting model importances: 100%|██████████| 10/10 [01:08<00:00,  6.88s/it]\n"
     ]
    },
    {
     "name": "stdout",
     "output_type": "stream",
     "text": [
      "Loaded data for center frequency -0.05\n",
      "Number of missing labels: 0\n",
      "Processing data...\n"
     ]
    },
    {
     "name": "stderr",
     "output_type": "stream",
     "text": [
      "Team 1: 5000it [00:01, 2584.43it/s]\n",
      "Team 2: 5000it [00:02, 1934.17it/s]\n",
      "Team 3: 5000it [00:01, 3070.69it/s]\n",
      "Team 4: 5000it [00:02, 1969.35it/s]\n",
      "Getting model importances: 100%|██████████| 10/10 [00:57<00:00,  5.76s/it]\n"
     ]
    },
    {
     "name": "stdout",
     "output_type": "stream",
     "text": [
      "Loaded data for center frequency 0.03\n",
      "Number of missing labels: 0\n",
      "Processing data...\n"
     ]
    },
    {
     "name": "stderr",
     "output_type": "stream",
     "text": [
      "Team 1: 5000it [00:01, 2585.74it/s]\n",
      "Team 2: 5000it [00:02, 2206.68it/s]\n",
      "Team 3: 5000it [00:01, 3966.72it/s]\n",
      "Team 4: 5000it [00:02, 1985.01it/s]\n",
      "Getting model importances: 100%|██████████| 10/10 [00:49<00:00,  4.92s/it]\n"
     ]
    },
    {
     "name": "stdout",
     "output_type": "stream",
     "text": [
      "Loaded data for center frequency 0.09\n",
      "Number of missing labels: 0\n",
      "Processing data...\n"
     ]
    },
    {
     "name": "stderr",
     "output_type": "stream",
     "text": [
      "Team 1: 5000it [00:03, 1612.39it/s]\n",
      "Team 2: 5000it [00:02, 2208.46it/s]\n",
      "Team 3: 5000it [00:01, 3828.83it/s]\n",
      "Team 4: 5000it [00:02, 2404.64it/s]\n",
      "Getting model importances: 100%|██████████| 10/10 [01:05<00:00,  6.51s/it]\n"
     ]
    },
    {
     "name": "stdout",
     "output_type": "stream",
     "text": [
      "Loaded data for center frequency 0.01999999999999999\n",
      "Number of missing labels: 0\n",
      "Processing data...\n"
     ]
    },
    {
     "name": "stderr",
     "output_type": "stream",
     "text": [
      "Team 1: 5000it [00:02, 1740.70it/s]\n",
      "Team 2: 5000it [00:03, 1438.65it/s]\n",
      "Team 3: 5000it [00:02, 2295.21it/s]\n",
      "Team 4: 5000it [00:02, 2487.36it/s]\n",
      "Getting model importances: 100%|██████████| 10/10 [00:49<00:00,  4.98s/it]\n"
     ]
    },
    {
     "name": "stdout",
     "output_type": "stream",
     "text": [
      "Loaded data for center frequency -0.09000000000000001\n",
      "Number of missing labels: 0\n",
      "Processing data...\n"
     ]
    },
    {
     "name": "stderr",
     "output_type": "stream",
     "text": [
      "Team 1: 5000it [00:01, 2929.36it/s]\n",
      "Team 2: 5000it [00:02, 1773.87it/s]\n",
      "Team 3: 5000it [00:01, 2903.28it/s]\n",
      "Team 4: 5000it [00:01, 2573.67it/s]\n",
      "Getting model importances: 100%|██████████| 10/10 [00:54<00:00,  5.47s/it]\n"
     ]
    },
    {
     "name": "stdout",
     "output_type": "stream",
     "text": [
      "Loaded data for center frequency 0.04000000000000001\n",
      "Number of missing labels: 0\n",
      "Processing data...\n"
     ]
    },
    {
     "name": "stderr",
     "output_type": "stream",
     "text": [
      "Team 1: 5000it [00:02, 2226.48it/s]\n",
      "Team 2: 5000it [00:02, 2219.54it/s]\n",
      "Team 3: 5000it [00:01, 3849.01it/s]\n",
      "Team 4: 5000it [00:01, 2607.42it/s]\n",
      "Getting model importances: 100%|██████████| 10/10 [00:51<00:00,  5.18s/it]\n"
     ]
    },
    {
     "name": "stdout",
     "output_type": "stream",
     "text": [
      "Loaded data for center frequency 0.0\n",
      "Number of missing labels: 0\n",
      "Processing data...\n"
     ]
    },
    {
     "name": "stderr",
     "output_type": "stream",
     "text": [
      "Team 1: 5000it [00:01, 2984.90it/s]\n",
      "Team 2: 5000it [00:02, 2280.29it/s]\n",
      "Team 3: 5000it [00:02, 2185.75it/s]\n",
      "Team 4: 5000it [00:01, 2524.35it/s]\n",
      "Getting model importances: 100%|██████████| 10/10 [00:41<00:00,  4.17s/it]"
     ]
    },
    {
     "name": "stdout",
     "output_type": "stream",
     "text": [
      "      cf    Team 1    Team 2    Team 3    Team 4\n",
      "0  -0.08  0.523286  0.348665  0.027116  0.100932\n",
      "1  -0.04  0.598053  0.276795  0.015222  0.109930\n",
      "2   0.06  0.431136  0.447544  0.022525  0.098795\n",
      "3   0.07  0.427725  0.433108  0.027063  0.112104\n",
      "4   0.01  0.709954  0.280504  0.001837  0.007705\n",
      "5  -0.01  0.629145  0.234215  0.002700  0.133940\n",
      "6  -0.06  0.423776  0.456598  0.031526  0.088101\n",
      "7   0.10  0.691317  0.193214  0.021555  0.093914\n",
      "8  -0.10  0.469475  0.407528  0.035635  0.087362\n",
      "9   0.08  0.555787  0.316279  0.026938  0.100996\n",
      "10 -0.02  0.614678  0.091309  0.150078  0.143935\n",
      "11  0.05  0.441638  0.448722  0.018854  0.090787\n",
      "12 -0.03  0.588448  0.281012  0.020726  0.109815\n",
      "13 -0.07  0.535537  0.335442  0.032317  0.096704\n",
      "14 -0.05  0.594918  0.288217  0.020862  0.096003\n",
      "15  0.03  0.415792  0.450867  0.026698  0.106643\n",
      "16  0.09  0.586729  0.278596  0.020855  0.113821\n",
      "17  0.02  0.482249  0.184419  0.140539  0.192793\n",
      "18 -0.09  0.549077  0.326955  0.030670  0.093299\n",
      "19  0.04  0.437660  0.440802  0.013233  0.108305\n",
      "20  0.00  0.648687  0.341438  0.002765  0.007110\n"
     ]
    },
    {
     "name": "stderr",
     "output_type": "stream",
     "text": [
      "\n"
     ]
    },
    {
     "data": {
      "image/png": "[encoded data removed]",
      "text/plain": [
       "<Figure size 640x480 with 1 Axes>"
      ]
     },
     "metadata": {},
     "output_type": "display_data"
    }
   ],
   "source": [
    "num_batches = 1\n",
    "CHUNK_SIZE = 5000\n",
    "num_examples = num_batches * CHUNK_SIZE\n",
    "OBS_INT = 2048\n",
    "NUM_ITERATIONS = 10\n",
    "\n",
    "folder_version = 'cent_freqs'\n",
    "\n",
    "team1_cf_dir = os.path.join(team1_test_dir, folder_version)\n",
    "team2_cf_dir = os.path.join(team2_test_dir, folder_version)\n",
    "team3_cf_dir = os.path.join(team3_test_dir, folder_version)\n",
    "team4_cf_dir = os.path.join(team4_test_dir, folder_version)\n",
    "\n",
    "cf_folder_names = []\n",
    "processed_cfs = []\n",
    "team1_importances = []\n",
    "team2_importances = []\n",
    "team3_importances = []\n",
    "team4_importances = []\n",
    "\n",
    "# Iterate over every folder in the center frequencies directory\n",
    "for path, subdirs, files in os.walk(team1_cf_dir):\n",
    "    # If we're in the top-level center frequency directory, get the values from all the folder names\n",
    "    if os.path.basename(path) == folder_version:\n",
    "        cf_folder_names = subdirs\n",
    "    elif os.path.basename(path) in cf_folder_names:\n",
    "        cf = float(os.path.basename(path))\n",
    "        \n",
    "        # Load the IQ and label data for this center frequency\n",
    "        labels = load_labels(path, 1, num_batches, num_examples, OBS_INT)        \n",
    "        team1_dataloader = load_data(os.path.join(team1_cf_dir, str(cf)), 1, num_batches, num_examples, TEAM1_OBS_INT)\n",
    "        team2_dataloader = load_data(os.path.join(team2_cf_dir, str(cf)), 1, num_batches, num_examples, TEAM2_OBS_INT)\n",
    "        team3_dataloader = load_data(os.path.join(team3_cf_dir, str(cf)), 1, num_batches, num_examples, TEAM3_OBS_INT)\n",
    "        team4_dataloader = load_data(os.path.join(team4_cf_dir, str(cf)), 1, num_batches, num_examples, TEAM4_OBS_INT)\n",
    "        print(f'Loaded data for center frequency {cf}')\n",
    "        \n",
    "        count_all_zeros = 0\n",
    "        labels = np.squeeze(labels.numpy())\n",
    "        for i in range(len(labels)):\n",
    "            if np.sum(labels[i]) == 0:\n",
    "                count_all_zeros += 1\n",
    "        print(\"Number of missing labels:\", count_all_zeros)\n",
    "        \n",
    "        print('Processing data...')\n",
    "        # Extract features from Team 1's model\n",
    "        team1_selected_layer.register_forward_hook(get_features('feats'))\n",
    "        team1_model.to(device)\n",
    "        team1_feats_list = []\n",
    "        features = {}\n",
    "        # Feed the IQ data into the model\n",
    "        for idx, inputs in tqdm(enumerate(team1_dataloader), desc='Team 1'):\n",
    "            with torch.inference_mode():\n",
    "                preds = team1_model(inputs.to(device))\n",
    "            team1_feats_list.append(features['feats'].cpu().numpy())\n",
    "        team1_feats_list = np.concatenate(team1_feats_list)\n",
    "        features1 = np.array(team1_feats_list)\n",
    "        features1 = torch.tensor(features1)\n",
    "        features1 = features1.reshape(-1, features1.shape[-1])\n",
    "        if features1.shape[1] != NUM_FEATS_T1:\n",
    "            print(f'Error: Number of features extracted from team 1 model doesn\\'t match expected value ({NUM_FEATS_T1})')\n",
    "        \n",
    "        # Extract features from Team 2's model\n",
    "        team2_selected_layer.register_forward_hook(get_features('feats'))\n",
    "        team2_model.to(device)\n",
    "        team2_feats_list = []\n",
    "        features = {}\n",
    "        # Feed the IQ data into the model\n",
    "        for idx, inputs in tqdm(enumerate(team2_dataloader), desc='Team 2'):\n",
    "            with torch.inference_mode():\n",
    "                preds = team2_model(inputs.to(device))\n",
    "            team2_feats_list.append(features['feats'].cpu().numpy())\n",
    "        team2_feats_list = np.concatenate(team2_feats_list)\n",
    "        features2 = np.array(team2_feats_list)\n",
    "        features2 = torch.tensor(features2)\n",
    "        features2 = features2.reshape(-1, features2.shape[-1])\n",
    "        if features2.shape[1] != NUM_FEATS_T2:\n",
    "            print(f'Error: Number of features extracted from team 2 model doesn\\'t match expected value ({NUM_FEATS_T2})')\n",
    "        \n",
    "        # Extract features from Team 3's model\n",
    "        team3_selected_layer.register_forward_hook(get_features('feats'))\n",
    "        team3_model.to(device)\n",
    "        team3_feats_list = []\n",
    "        features = {}\n",
    "        # Feed the IQ data into the model\n",
    "        for idx, inputs in tqdm(enumerate(team3_dataloader), desc='Team 3'):\n",
    "            with torch.inference_mode():\n",
    "                preds = team3_model(inputs.to(device))\n",
    "            team3_feats_list.append(features['feats'].cpu().numpy())\n",
    "        team3_feats_list = np.concatenate(team3_feats_list)\n",
    "        features3 = np.array(team3_feats_list)\n",
    "        features3 = torch.tensor(features3)\n",
    "        features3 = features3.reshape(-1, features3.shape[-1])\n",
    "        if features3.shape[1] != NUM_FEATS_T3:\n",
    "            print(f'Error: Number of features extracted from team 3 model doesn\\'t match expected value ({NUM_FEATS_T3})')\n",
    "        \n",
    "        # Extract features from team 4's model\n",
    "        team4_selected_layer.register_forward_hook(get_features('feats'))\n",
    "        team4_model.to(device)\n",
    "        team4_feats_list = []\n",
    "        features = {}\n",
    "        # Feed the IQ data into the model\n",
    "        for idx, inputs in tqdm(enumerate(team4_dataloader), desc='Team 4'):\n",
    "            with torch.inference_mode():\n",
    "                preds = team4_model(inputs.to(device))\n",
    "            team4_feats_list.append(features['feats'].cpu().numpy())\n",
    "        team4_feats_list = np.concatenate(team4_feats_list)\n",
    "        features4 = np.array(team4_feats_list)\n",
    "        features4 = torch.tensor(features4)\n",
    "        features4 = features4.reshape(-1, features4.shape[-1])\n",
    "        if features4.shape[1] != NUM_FEATS_T4:\n",
    "            print(f'Error: Number of features extracted from team 4 model doesn\\'t match expected value ({NUM_FEATS_T4})')\n",
    "        \n",
    "        combined_tensor = torch.cat((features1, features2, features3, features4), dim=1)\n",
    "        \n",
    "        # Note: Decision tree classifiers use a stochastic algorithm so we take model importance as the average over multiple iterations\n",
    "        team1_avg_importance = 0.0\n",
    "        team2_avg_importance = 0.0\n",
    "        team3_avg_importance = 0.0\n",
    "        team4_avg_importance = 0.0\n",
    "        for i in tqdm(range(NUM_ITERATIONS), desc='Getting model importances'):\n",
    "            model = DecisionTreeClassifier()\n",
    "            model.fit(combined_tensor, labels)\n",
    "            importances = model.feature_importances_\n",
    "            importances = np.array(importances)\n",
    "        \n",
    "            team1_avg_importance += np.sum(importances[ARRAY_START_IDX_T1:ARRAY_START_IDX_T2])\n",
    "            team2_avg_importance += np.sum(importances[ARRAY_START_IDX_T2:ARRAY_START_IDX_T3])\n",
    "            team3_avg_importance += np.sum(importances[ARRAY_START_IDX_T3:ARRAY_START_IDX_T4])\n",
    "            team4_avg_importance += np.sum(importances[ARRAY_START_IDX_T4:len(importances)])\n",
    "        team1_avg_importance /= NUM_ITERATIONS\n",
    "        team2_avg_importance /= NUM_ITERATIONS\n",
    "        team3_avg_importance /= NUM_ITERATIONS\n",
    "        team4_avg_importance /= NUM_ITERATIONS\n",
    "            \n",
    "        importances_sum = team1_avg_importance + team2_avg_importance + team3_avg_importance + team4_avg_importance\n",
    "        #print(f'Team 1 avg. importance: {team1_avg_importance}')\n",
    "        #print(f'Team 2 avg. importance: {team2_avg_importance}')\n",
    "        #print(f'Team 3 avg. importance: {team3_avg_importance}')\n",
    "        #print(f'Team 4 avg. importance: {team4_avg_importance}')\n",
    "        if not math.isclose(1.0, importances_sum, abs_tol=0.01):\n",
    "            print(f'Error: Importances do not sum to 1.0 (Was {importances_sum})')\n",
    "        \n",
    "        processed_cfs.append(cf)\n",
    "        team1_importances.append(team1_avg_importance)\n",
    "        team2_importances.append(team2_avg_importance)\n",
    "        team3_importances.append(team3_avg_importance)\n",
    "        team4_importances.append(team4_avg_importance)\n",
    "\n",
    "df = pd.DataFrame(\n",
    "    {'cf': processed_cfs,\n",
    "     'Team 1': team1_importances,\n",
    "     'Team 2': team2_importances,\n",
    "     'Team 3': team3_importances,\n",
    "     'Team 4': team4_importances,\n",
    "    })\n",
    "print(df.to_string())\n",
    "df.sort_values(by=['cf'], inplace=True)\n",
    "df.plot.line(x='cf')\n",
    "\n",
    "plt.ylabel('Average Feature Importance')\n",
    "plt.xlabel('Center Frequency')\n",
    "plt.title('Average Feature Importance vs. Center Frequency, All Models')\n",
    "plt.savefig('../data/fusion_plots/feature_importances/avg_feat_importance_cf.png')\n",
    "plt.show()"
   ]
  },
  {
   "cell_type": "markdown",
   "id": "6da636f2-3c30-41f9-bd4b-c87a31989976",
   "metadata": {},
   "source": [
    "## Plot feature contribution over observation intervals"
   ]
  },
  {
   "cell_type": "code",
   "execution_count": 15,
   "id": "bc71eaca-4321-4bc7-aa5f-28dbaded6a2e",
   "metadata": {
    "tags": []
   },
   "outputs": [
    {
     "name": "stdout",
     "output_type": "stream",
     "text": [
      "Loaded data for obs int 2048\n",
      "Number of missing labels: 0\n",
      "Processing data...\n"
     ]
    },
    {
     "name": "stderr",
     "output_type": "stream",
     "text": [
      "Team 1: 5000it [00:02, 1672.87it/s]\n",
      "Team 2: 5000it [00:03, 1416.01it/s]\n",
      "Team 3: 5000it [00:01, 3873.22it/s]\n",
      "Team 4: 5000it [00:01, 2540.64it/s]\n",
      "Getting model importances: 100%|██████████| 10/10 [00:32<00:00,  3.26s/it]\n"
     ]
    },
    {
     "name": "stdout",
     "output_type": "stream",
     "text": [
      "Loaded data for obs int 128\n",
      "Number of missing labels: 0\n",
      "Processing data...\n"
     ]
    },
    {
     "name": "stderr",
     "output_type": "stream",
     "text": [
      "Team 1: 5000it [00:01, 2928.80it/s]\n",
      "Team 2: 5000it [00:02, 2224.94it/s]\n",
      "Team 3: 5000it [00:01, 3907.11it/s]\n",
      "Team 4: 5000it [00:01, 2602.81it/s]\n",
      "Getting model importances: 100%|██████████| 10/10 [01:06<00:00,  6.62s/it]\n"
     ]
    },
    {
     "name": "stdout",
     "output_type": "stream",
     "text": [
      "Loaded data for obs int 512\n",
      "Number of missing labels: 0\n",
      "Processing data...\n"
     ]
    },
    {
     "name": "stderr",
     "output_type": "stream",
     "text": [
      "Team 1: 5000it [00:01, 2942.38it/s]\n",
      "Team 2: 5000it [00:02, 2202.01it/s]\n",
      "Team 3: 5000it [00:01, 2509.61it/s]\n",
      "Team 4: 5000it [00:01, 2611.14it/s]\n",
      "Getting model importances: 100%|██████████| 10/10 [00:55<00:00,  5.52s/it]\n"
     ]
    },
    {
     "name": "stdout",
     "output_type": "stream",
     "text": [
      "Loaded data for obs int 256\n",
      "Number of missing labels: 0\n",
      "Processing data...\n"
     ]
    },
    {
     "name": "stderr",
     "output_type": "stream",
     "text": [
      "Team 1: 5000it [00:02, 1912.97it/s]\n",
      "Team 2: 5000it [00:02, 2099.40it/s]\n",
      "Team 3: 5000it [00:01, 2656.62it/s]\n",
      "Team 4: 5000it [00:02, 1942.18it/s]\n",
      "Getting model importances: 100%|██████████| 10/10 [00:55<00:00,  5.52s/it]\n"
     ]
    },
    {
     "name": "stdout",
     "output_type": "stream",
     "text": [
      "Loaded data for obs int 64\n",
      "Number of missing labels: 0\n",
      "Processing data...\n"
     ]
    },
    {
     "name": "stderr",
     "output_type": "stream",
     "text": [
      "Team 1: 5000it [00:01, 2884.23it/s]\n",
      "Team 2: 5000it [00:02, 2216.60it/s]\n",
      "Team 3: 5000it [00:01, 3802.22it/s]\n",
      "Team 4: 5000it [00:02, 1946.27it/s]\n",
      "Getting model importances: 100%|██████████| 10/10 [01:08<00:00,  6.89s/it]\n"
     ]
    },
    {
     "name": "stdout",
     "output_type": "stream",
     "text": [
      "Loaded data for obs int 1024\n",
      "Number of missing labels: 0\n",
      "Processing data...\n"
     ]
    },
    {
     "name": "stderr",
     "output_type": "stream",
     "text": [
      "Team 1: 5000it [00:01, 2930.92it/s]\n",
      "Team 2: 5000it [00:02, 2239.64it/s]\n",
      "Team 3: 5000it [00:01, 3848.59it/s]\n",
      "Team 4: 5000it [00:01, 2574.82it/s]\n",
      "Getting model importances: 100%|██████████| 10/10 [00:39<00:00,  3.98s/it]"
     ]
    },
    {
     "name": "stdout",
     "output_type": "stream",
     "text": [
      "    obs    Team 1    Team 2    Team 3    Team 4\n",
      "0  2048  0.955157  0.040218  0.002462  0.002163\n",
      "1   128  0.076642  0.376930  0.023238  0.523190\n",
      "2   512  0.178140  0.401935  0.149881  0.270043\n",
      "3   256  0.046568  0.373547  0.018131  0.561754\n",
      "4    64  0.183514  0.454500  0.052680  0.309305\n",
      "5  1024  0.087608  0.890579  0.005766  0.016047\n"
     ]
    },
    {
     "name": "stderr",
     "output_type": "stream",
     "text": [
      "\n"
     ]
    },
    {
     "data": {
      "image/png": "[encoded data removed]",
      "text/plain": [
       "<Figure size 640x480 with 1 Axes>"
      ]
     },
     "metadata": {},
     "output_type": "display_data"
    }
   ],
   "source": [
    "num_batches = 1\n",
    "CHUNK_SIZE = 5000\n",
    "num_examples = num_batches * CHUNK_SIZE\n",
    "OBS_INT = 2048\n",
    "NUM_ITERATIONS = 10\n",
    "\n",
    "team1_obs_dir = os.path.join(team1_test_dir, 'obs_ints')\n",
    "team2_obs_dir = os.path.join(team2_test_dir, 'obs_ints')\n",
    "team3_obs_dir = os.path.join(team3_test_dir, 'obs_ints')\n",
    "team4_obs_dir = os.path.join(team4_test_dir, 'obs_ints')\n",
    "\n",
    "obs_folder_names = []\n",
    "processed_obs = []\n",
    "team1_importances = []\n",
    "team2_importances = []\n",
    "team3_importances = []\n",
    "team4_importances = []\n",
    "\n",
    "# Iterate over every folder in the obs int directory\n",
    "for path, subdirs, files in os.walk(team1_obs_dir):\n",
    "    # If we're in the top-level obs int directory, get the values from all the folder names\n",
    "    if os.path.basename(path) == 'obs_ints':\n",
    "        obs_folder_names = subdirs\n",
    "    elif os.path.basename(path) in obs_folder_names:\n",
    "        obs = int(os.path.basename(path))\n",
    "        \n",
    "        # Load the IQ and label data for this obs int\n",
    "        labels = load_labels(path, 1, num_batches, num_examples, OBS_INT)        \n",
    "        team1_dataloader = load_data(os.path.join(team1_obs_dir, str(obs)), 1, num_batches, num_examples, obs)\n",
    "        team2_dataloader = load_data(os.path.join(team2_obs_dir, str(obs)), 1, num_batches, num_examples, obs)\n",
    "        team3_dataloader = load_data(os.path.join(team3_obs_dir, str(obs)), 1, num_batches, num_examples, obs)\n",
    "        team4_dataloader = load_data(os.path.join(team4_obs_dir, str(obs)), 1, num_batches, num_examples, obs)\n",
    "        print(f'Loaded data for obs int {obs}')\n",
    "        \n",
    "        count_all_zeros = 0\n",
    "        labels = np.squeeze(labels.numpy())\n",
    "        for i in range(len(labels)):\n",
    "            if np.sum(labels[i]) == 0:\n",
    "                count_all_zeros += 1\n",
    "        print(\"Number of missing labels:\", count_all_zeros)\n",
    "        \n",
    "        print('Processing data...')\n",
    "        # Extract features from Team 1's model\n",
    "        team1_selected_layer.register_forward_hook(get_features('feats'))\n",
    "        team1_model.to(device)\n",
    "        team1_feats_list = []\n",
    "        features = {}\n",
    "        # Feed the IQ data into the model\n",
    "        for idx, inputs in tqdm(enumerate(team1_dataloader), desc='Team 1'):\n",
    "            with torch.inference_mode():\n",
    "                preds = team1_model(inputs.to(device))\n",
    "            team1_feats_list.append(features['feats'].cpu().numpy())\n",
    "        team1_feats_list = np.concatenate(team1_feats_list)\n",
    "        features1 = np.array(team1_feats_list)\n",
    "        features1 = torch.tensor(features1)\n",
    "        features1 = features1.reshape(-1, features1.shape[-1])\n",
    "        if features1.shape[1] != NUM_FEATS_T1:\n",
    "            print(f'Error: Number of features extracted from team 1 model doesn\\'t match expected value ({NUM_FEATS_T1})')\n",
    "        \n",
    "        # Extract features from Team 2's model\n",
    "        team2_selected_layer.register_forward_hook(get_features('feats'))\n",
    "        team2_model.to(device)\n",
    "        team2_feats_list = []\n",
    "        features = {}\n",
    "        # Feed the IQ data into the model\n",
    "        for idx, inputs in tqdm(enumerate(team2_dataloader), desc='Team 2'):\n",
    "            with torch.inference_mode():\n",
    "                preds = team2_model(inputs.to(device))\n",
    "            team2_feats_list.append(features['feats'].cpu().numpy())\n",
    "        team2_feats_list = np.concatenate(team2_feats_list)\n",
    "        features2 = np.array(team2_feats_list)\n",
    "        features2 = torch.tensor(features2)\n",
    "        features2 = features2.reshape(-1, features2.shape[-1])\n",
    "        if features2.shape[1] != NUM_FEATS_T2:\n",
    "            print(f'Error: Number of features extracted from team 2 model doesn\\'t match expected value ({NUM_FEATS_T2})')\n",
    "        \n",
    "        # Extract features from Team 3's model\n",
    "        team3_selected_layer.register_forward_hook(get_features('feats'))\n",
    "        team3_model.to(device)\n",
    "        team3_feats_list = []\n",
    "        features = {}\n",
    "        # Feed the IQ data into the model\n",
    "        for idx, inputs in tqdm(enumerate(team3_dataloader), desc='Team 3'):\n",
    "            with torch.inference_mode():\n",
    "                preds = team3_model(inputs.to(device))\n",
    "            team3_feats_list.append(features['feats'].cpu().numpy())\n",
    "        team3_feats_list = np.concatenate(team3_feats_list)\n",
    "        features3 = np.array(team3_feats_list)\n",
    "        features3 = torch.tensor(features3)\n",
    "        features3 = features3.reshape(-1, features3.shape[-1])\n",
    "        if features3.shape[1] != NUM_FEATS_T3:\n",
    "            print(f'Error: Number of features extracted from team 3 model doesn\\'t match expected value ({NUM_FEATS_T3})')\n",
    "        \n",
    "        # Extract features from team 4's model\n",
    "        team4_selected_layer.register_forward_hook(get_features('feats'))\n",
    "        team4_model.to(device)\n",
    "        team4_feats_list = []\n",
    "        features = {}\n",
    "        # Feed the IQ data into the model\n",
    "        for idx, inputs in tqdm(enumerate(team4_dataloader), desc='Team 4'):\n",
    "            with torch.inference_mode():\n",
    "                preds = team4_model(inputs.to(device))\n",
    "            team4_feats_list.append(features['feats'].cpu().numpy())\n",
    "        team4_feats_list = np.concatenate(team4_feats_list)\n",
    "        features4 = np.array(team4_feats_list)\n",
    "        features4 = torch.tensor(features4)\n",
    "        features4 = features4.reshape(-1, features4.shape[-1])\n",
    "        if features4.shape[1] != NUM_FEATS_T4:\n",
    "            print(f'Error: Number of features extracted from team 4 model doesn\\'t match expected value ({NUM_FEATS_T4})')\n",
    "        \n",
    "        combined_tensor = torch.cat((features1, features2, features3, features4), dim=1)\n",
    "        \n",
    "        # Note: Decision tree classifiers use a stochastic algorithm so we take model importance as the average over multiple iterations\n",
    "        team1_avg_importance = 0.0\n",
    "        team2_avg_importance = 0.0\n",
    "        team3_avg_importance = 0.0\n",
    "        team4_avg_importance = 0.0\n",
    "        for i in tqdm(range(NUM_ITERATIONS), desc='Getting model importances'):\n",
    "            model = DecisionTreeClassifier()\n",
    "            model.fit(combined_tensor, labels)\n",
    "            importances = model.feature_importances_\n",
    "            importances = np.array(importances)\n",
    "        \n",
    "            team1_avg_importance += np.sum(importances[ARRAY_START_IDX_T1:ARRAY_START_IDX_T2])\n",
    "            team2_avg_importance += np.sum(importances[ARRAY_START_IDX_T2:ARRAY_START_IDX_T3])\n",
    "            team3_avg_importance += np.sum(importances[ARRAY_START_IDX_T3:ARRAY_START_IDX_T4])\n",
    "            team4_avg_importance += np.sum(importances[ARRAY_START_IDX_T4:len(importances)])\n",
    "        team1_avg_importance /= NUM_ITERATIONS\n",
    "        team2_avg_importance /= NUM_ITERATIONS\n",
    "        team3_avg_importance /= NUM_ITERATIONS\n",
    "        team4_avg_importance /= NUM_ITERATIONS\n",
    "            \n",
    "        importances_sum = team1_avg_importance + team2_avg_importance + team3_avg_importance + team4_avg_importance\n",
    "        #print(f'Team 1 avg. importance: {team1_avg_importance}')\n",
    "        #print(f'Team 2 avg. importance: {team2_avg_importance}')\n",
    "        #print(f'Team 3 avg. importance: {team3_avg_importance}')\n",
    "        #print(f'Team 4 avg. importance: {team4_avg_importance}')\n",
    "        if not math.isclose(1.0, importances_sum, abs_tol=0.01):\n",
    "            print(f'Error: Importances do not sum to 1.0 (Was {importances_sum})')\n",
    "        \n",
    "        processed_obs.append(obs)\n",
    "        team1_importances.append(team1_avg_importance)\n",
    "        team2_importances.append(team2_avg_importance)\n",
    "        team3_importances.append(team3_avg_importance)\n",
    "        team4_importances.append(team4_avg_importance)\n",
    "\n",
    "df = pd.DataFrame(\n",
    "    {'obs': processed_obs,\n",
    "     'Team 1': team1_importances,\n",
    "     'Team 2': team2_importances,\n",
    "     'Team 3': team3_importances,\n",
    "     'Team 4': team4_importances,\n",
    "    })\n",
    "print(df.to_string())\n",
    "df.sort_values(by=['obs'], inplace=True)\n",
    "df.plot.line(x='obs')\n",
    "\n",
    "plt.ylabel('Average Feature Importance')\n",
    "plt.xlabel('Observation Interval')\n",
    "plt.title('Average Feature Importance vs. Observation Interval, All Models')\n",
    "plt.savefig('../data/fusion_plots/feature_importances/avg_feat_importance_obs_int.png')\n",
    "plt.show()"
   ]
  },
  {
   "cell_type": "code",
   "execution_count": null,
   "id": "45de0574-d35d-4293-8c44-6fedf3247256",
   "metadata": {},
   "outputs": [],
   "source": []
  }
 ],
 "metadata": {
  "kernelspec": {
   "display_name": "Python 3 (ipykernel)",
   "language": "python",
   "name": "python3"
  },
  "language_info": {
   "codemirror_mode": {
    "name": "ipython",
    "version": 3
   },
   "file_extension": ".py",
   "mimetype": "text/x-python",
   "name": "python",
   "nbconvert_exporter": "python",
   "pygments_lexer": "ipython3",
   "version": "3.11.7"
  }
 },
 "nbformat": 4,
 "nbformat_minor": 5
}
